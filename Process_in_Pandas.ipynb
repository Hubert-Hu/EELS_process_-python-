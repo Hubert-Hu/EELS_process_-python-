{
 "cells": [
  {
   "cell_type": "code",
   "execution_count": 1,
   "metadata": {
    "collapsed": true
   },
   "outputs": [],
   "source": [
    "%matplotlib inline"
   ]
  },
  {
   "cell_type": "markdown",
   "metadata": {},
   "source": [
    "# DM3 to Pandas DataFrame in heating experiments\n",
    "This file is used to load DM3 data file, and create a Pandas DataFrame to store this information. We would like to store all the related DM3 information in one DataFrame.<br>\n",
    "\n",
    "The features of DataFrame are: 'Temperature', 'Nanoflake #', 'Thickness', 'Layer', 'EELS Spectrum', 'Peak Position'\n",
    "- 'Temperature', 'Nanoflake #' are from filenames, \n",
    "- 'Thickness' is from simple process, \n",
    "- 'Layer' needs to be calculated based on 'Thickness' after all the data is stored,\n",
    "- 'EELS Spectrum' is a list of one principle axis in decomposition (NMF) of all the EELS in this thickness. The determination of same thickness comes from K-means clustering,\n",
    "- 'Peak Position' is from the curve fitting of 'EELS Spectrum'\n"
   ]
  },
  {
   "cell_type": "code",
   "execution_count": 2,
   "metadata": {},
   "outputs": [
    {
     "name": "stderr",
     "output_type": "stream",
     "text": [
      "D:\\Anaconda3\\lib\\site-packages\\h5py\\__init__.py:36: FutureWarning: Conversion of the second argument of issubdtype from `float` to `np.floating` is deprecated. In future, it will be treated as `np.float64 == np.dtype(float).type`.\n",
      "  from ._conv import register_converters as _register_converters\n",
      "WARNING:hyperspy_gui_traitsui:The module://ipykernel.pylab.backend_inline matplotlib backend is not supported by the installed traitsui version and the ETS toolkit has been set to null. To set the ETS toolkit independently from the matplotlib backend, set it before importing matplotlib.\n",
      "WARNING:hyperspy_gui_traitsui:The traitsui GUI elements are not available.\n"
     ]
    }
   ],
   "source": [
    "#Import packages\n",
    "\n",
    "# Ensure that this code works on both python 2 and python 3\n",
    "from __future__ import division, print_function, absolute_import, unicode_literals\n",
    "\n",
    "# basic numeric computation:\n",
    "import numpy as np\n",
    "import scipy.integrate as si\n",
    "import math\n",
    "\n",
    "# basic system operation:\n",
    "import os\n",
    "from copy import deepcopy\n",
    "\n",
    "# The package used for creating and manipulating HDF5 files:\n",
    "import h5py\n",
    "import hyperspy.api as hs\n",
    "\n",
    "# To extract EELS ZLP, put 'eels.py' from hyperspy_tools in the python path and then import here:\n",
    "from eels import extract_ZLP\n",
    "\n",
    "# Plotting and visualization:\n",
    "import matplotlib.pyplot as plt\n",
    "from mpl_toolkits.axes_grid1 import make_axes_locatable\n",
    "\n",
    "# multivariate analysis:\n",
    "from sklearn.cluster import KMeans\n",
    "from sklearn.decomposition import NMF\n",
    "from sklearn.preprocessing import normalize\n",
    "import pandas as pd\n",
    "\n",
    "# finally import pycroscopy:\n",
    "import pycroscopy as px"
   ]
  },
  {
   "cell_type": "code",
   "execution_count": 7,
   "metadata": {},
   "outputs": [
    {
     "name": "stderr",
     "output_type": "stream",
     "text": [
      "D:\\Anaconda3\\lib\\site-packages\\hyperspy\\io.py:341: FutureWarning: Conversion of the second argument of issubdtype from `complex` to `np.complexfloating` is deprecated. In future, it will be treated as `np.complex128 == np.dtype(complex).type`.\n",
      "  if np.issubdtype(dtype, complex):\n"
     ]
    }
   ],
   "source": [
    "center = hs.load('Center2.dm3')"
   ]
  },
  {
   "cell_type": "code",
   "execution_count": 63,
   "metadata": {
    "collapsed": true
   },
   "outputs": [],
   "source": [
    "# I save T150 information in 250.txt\n",
    "x250, y250 = np.loadtxt('150.txt', delimiter='\\t', usecols=(0, 1), unpack=True)\n",
    "x150, y150 = np.loadtxt('250.txt', delimiter='\\t', usecols=(0, 1), unpack=True)"
   ]
  },
  {
   "cell_type": "code",
   "execution_count": 65,
   "metadata": {},
   "outputs": [
    {
     "data": {
      "text/plain": [
       "[<matplotlib.lines.Line2D at 0x1be3bda0>]"
      ]
     },
     "execution_count": 65,
     "metadata": {},
     "output_type": "execute_result"
    },
    {
     "data": {
      "text/plain": [
       "[<matplotlib.lines.Line2D at 0x1c0bdfd0>]"
      ]
     },
     "execution_count": 65,
     "metadata": {},
     "output_type": "execute_result"
    },
    {
     "data": {
      "text/plain": [
       "Text(0.5,0,'Position (nm)')"
      ]
     },
     "execution_count": 65,
     "metadata": {},
     "output_type": "execute_result"
    },
    {
     "data": {
      "text/plain": [
       "([<matplotlib.axis.XTick at 0x1be21ef0>,\n",
       "  <matplotlib.axis.XTick at 0x1bd29390>,\n",
       "  <matplotlib.axis.XTick at 0x1be7ab38>,\n",
       "  <matplotlib.axis.XTick at 0x1c093048>,\n",
       "  <matplotlib.axis.XTick at 0x1c0936a0>],\n",
       " <a list of 5 Text xticklabel objects>)"
      ]
     },
     "execution_count": 65,
     "metadata": {},
     "output_type": "execute_result"
    },
    {
     "data": {
      "text/plain": [
       "Text(0,0.5,'$E_p$ (eV)')"
      ]
     },
     "execution_count": 65,
     "metadata": {},
     "output_type": "execute_result"
    },
    {
     "data": {
      "text/plain": [
       "([<matplotlib.axis.YTick at 0x1bd9ee10>,\n",
       "  <matplotlib.axis.YTick at 0x1be7de80>,\n",
       "  <matplotlib.axis.YTick at 0x1be19d30>],\n",
       " <a list of 3 Text yticklabel objects>)"
      ]
     },
     "execution_count": 65,
     "metadata": {},
     "output_type": "execute_result"
    },
    {
     "data": {
      "text/plain": [
       "<matplotlib.legend.Legend at 0x1be19048>"
      ]
     },
     "execution_count": 65,
     "metadata": {},
     "output_type": "execute_result"
    },
    {
     "data": {
      "image/png": "[encoded data removed]",
      "text/plain": [
       "<matplotlib.figure.Figure at 0x1be3b240>"
      ]
     },
     "metadata": {},
     "output_type": "display_data"
    }
   ],
   "source": [
    "fig, ax = plt.subplots(figsize=(10,8))\n",
    "plt.plot(x150,y150,'--o',color='b',label=\"T = 150$^o$C\")\n",
    "plt.plot(x250,y250,'--*',color='r',label='T = 250$^o$C')\n",
    "plt.xlabel('Position (nm)', fontsize=20)\n",
    "plt.xticks([0,2,4,6,8])\n",
    "plt.ylabel('$E_p$ (eV)', fontsize=20)\n",
    "plt.yticks([23,23.5,24])\n",
    "plt.legend()\n",
    "plt.savefig('line_scan.png')"
   ]
  },
  {
   "cell_type": "code",
   "execution_count": 32,
   "metadata": {},
   "outputs": [
    {
     "data": {
      "text/plain": [
       "[]"
      ]
     },
     "execution_count": 32,
     "metadata": {},
     "output_type": "execute_result"
    },
    {
     "data": {
      "text/plain": [
       "(array([], dtype=float64), <a list of 0 Text xticklabel objects>)"
      ]
     },
     "execution_count": 32,
     "metadata": {},
     "output_type": "execute_result"
    },
    {
     "data": {
      "text/plain": [
       "[]"
      ]
     },
     "execution_count": 32,
     "metadata": {},
     "output_type": "execute_result"
    },
    {
     "data": {
      "text/plain": [
       "(array([], dtype=float64), <a list of 0 Text yticklabel objects>)"
      ]
     },
     "execution_count": 32,
     "metadata": {},
     "output_type": "execute_result"
    },
    {
     "data": {
      "image/png": "[encoded data removed]",
      "text/plain": [
       "<matplotlib.figure.Figure at 0x1c0dfba8>"
      ]
     },
     "metadata": {},
     "output_type": "display_data"
    }
   ],
   "source": [
    "myim = plt.imshow(raw,cmap='jet',extent=[0,1,0,1],interpolation='nearest',vmin=18,vmax=24.5)\n",
    "cbar = plt.colorbar(ticks=[20,21,22,23,24],boundaries=np.linspace(19.8,24.2,70))\n",
    "cbar.xlim=[19,25]\n",
    "cbar.ax.tick_params(labelsize=20) \n",
    "plt.gca().set_xticks([])\n",
    "plt.xticks()\n",
    "plt.gca().set_yticks([])\n",
    "plt.yticks()\n",
    "\n",
    "plt.savefig('center.png')"
   ]
  },
  {
   "cell_type": "markdown",
   "metadata": {},
   "source": [
    "## Create Pandas DataFrame to store all the data"
   ]
  },
  {
   "cell_type": "code",
   "execution_count": 3,
   "metadata": {
    "collapsed": true
   },
   "outputs": [],
   "source": [
    "# Create Pandas DataFrame\n",
    "tmd = pd.DataFrame(columns=['Temperature', 'Nanoflake_Number', 'Thickness', 'Thickness_List', 'Layer', 'Spectrum_Axis', 'EELS_Spectrum', 'Peak_Position'])\n",
    "temp_list = [150,250,350]\n",
    "nflake_list = [1,2,3,3.5,4,5,6,7,8,9,10,11]\n",
    "cluster_list = [2,2,2,2,2,7,4,3,4,4,2,2]\n",
    "weight = 5\n",
    "\n",
    "#define a function to return the k number for Kmeans clustering of thickness\n",
    "def get_k_number(a):\n",
    "    for i in range(1,6):\n",
    "        estimator = KMeans(n_clusters=i);#构造聚类器\n",
    "        estimator.fit(a)#聚类\n",
    "        if estimator.inertia_ < 0.15: # 获取聚类准则的总和\n",
    "            return i\n",
    "    if  estimator.inertia_ >= 0.15:\n",
    "        return 5\n",
    "    \n",
    "\n",
    "#define a function to give a new feature of thickness, variance:\n",
    "def get_t_variance(tmat):\n",
    "    num_rows = np.shape(tmat)[0]\n",
    "    num_cols = np.shape(tmat)[1]\n",
    "    stdmat = np.zeros((num_rows-2,num_cols-2))\n",
    "    for i in range(1,num_rows-1):\n",
    "        for j in range(1,num_cols-1):\n",
    "            row = np.array([[i-1,i,i+1]]).astype(int)\n",
    "            col = np.array([[j-1,j,j+1]]).astype(int)\n",
    "            rowmat = np.transpose(np.dot(np.ones((3,1)).astype(int),row))\n",
    "            colmat = np.dot(np.ones((3,1)).astype(int),col)\n",
    "            test = np.reshape(tmat[rowmat,colmat],(-1))\n",
    "            stdmat[i-1,j-1] = np.std(test)\n",
    "    return stdmat\n",
    "\n",
    "def get_thickness(raw,zlp):\n",
    "    new_axes = raw.axes_manager['Energy loss']\n",
    "    x0 = np.linspace(new_axes.offset, new_axes.offset+new_axes.scale*(new_axes.size-1), new_axes.size)\n",
    "    th=lograt_mat(raw,zlp,x0)\n",
    "    return th\n",
    "    \n",
    "def lograt(r0,z0,x0):\n",
    "    t0 = si.simps(z0,x0)\n",
    "    t1 = si.simps(r0,x0)\n",
    "    return math.log(t1/t0)\n",
    "\n",
    "def lograt_mat(raw,zlp,x0):\n",
    "    thick = np.ones(np.shape(raw)[0:2])\n",
    "    for i in range(np.shape(raw)[0]):\n",
    "        for j in range(np.shape(raw)[1]):\n",
    "            r0 = raw.data[i,j,:]\n",
    "            z0 = zlp.data[i,j,:]\n",
    "            thick[i,j]=lograt(r0,z0,x0)\n",
    "    return thick\n",
    "\n",
    "def getindex(number,data_shape):\n",
    "    id1 = number//(data_shape[1])\n",
    "    id2 = number%(data_shape[1])\n",
    "    return (id1,id2)"
   ]
  },
  {
   "cell_type": "code",
   "execution_count": 10,
   "metadata": {},
   "outputs": [
    {
     "name": "stderr",
     "output_type": "stream",
     "text": [
      "D:\\Anaconda3\\lib\\site-packages\\hyperspy\\io.py:341: FutureWarning: Conversion of the second argument of issubdtype from `complex` to `np.complexfloating` is deprecated. In future, it will be treated as `np.complex128 == np.dtype(complex).type`.\n",
      "  if np.issubdtype(dtype, complex):\n",
      "WARNING:hyperspy.signal:<EELSSpectrum, title: EELS Spectrum Image, dimensions: (22, 22|2048)> data is replaced by its optimized copy\n"
     ]
    },
    {
     "data": {
      "application/vnd.jupyter.widget-view+json": {
       "model_id": "44a0b39c60a24a3883388a54515ad646",
       "version_major": 2,
       "version_minor": 0
      },
      "text/plain": [
       "A Jupyter Widget"
      ]
     },
     "metadata": {},
     "output_type": "display_data"
    },
    {
     "name": "stdout",
     "output_type": "stream",
     "text": [
      "\n"
     ]
    },
    {
     "data": {
      "application/vnd.jupyter.widget-view+json": {
       "model_id": "0e991baec84f4cf8ae4117ca74086293",
       "version_major": 2,
       "version_minor": 0
      },
      "text/plain": [
       "A Jupyter Widget"
      ]
     },
     "metadata": {},
     "output_type": "display_data"
    },
    {
     "name": "stdout",
     "output_type": "stream",
     "text": [
      "\n"
     ]
    },
    {
     "data": {
      "application/vnd.jupyter.widget-view+json": {
       "model_id": "a25dbdc860ad4976b8cea77c4329095e",
       "version_major": 2,
       "version_minor": 0
      },
      "text/plain": [
       "A Jupyter Widget"
      ]
     },
     "metadata": {},
     "output_type": "display_data"
    },
    {
     "name": "stdout",
     "output_type": "stream",
     "text": [
      "\n"
     ]
    },
    {
     "name": "stderr",
     "output_type": "stream",
     "text": [
      "D:\\Anaconda3\\lib\\site-packages\\hyperspy\\misc\\math_tools.py:61: FutureWarning: Conversion of the second argument of issubdtype from `float` to `np.floating` is deprecated. In future, it will be treated as `np.float64 == np.dtype(float).type`.\n",
      "  return np.issubdtype(number, np.float)\n"
     ]
    },
    {
     "data": {
      "application/vnd.jupyter.widget-view+json": {
       "model_id": "58ae30bc2b7845929058632e2cd85746",
       "version_major": 2,
       "version_minor": 0
      },
      "text/plain": [
       "A Jupyter Widget"
      ]
     },
     "metadata": {},
     "output_type": "display_data"
    },
    {
     "data": {
      "application/vnd.jupyter.widget-view+json": {
       "model_id": "affeb2a8c33b4d21addccfa922459971",
       "version_major": 2,
       "version_minor": 0
      },
      "text/plain": [
       "A Jupyter Widget"
      ]
     },
     "metadata": {},
     "output_type": "display_data"
    },
    {
     "data": {
      "application/vnd.jupyter.widget-view+json": {
       "model_id": "19f13016216f43d9bfbf11dc01192b7e",
       "version_major": 2,
       "version_minor": 0
      },
      "text/plain": [
       "A Jupyter Widget"
      ]
     },
     "metadata": {},
     "output_type": "display_data"
    },
    {
     "data": {
      "application/vnd.jupyter.widget-view+json": {
       "model_id": "13284f2478954aa0abc27d14b36cf886",
       "version_major": 2,
       "version_minor": 0
      },
      "text/plain": [
       "A Jupyter Widget"
      ]
     },
     "metadata": {},
     "output_type": "display_data"
    },
    {
     "name": "stderr",
     "output_type": "stream",
     "text": [
      "D:\\Anaconda3\\Lib\\Xuan\\eels.py:151: RuntimeWarning: invalid value encountered in less\n",
      "  inelastic.data[inelastic.data < 0] = 0\n"
     ]
    },
    {
     "data": {
      "text/plain": [
       "KMeans(algorithm='auto', copy_x=True, init='k-means++', max_iter=300,\n",
       "    n_clusters=2, n_init=10, n_jobs=1, precompute_distances='auto',\n",
       "    random_state=None, tol=0.0001, verbose=0)"
      ]
     },
     "execution_count": 10,
     "metadata": {},
     "output_type": "execute_result"
    },
    {
     "data": {
      "text/plain": [
       "<matplotlib.axes._subplots.AxesSubplot at 0x1a5a4e80>"
      ]
     },
     "execution_count": 10,
     "metadata": {},
     "output_type": "execute_result"
    },
    {
     "data": {
      "text/plain": [
       "<matplotlib.image.AxesImage at 0x19fd9978>"
      ]
     },
     "execution_count": 10,
     "metadata": {},
     "output_type": "execute_result"
    },
    {
     "data": {
      "text/plain": [
       "<matplotlib.axes._subplots.AxesSubplot at 0x19fd9c18>"
      ]
     },
     "execution_count": 10,
     "metadata": {},
     "output_type": "execute_result"
    },
    {
     "data": {
      "text/plain": [
       "<matplotlib.image.AxesImage at 0x19576780>"
      ]
     },
     "execution_count": 10,
     "metadata": {},
     "output_type": "execute_result"
    },
    {
     "data": {
      "text/plain": [
       "1"
      ]
     },
     "execution_count": 10,
     "metadata": {},
     "output_type": "execute_result"
    },
    {
     "name": "stderr",
     "output_type": "stream",
     "text": [
      "D:\\Anaconda3\\lib\\site-packages\\hyperspy\\io.py:341: FutureWarning: Conversion of the second argument of issubdtype from `complex` to `np.complexfloating` is deprecated. In future, it will be treated as `np.complex128 == np.dtype(complex).type`.\n",
      "  if np.issubdtype(dtype, complex):\n",
      "WARNING:hyperspy.signal:<EELSSpectrum, title: EELS Spectrum Image, dimensions: (22, 22|2048)> data is replaced by its optimized copy\n"
     ]
    },
    {
     "data": {
      "application/vnd.jupyter.widget-view+json": {
       "model_id": "ae8001c8714a4bdf94fd5e7a94102475",
       "version_major": 2,
       "version_minor": 0
      },
      "text/plain": [
       "A Jupyter Widget"
      ]
     },
     "metadata": {},
     "output_type": "display_data"
    },
    {
     "name": "stdout",
     "output_type": "stream",
     "text": [
      "\n"
     ]
    },
    {
     "data": {
      "application/vnd.jupyter.widget-view+json": {
       "model_id": "1c2ac87f890141d2b568fba12b9f8ad3",
       "version_major": 2,
       "version_minor": 0
      },
      "text/plain": [
       "A Jupyter Widget"
      ]
     },
     "metadata": {},
     "output_type": "display_data"
    },
    {
     "name": "stdout",
     "output_type": "stream",
     "text": [
      "\n"
     ]
    },
    {
     "data": {
      "application/vnd.jupyter.widget-view+json": {
       "model_id": "686f229b29984a468895ccdbb0ca8009",
       "version_major": 2,
       "version_minor": 0
      },
      "text/plain": [
       "A Jupyter Widget"
      ]
     },
     "metadata": {},
     "output_type": "display_data"
    },
    {
     "name": "stdout",
     "output_type": "stream",
     "text": [
      "\n"
     ]
    },
    {
     "name": "stderr",
     "output_type": "stream",
     "text": [
      "D:\\Anaconda3\\lib\\site-packages\\hyperspy\\misc\\math_tools.py:61: FutureWarning: Conversion of the second argument of issubdtype from `float` to `np.floating` is deprecated. In future, it will be treated as `np.float64 == np.dtype(float).type`.\n",
      "  return np.issubdtype(number, np.float)\n"
     ]
    },
    {
     "data": {
      "application/vnd.jupyter.widget-view+json": {
       "model_id": "806ae2b854f24c3ca5a387afdf27022b",
       "version_major": 2,
       "version_minor": 0
      },
      "text/plain": [
       "A Jupyter Widget"
      ]
     },
     "metadata": {},
     "output_type": "display_data"
    },
    {
     "data": {
      "application/vnd.jupyter.widget-view+json": {
       "model_id": "0ac819d04ce244dcb3847ca6a920027b",
       "version_major": 2,
       "version_minor": 0
      },
      "text/plain": [
       "A Jupyter Widget"
      ]
     },
     "metadata": {},
     "output_type": "display_data"
    },
    {
     "data": {
      "application/vnd.jupyter.widget-view+json": {
       "model_id": "74199c593f954236a77f99e220a4ae47",
       "version_major": 2,
       "version_minor": 0
      },
      "text/plain": [
       "A Jupyter Widget"
      ]
     },
     "metadata": {},
     "output_type": "display_data"
    },
    {
     "data": {
      "application/vnd.jupyter.widget-view+json": {
       "model_id": "69948113ab794cb287c7576dafc5ea13",
       "version_major": 2,
       "version_minor": 0
      },
      "text/plain": [
       "A Jupyter Widget"
      ]
     },
     "metadata": {},
     "output_type": "display_data"
    },
    {
     "data": {
      "text/plain": [
       "KMeans(algorithm='auto', copy_x=True, init='k-means++', max_iter=300,\n",
       "    n_clusters=2, n_init=10, n_jobs=1, precompute_distances='auto',\n",
       "    random_state=None, tol=0.0001, verbose=0)"
      ]
     },
     "execution_count": 10,
     "metadata": {},
     "output_type": "execute_result"
    },
    {
     "name": "stderr",
     "output_type": "stream",
     "text": [
      "D:\\Anaconda3\\lib\\site-packages\\matplotlib\\cbook\\deprecation.py:106: MatplotlibDeprecationWarning: Adding an axes using the same arguments as a previous axes currently reuses the earlier instance.  In a future version, a new instance will always be created and returned.  Meanwhile, this warning can be suppressed, and the future behavior ensured, by passing a unique label to each axes instance.\n",
      "  warnings.warn(message, mplDeprecation, stacklevel=1)\n"
     ]
    },
    {
     "data": {
      "text/plain": [
       "<matplotlib.axes._subplots.AxesSubplot at 0x1a5a4e80>"
      ]
     },
     "execution_count": 10,
     "metadata": {},
     "output_type": "execute_result"
    },
    {
     "data": {
      "text/plain": [
       "<matplotlib.image.AxesImage at 0x1c645940>"
      ]
     },
     "execution_count": 10,
     "metadata": {},
     "output_type": "execute_result"
    },
    {
     "data": {
      "text/plain": [
       "<matplotlib.axes._subplots.AxesSubplot at 0x19fd9c18>"
      ]
     },
     "execution_count": 10,
     "metadata": {},
     "output_type": "execute_result"
    },
    {
     "data": {
      "text/plain": [
       "<matplotlib.image.AxesImage at 0x1c5ebe48>"
      ]
     },
     "execution_count": 10,
     "metadata": {},
     "output_type": "execute_result"
    },
    {
     "data": {
      "text/plain": [
       "1"
      ]
     },
     "execution_count": 10,
     "metadata": {},
     "output_type": "execute_result"
    },
    {
     "ename": "NotImplementedError",
     "evalue": "Currently we only support reading DM versions 3 and 4 but this file seems to be version -1991752634 ",
     "output_type": "error",
     "traceback": [
      "\u001b[1;31m---------------------------------------------------------------------------\u001b[0m",
      "\u001b[1;31mNotImplementedError\u001b[0m                       Traceback (most recent call last)",
      "\u001b[1;32m<ipython-input-10-70cc7ce4ebc1>\u001b[0m in \u001b[0;36m<module>\u001b[1;34m()\u001b[0m\n\u001b[0;32m      8\u001b[0m         \u001b[0mfolder_name\u001b[0m \u001b[1;33m=\u001b[0m \u001b[0mstr\u001b[0m\u001b[1;33m(\u001b[0m\u001b[0mt\u001b[0m\u001b[1;33m)\u001b[0m \u001b[1;33m+\u001b[0m \u001b[1;34m'_'\u001b[0m \u001b[1;33m+\u001b[0m \u001b[0mstr\u001b[0m\u001b[1;33m(\u001b[0m\u001b[0mfl\u001b[0m\u001b[1;33m)\u001b[0m\u001b[1;33m\u001b[0m\u001b[0m\n\u001b[0;32m      9\u001b[0m         \u001b[0mfile_name\u001b[0m \u001b[1;33m=\u001b[0m \u001b[0mfolder_path\u001b[0m \u001b[1;33m+\u001b[0m \u001b[0mfolder_name\u001b[0m \u001b[1;33m+\u001b[0m \u001b[1;34m'/EELS Spectrum Image.dm4'\u001b[0m\u001b[1;33m\u001b[0m\u001b[0m\n\u001b[1;32m---> 10\u001b[1;33m         \u001b[0mraw\u001b[0m \u001b[1;33m=\u001b[0m \u001b[0mhs\u001b[0m\u001b[1;33m.\u001b[0m\u001b[0mload\u001b[0m\u001b[1;33m(\u001b[0m\u001b[0mfile_name\u001b[0m\u001b[1;33m,\u001b[0m\u001b[0msignal_type\u001b[0m\u001b[1;33m=\u001b[0m\u001b[1;34m'EELS'\u001b[0m\u001b[1;33m)\u001b[0m\u001b[1;33m\u001b[0m\u001b[0m\n\u001b[0m\u001b[0;32m     11\u001b[0m \u001b[1;33m\u001b[0m\u001b[0m\n\u001b[0;32m     12\u001b[0m         \u001b[1;31m#general process:alignment, thickness, zlp substraction\u001b[0m\u001b[1;33m\u001b[0m\u001b[1;33m\u001b[0m\u001b[0m\n",
      "\u001b[1;32mD:\\Anaconda3\\lib\\site-packages\\hyperspy\\io.py\u001b[0m in \u001b[0;36mload\u001b[1;34m(filenames, signal_type, stack, stack_axis, new_axis_name, lazy, **kwds)\u001b[0m\n\u001b[0;32m    241\u001b[0m             objects = [load_single_file(filename, lazy=lazy,\n\u001b[0;32m    242\u001b[0m                                         **kwds)\n\u001b[1;32m--> 243\u001b[1;33m                        for filename in filenames]\n\u001b[0m\u001b[0;32m    244\u001b[0m \u001b[1;33m\u001b[0m\u001b[0m\n\u001b[0;32m    245\u001b[0m         \u001b[1;32mif\u001b[0m \u001b[0mlen\u001b[0m\u001b[1;33m(\u001b[0m\u001b[0mobjects\u001b[0m\u001b[1;33m)\u001b[0m \u001b[1;33m==\u001b[0m \u001b[1;36m1\u001b[0m\u001b[1;33m:\u001b[0m\u001b[1;33m\u001b[0m\u001b[0m\n",
      "\u001b[1;32mD:\\Anaconda3\\lib\\site-packages\\hyperspy\\io.py\u001b[0m in \u001b[0;36m<listcomp>\u001b[1;34m(.0)\u001b[0m\n\u001b[0;32m    241\u001b[0m             objects = [load_single_file(filename, lazy=lazy,\n\u001b[0;32m    242\u001b[0m                                         **kwds)\n\u001b[1;32m--> 243\u001b[1;33m                        for filename in filenames]\n\u001b[0m\u001b[0;32m    244\u001b[0m \u001b[1;33m\u001b[0m\u001b[0m\n\u001b[0;32m    245\u001b[0m         \u001b[1;32mif\u001b[0m \u001b[0mlen\u001b[0m\u001b[1;33m(\u001b[0m\u001b[0mobjects\u001b[0m\u001b[1;33m)\u001b[0m \u001b[1;33m==\u001b[0m \u001b[1;36m1\u001b[0m\u001b[1;33m:\u001b[0m\u001b[1;33m\u001b[0m\u001b[0m\n",
      "\u001b[1;32mD:\\Anaconda3\\lib\\site-packages\\hyperspy\\io.py\u001b[0m in \u001b[0;36mload_single_file\u001b[1;34m(filename, signal_type, **kwds)\u001b[0m\n\u001b[0;32m    284\u001b[0m                                 \u001b[0mreader\u001b[0m\u001b[1;33m=\u001b[0m\u001b[0mreader\u001b[0m\u001b[1;33m,\u001b[0m\u001b[1;33m\u001b[0m\u001b[0m\n\u001b[0;32m    285\u001b[0m                                 \u001b[0msignal_type\u001b[0m\u001b[1;33m=\u001b[0m\u001b[0msignal_type\u001b[0m\u001b[1;33m,\u001b[0m\u001b[1;33m\u001b[0m\u001b[0m\n\u001b[1;32m--> 286\u001b[1;33m                                 **kwds)\n\u001b[0m\u001b[0;32m    287\u001b[0m \u001b[1;33m\u001b[0m\u001b[0m\n\u001b[0;32m    288\u001b[0m \u001b[1;33m\u001b[0m\u001b[0m\n",
      "\u001b[1;32mD:\\Anaconda3\\lib\\site-packages\\hyperspy\\io.py\u001b[0m in \u001b[0;36mload_with_reader\u001b[1;34m(filename, reader, signal_type, **kwds)\u001b[0m\n\u001b[0;32m    293\u001b[0m     \u001b[0mlazy\u001b[0m \u001b[1;33m=\u001b[0m \u001b[0mkwds\u001b[0m\u001b[1;33m.\u001b[0m\u001b[0mget\u001b[0m\u001b[1;33m(\u001b[0m\u001b[1;34m'lazy'\u001b[0m\u001b[1;33m,\u001b[0m \u001b[1;32mFalse\u001b[0m\u001b[1;33m)\u001b[0m\u001b[1;33m\u001b[0m\u001b[0m\n\u001b[0;32m    294\u001b[0m     file_data_list = reader.file_reader(filename,\n\u001b[1;32m--> 295\u001b[1;33m                                         **kwds)\n\u001b[0m\u001b[0;32m    296\u001b[0m     \u001b[0mobjects\u001b[0m \u001b[1;33m=\u001b[0m \u001b[1;33m[\u001b[0m\u001b[1;33m]\u001b[0m\u001b[1;33m\u001b[0m\u001b[0m\n\u001b[0;32m    297\u001b[0m \u001b[1;33m\u001b[0m\u001b[0m\n",
      "\u001b[1;32mD:\\Anaconda3\\lib\\site-packages\\hyperspy\\io_plugins\\digital_micrograph.py\u001b[0m in \u001b[0;36mfile_reader\u001b[1;34m(filename, record_by, order, lazy)\u001b[0m\n\u001b[0;32m    986\u001b[0m     \u001b[1;32mwith\u001b[0m \u001b[0mopen\u001b[0m\u001b[1;33m(\u001b[0m\u001b[0mfilename\u001b[0m\u001b[1;33m,\u001b[0m \u001b[1;34m\"rb\"\u001b[0m\u001b[1;33m)\u001b[0m \u001b[1;32mas\u001b[0m \u001b[0mf\u001b[0m\u001b[1;33m:\u001b[0m\u001b[1;33m\u001b[0m\u001b[0m\n\u001b[0;32m    987\u001b[0m         \u001b[0mdm\u001b[0m \u001b[1;33m=\u001b[0m \u001b[0mDigitalMicrographReader\u001b[0m\u001b[1;33m(\u001b[0m\u001b[0mf\u001b[0m\u001b[1;33m)\u001b[0m\u001b[1;33m\u001b[0m\u001b[0m\n\u001b[1;32m--> 988\u001b[1;33m         \u001b[0mdm\u001b[0m\u001b[1;33m.\u001b[0m\u001b[0mparse_file\u001b[0m\u001b[1;33m(\u001b[0m\u001b[1;33m)\u001b[0m\u001b[1;33m\u001b[0m\u001b[0m\n\u001b[0m\u001b[0;32m    989\u001b[0m         images = [ImageObject(imdict, f, order=order, record_by=record_by)\n\u001b[0;32m    990\u001b[0m                   for imdict in dm.get_image_dictionaries()]\n",
      "\u001b[1;32mD:\\Anaconda3\\lib\\site-packages\\hyperspy\\io_plugins\\digital_micrograph.py\u001b[0m in \u001b[0;36mparse_file\u001b[1;34m(self)\u001b[0m\n\u001b[0;32m     78\u001b[0m     \u001b[1;32mdef\u001b[0m \u001b[0mparse_file\u001b[0m\u001b[1;33m(\u001b[0m\u001b[0mself\u001b[0m\u001b[1;33m)\u001b[0m\u001b[1;33m:\u001b[0m\u001b[1;33m\u001b[0m\u001b[0m\n\u001b[0;32m     79\u001b[0m         \u001b[0mself\u001b[0m\u001b[1;33m.\u001b[0m\u001b[0mf\u001b[0m\u001b[1;33m.\u001b[0m\u001b[0mseek\u001b[0m\u001b[1;33m(\u001b[0m\u001b[1;36m0\u001b[0m\u001b[1;33m)\u001b[0m\u001b[1;33m\u001b[0m\u001b[0m\n\u001b[1;32m---> 80\u001b[1;33m         \u001b[0mself\u001b[0m\u001b[1;33m.\u001b[0m\u001b[0mparse_header\u001b[0m\u001b[1;33m(\u001b[0m\u001b[1;33m)\u001b[0m\u001b[1;33m\u001b[0m\u001b[0m\n\u001b[0m\u001b[0;32m     81\u001b[0m         \u001b[0mself\u001b[0m\u001b[1;33m.\u001b[0m\u001b[0mtags_dict\u001b[0m \u001b[1;33m=\u001b[0m \u001b[1;33m{\u001b[0m\u001b[1;34m\"root\"\u001b[0m\u001b[1;33m:\u001b[0m \u001b[1;33m{\u001b[0m\u001b[1;33m}\u001b[0m\u001b[1;33m}\u001b[0m\u001b[1;33m\u001b[0m\u001b[0m\n\u001b[0;32m     82\u001b[0m         \u001b[0mnumber_of_root_tags\u001b[0m \u001b[1;33m=\u001b[0m \u001b[0mself\u001b[0m\u001b[1;33m.\u001b[0m\u001b[0mparse_tag_group\u001b[0m\u001b[1;33m(\u001b[0m\u001b[1;33m)\u001b[0m\u001b[1;33m[\u001b[0m\u001b[1;36m2\u001b[0m\u001b[1;33m]\u001b[0m\u001b[1;33m\u001b[0m\u001b[0m\n",
      "\u001b[1;32mD:\\Anaconda3\\lib\\site-packages\\hyperspy\\io_plugins\\digital_micrograph.py\u001b[0m in \u001b[0;36mparse_header\u001b[1;34m(self)\u001b[0m\n\u001b[0;32m     93\u001b[0m                 \u001b[1;34m\"Currently we only support reading DM versions 3 and 4 but \"\u001b[0m\u001b[1;33m\u001b[0m\u001b[0m\n\u001b[0;32m     94\u001b[0m                 \u001b[1;34m\"this file \"\u001b[0m\u001b[1;33m\u001b[0m\u001b[0m\n\u001b[1;32m---> 95\u001b[1;33m                 \"seems to be version %s \" % self.dm_version)\n\u001b[0m\u001b[0;32m     96\u001b[0m         \u001b[0mself\u001b[0m\u001b[1;33m.\u001b[0m\u001b[0mskipif4\u001b[0m\u001b[1;33m(\u001b[0m\u001b[1;33m)\u001b[0m\u001b[1;33m\u001b[0m\u001b[0m\n\u001b[0;32m     97\u001b[0m         \u001b[0mfilesizeB\u001b[0m \u001b[1;33m=\u001b[0m \u001b[0miou\u001b[0m\u001b[1;33m.\u001b[0m\u001b[0mread_long\u001b[0m\u001b[1;33m(\u001b[0m\u001b[0mself\u001b[0m\u001b[1;33m.\u001b[0m\u001b[0mf\u001b[0m\u001b[1;33m,\u001b[0m \u001b[1;34m\"big\"\u001b[0m\u001b[1;33m)\u001b[0m\u001b[1;33m\u001b[0m\u001b[0m\n",
      "\u001b[1;31mNotImplementedError\u001b[0m: Currently we only support reading DM versions 3 and 4 but this file seems to be version -1991752634 "
     ]
    },
    {
     "data": {
      "image/png": "[encoded data removed]",
      "text/plain": [
       "<matplotlib.figure.Figure at 0x196aef60>"
      ]
     },
     "metadata": {},
     "output_type": "display_data"
    }
   ],
   "source": [
    "# start 'for' loop to load and process the data\n",
    "folder_path = 'D:/Books/research/IMAGE/20180110_TMD/'\n",
    "for t in temp_list:\n",
    "    for fl in nflake_list:\n",
    "        if t == temp_list[-1] and fl == nflake_list[-1]:\n",
    "            break\n",
    "        #load the data\n",
    "        folder_name = str(t) + '_' + str(fl)\n",
    "        file_name = folder_path + folder_name + '/EELS Spectrum Image.dm4'\n",
    "        raw = hs.load(file_name,signal_type='EELS')\n",
    "        \n",
    "        #general process:alignment, thickness, zlp substraction\n",
    "        num_rows = np.shape(raw.data)[0]\n",
    "        num_cols = np.shape(raw.data)[1]\n",
    "        raw.align_zero_loss_peak(subpixel=True,show_progressbar=None,print_stats=False)\n",
    "        \n",
    "        \n",
    "        try:\n",
    "            zlp, sig = extract_ZLP(raw,range_factor=(-10, 8),return_inelastic=True,print_output=False)\n",
    "        except OverflowError:\n",
    "            raw = raw/10\n",
    "            zlp, sig = extract_ZLP(raw,range_factor=(-10, 8),return_inelastic=True,print_output=False)\n",
    "        \n",
    "        \n",
    "        new_axes = sig.axes_manager['Energy loss']\n",
    "        x0 = np.linspace(new_axes.offset, new_axes.offset+new_axes.scale*(new_axes.size-1), new_axes.size)\n",
    "        thickmat = get_thickness(raw,zlp)\n",
    "                \n",
    "        sig_data = np.reshape(sig.data,(-1,sig.data.shape[2]))\n",
    "        sig_data[np.isnan(sig_data)] = 0\n",
    "        \n",
    "        #for i in range(np.shape(sig_data)[0]):\n",
    "        #    temp_data = deepcopy(sig_data[i,:])\n",
    "        #    temp_data[np.isnan(temp_data)] = 0\n",
    "        #    sig_data[i,:] = deepcopy(temp_data)\n",
    "            \n",
    "        \n",
    "        #divide the data into clusters based on the thickness by k-means\n",
    "        sp = np.shape(thickmat)\n",
    "        task = []\n",
    "        for i in range(sp[0]):\n",
    "            for j in range(sp[1]):\n",
    "                task.append([i,j,thickmat[i,j]])\n",
    "        t1=np.array(task)\n",
    "\n",
    "        t1[np.isnan(t1)]=0\n",
    "        t2=normalize(t1,axis=0)\n",
    "        t3=deepcopy(t2)\n",
    "        t3[:,2]=t3[:,2]*weight\n",
    "\n",
    "        #num_clusters = get_k_number(task)\n",
    "        num_clusters = cluster_list[nflake_list.index(fl)]\n",
    "        estimator = KMeans(n_clusters=num_clusters)#构造聚类器\n",
    "        estimator.fit(t3)#聚类\n",
    "        label_pred = estimator.labels_ #获取聚类标签\n",
    "        centroids = estimator.cluster_centers_ #获取聚类中心\n",
    "        #print('KMeans error: ',estimator.inertia_) # 获取聚类准则的总和\n",
    "        \n",
    "        #test clustering\n",
    "        plt.subplot(1,2,1)\n",
    "        plt.imshow(thickmat)\n",
    "        plt.subplot(1,2,2)\n",
    "        lb=np.reshape(label_pred,np.shape(thickmat))\n",
    "        plt.imshow(lb)\n",
    "        ulabel = np.unique(label_pred)\n",
    "        take_num = 0\n",
    "        for im in ulabel:\n",
    "            if centroids[im,2] == min(centroids[:,2]):\n",
    "                take_num = im\n",
    "        label_num = list(range(num_clusters))\n",
    "        label_num.pop(take_num)\n",
    "        for i in label_num:\n",
    "            sig_temp = sig_data[label_pred == i, :]\n",
    "            thick_val = np.mean(t1[label_pred == i, 2])\n",
    "            model = NMF(n_components=4, init='random', random_state=0)\n",
    "            W = model.fit_transform(sig_temp)\n",
    "            H = model.components_\n",
    "            spec = H[0,:]\n",
    "            \n",
    "            tmd = tmd.append({'Temperature': t,\n",
    "                             'Nanoflake_Number': fl,\n",
    "                             'Thickness': thick_val,\n",
    "                             'Thickness_List': list(t1[label_pred == i, 2]),\n",
    "                             'Spectrum_Axis': x0,\n",
    "                             'EELS_Spectrum': list(spec)}, ignore_index=True)"
   ]
  },
  {
   "cell_type": "code",
   "execution_count": 48,
   "metadata": {
    "collapsed": true
   },
   "outputs": [],
   "source": [
    "tmd.to_csv(folder_path+'/TMD_new.csv')"
   ]
  },
  {
   "cell_type": "code",
   "execution_count": 42,
   "metadata": {
    "collapsed": true
   },
   "outputs": [],
   "source": [
    "tmd = pd.DataFrame(columns=['Temperature', 'Nanoflake_Number', 'Thickness', 'Layer', 'EELS_Spectrum', 'Peak_Position'])"
   ]
  },
  {
   "cell_type": "code",
   "execution_count": 31,
   "metadata": {},
   "outputs": [
    {
     "data": {
      "text/plain": [
       "(array([ 4.,  5., 10.,  7.,  3.,  3.,  4.,  5.,  1.,  0.,  4.,  1.,  1.,\n",
       "         0.,  2.,  0.,  2.,  1.,  2.,  2.,  1.,  1.,  1.,  0.,  0.,  2.,\n",
       "         0.,  3.,  2.,  0.,  0.,  1.,  0.,  0.,  0.,  1.,  0.,  0.,  0.,\n",
       "         0.,  0.,  1.,  0.,  0.,  0.,  0.,  0.,  0.,  0.,  1.]),\n",
       " array([0.03369653, 0.03962061, 0.04554468, 0.05146875, 0.05739282,\n",
       "        0.06331689, 0.06924096, 0.07516503, 0.08108911, 0.08701318,\n",
       "        0.09293725, 0.09886132, 0.10478539, 0.11070946, 0.11663353,\n",
       "        0.12255761, 0.12848168, 0.13440575, 0.14032982, 0.14625389,\n",
       "        0.15217796, 0.15810203, 0.16402611, 0.16995018, 0.17587425,\n",
       "        0.18179832, 0.18772239, 0.19364646, 0.19957053, 0.2054946 ,\n",
       "        0.21141868, 0.21734275, 0.22326682, 0.22919089, 0.23511496,\n",
       "        0.24103903, 0.2469631 , 0.25288718, 0.25881125, 0.26473532,\n",
       "        0.27065939, 0.27658346, 0.28250753, 0.2884316 , 0.29435568,\n",
       "        0.30027975, 0.30620382, 0.31212789, 0.31805196, 0.32397603,\n",
       "        0.3299001 ]),\n",
       " <a list of 50 Patch objects>)"
      ]
     },
     "execution_count": 31,
     "metadata": {},
     "output_type": "execute_result"
    },
    {
     "data": {
      "image/png": "[encoded data removed]",
      "text/plain": [
       "<matplotlib.figure.Figure at 0x19bf5f28>"
      ]
     },
     "metadata": {},
     "output_type": "display_data"
    }
   ],
   "source": [
    "ind, plt.hist(tmd['Thickness'],50)"
   ]
  },
  {
   "cell_type": "code",
   "execution_count": 6,
   "metadata": {},
   "outputs": [
    {
     "data": {
      "text/html": [
       "<div>\n",
       "<style>\n",
       "    .dataframe thead tr:only-child th {\n",
       "        text-align: right;\n",
       "    }\n",
       "\n",
       "    .dataframe thead th {\n",
       "        text-align: left;\n",
       "    }\n",
       "\n",
       "    .dataframe tbody tr th {\n",
       "        vertical-align: top;\n",
       "    }\n",
       "</style>\n",
       "<table border=\"1\" class=\"dataframe\">\n",
       "  <thead>\n",
       "    <tr style=\"text-align: right;\">\n",
       "      <th></th>\n",
       "      <th>Temperature</th>\n",
       "      <th>Nanoflake_Number</th>\n",
       "      <th>Thickness</th>\n",
       "      <th>Thickness_List</th>\n",
       "      <th>Layer</th>\n",
       "      <th>Spectrum_Axis</th>\n",
       "      <th>EELS_Spectrum</th>\n",
       "      <th>Peak_Position</th>\n",
       "    </tr>\n",
       "  </thead>\n",
       "  <tbody>\n",
       "    <tr>\n",
       "      <th>0</th>\n",
       "      <td>150</td>\n",
       "      <td>1</td>\n",
       "      <td>0.051779</td>\n",
       "      <td>[0.04964418256944714, 0.05025928332922756, 0.0...</td>\n",
       "      <td>NaN</td>\n",
       "      <td>[-10.611673711845267, -10.561673711100209, -10...</td>\n",
       "      <td>[0.0, 0.0, 0.0, 0.0, 0.0, 0.0, 0.0, 0.0, 0.0, ...</td>\n",
       "      <td>NaN</td>\n",
       "    </tr>\n",
       "    <tr>\n",
       "      <th>1</th>\n",
       "      <td>150</td>\n",
       "      <td>2</td>\n",
       "      <td>0.051953</td>\n",
       "      <td>[0.04008605391897694, 0.04153889935995845, 0.0...</td>\n",
       "      <td>NaN</td>\n",
       "      <td>[-10.564876190486771, -10.514876189741713, -10...</td>\n",
       "      <td>[0.0, 0.0, 0.0, 0.0, 0.0, 0.0, 0.0, 0.0, 0.0, ...</td>\n",
       "      <td>NaN</td>\n",
       "    </tr>\n",
       "    <tr>\n",
       "      <th>2</th>\n",
       "      <td>150</td>\n",
       "      <td>3</td>\n",
       "      <td>0.051799</td>\n",
       "      <td>[0.036499892053164236, 0.03700958004260841, 0....</td>\n",
       "      <td>NaN</td>\n",
       "      <td>[-10.548553876193964, -10.498553875448906, -10...</td>\n",
       "      <td>[0.0, 0.0, 0.0, 0.0, 0.0, 0.0, 0.0, 0.0, 0.0, ...</td>\n",
       "      <td>NaN</td>\n",
       "    </tr>\n",
       "    <tr>\n",
       "      <th>3</th>\n",
       "      <td>150</td>\n",
       "      <td>3.5</td>\n",
       "      <td>0.052271</td>\n",
       "      <td>[0.037202066101265564, 0.03860911272269586, 0....</td>\n",
       "      <td>NaN</td>\n",
       "      <td>[-10.613533216005207, -10.563533215260149, -10...</td>\n",
       "      <td>[0.0, 0.0, 0.0, 0.0, 0.0, 0.0, 0.0, 0.0, 0.0, ...</td>\n",
       "      <td>NaN</td>\n",
       "    </tr>\n",
       "    <tr>\n",
       "      <th>4</th>\n",
       "      <td>150</td>\n",
       "      <td>4</td>\n",
       "      <td>0.049739</td>\n",
       "      <td>[0.04412852450012425, 0.04557972751704245, 0.0...</td>\n",
       "      <td>NaN</td>\n",
       "      <td>[-10.951852015047162, -10.901852014302104, -10...</td>\n",
       "      <td>[0.0, 0.0, 0.0, 0.0, 0.0, 0.0, 0.0, 0.0, 0.0, ...</td>\n",
       "      <td>NaN</td>\n",
       "    </tr>\n",
       "    <tr>\n",
       "      <th>5</th>\n",
       "      <td>150</td>\n",
       "      <td>5</td>\n",
       "      <td>0.157282</td>\n",
       "      <td>[0.14879464363892514, 0.15226728761238875, 0.1...</td>\n",
       "      <td>NaN</td>\n",
       "      <td>[-10.182500151731073, -10.132500150986015, -10...</td>\n",
       "      <td>[0.0, 0.0, 0.0, 0.0, 0.0, 0.0, 0.0, 0.0, 0.0, ...</td>\n",
       "      <td>NaN</td>\n",
       "    </tr>\n",
       "    <tr>\n",
       "      <th>6</th>\n",
       "      <td>150</td>\n",
       "      <td>5</td>\n",
       "      <td>0.055273</td>\n",
       "      <td>[0.06599271046914475, 0.05907118794274354, 0.0...</td>\n",
       "      <td>NaN</td>\n",
       "      <td>[-10.182500151731073, -10.132500150986015, -10...</td>\n",
       "      <td>[0.0, 0.0, 0.0, 0.0, 0.0, 0.0, 0.0, 0.0, 0.0, ...</td>\n",
       "      <td>NaN</td>\n",
       "    </tr>\n",
       "    <tr>\n",
       "      <th>7</th>\n",
       "      <td>150</td>\n",
       "      <td>5</td>\n",
       "      <td>0.034734</td>\n",
       "      <td>[0.03950695348725538, 0.036343847738604065, 0....</td>\n",
       "      <td>NaN</td>\n",
       "      <td>[-10.182500151731073, -10.132500150986015, -10...</td>\n",
       "      <td>[0.0, 0.0, 0.0, 0.0, 0.0, 0.0, 0.0, 0.0, 0.0, ...</td>\n",
       "      <td>NaN</td>\n",
       "    </tr>\n",
       "    <tr>\n",
       "      <th>8</th>\n",
       "      <td>150</td>\n",
       "      <td>5</td>\n",
       "      <td>0.120578</td>\n",
       "      <td>[0.13486726993454, 0.12202916798542426, 0.1201...</td>\n",
       "      <td>NaN</td>\n",
       "      <td>[-10.182500151731073, -10.132500150986015, -10...</td>\n",
       "      <td>[0.0, 0.0, 0.0, 0.0, 0.0, 0.0, 0.0, 0.0, 0.0, ...</td>\n",
       "      <td>NaN</td>\n",
       "    </tr>\n",
       "    <tr>\n",
       "      <th>9</th>\n",
       "      <td>150</td>\n",
       "      <td>5</td>\n",
       "      <td>0.079299</td>\n",
       "      <td>[0.09432813224530383, 0.08776116700366823, 0.0...</td>\n",
       "      <td>NaN</td>\n",
       "      <td>[-10.182500151731073, -10.132500150986015, -10...</td>\n",
       "      <td>[0.0, 0.0, 0.0, 0.0, 0.0, 0.0, 0.0, 0.0, 0.0, ...</td>\n",
       "      <td>NaN</td>\n",
       "    </tr>\n",
       "    <tr>\n",
       "      <th>10</th>\n",
       "      <td>150</td>\n",
       "      <td>5</td>\n",
       "      <td>0.202029</td>\n",
       "      <td>[0.18352363062715762, 0.1925449313093487, 0.18...</td>\n",
       "      <td>NaN</td>\n",
       "      <td>[-10.182500151731073, -10.132500150986015, -10...</td>\n",
       "      <td>[0.0, 0.0, 0.0, 0.0, 0.0, 0.0, 0.0, 0.0, 0.0, ...</td>\n",
       "      <td>NaN</td>\n",
       "    </tr>\n",
       "    <tr>\n",
       "      <th>11</th>\n",
       "      <td>150</td>\n",
       "      <td>6</td>\n",
       "      <td>0.076064</td>\n",
       "      <td>[0.06445018373872953, 0.061785374769888594, 0....</td>\n",
       "      <td>NaN</td>\n",
       "      <td>[-10.816406411177013, -10.766406410431955, -10...</td>\n",
       "      <td>[0.0, 0.0, 0.0, 0.0, 0.0, 0.0, 0.0, 0.0, 0.0, ...</td>\n",
       "      <td>NaN</td>\n",
       "    </tr>\n",
       "    <tr>\n",
       "      <th>12</th>\n",
       "      <td>150</td>\n",
       "      <td>6</td>\n",
       "      <td>0.043823</td>\n",
       "      <td>[0.03093123325900168, 0.032361796346999386, 0....</td>\n",
       "      <td>NaN</td>\n",
       "      <td>[-10.816406411177013, -10.766406410431955, -10...</td>\n",
       "      <td>[0.0, 0.0, 0.0, 0.0, 0.0, 0.0, 0.0, 0.0, 0.0, ...</td>\n",
       "      <td>NaN</td>\n",
       "    </tr>\n",
       "    <tr>\n",
       "      <th>13</th>\n",
       "      <td>150</td>\n",
       "      <td>6</td>\n",
       "      <td>0.123022</td>\n",
       "      <td>[0.10209316456066493, 0.13139892992330487, 0.1...</td>\n",
       "      <td>NaN</td>\n",
       "      <td>[-10.816406411177013, -10.766406410431955, -10...</td>\n",
       "      <td>[0.0, 0.0, 0.0, 0.0, 0.0, 0.0, 0.0, 0.0, 0.0, ...</td>\n",
       "      <td>NaN</td>\n",
       "    </tr>\n",
       "    <tr>\n",
       "      <th>14</th>\n",
       "      <td>150</td>\n",
       "      <td>7</td>\n",
       "      <td>0.096543</td>\n",
       "      <td>[0.1403360244771739, 0.11826446549460676, 0.11...</td>\n",
       "      <td>NaN</td>\n",
       "      <td>[-10.88775268749268, -10.837752686747622, -10....</td>\n",
       "      <td>[0.0, 0.0, 0.0, 0.0, 0.0, 0.0, 0.0, 0.0, 0.0, ...</td>\n",
       "      <td>NaN</td>\n",
       "    </tr>\n",
       "    <tr>\n",
       "      <th>15</th>\n",
       "      <td>150</td>\n",
       "      <td>7</td>\n",
       "      <td>0.198882</td>\n",
       "      <td>[0.21608601727580787, 0.18750495965651753, 0.1...</td>\n",
       "      <td>NaN</td>\n",
       "      <td>[-10.88775268749268, -10.837752686747622, -10....</td>\n",
       "      <td>[0.0, 0.0, 0.0, 0.0, 0.0, 0.0, 0.0, 0.0, 0.0, ...</td>\n",
       "      <td>NaN</td>\n",
       "    </tr>\n",
       "    <tr>\n",
       "      <th>16</th>\n",
       "      <td>150</td>\n",
       "      <td>8</td>\n",
       "      <td>0.042892</td>\n",
       "      <td>[0.03851380164251307, 0.04046399408615765, 0.0...</td>\n",
       "      <td>NaN</td>\n",
       "      <td>[-10.732083493253837, -10.682083492508779, -10...</td>\n",
       "      <td>[0.0, 0.0, 0.0, 0.0, 0.0, 0.0, 0.0, 0.0, 0.0, ...</td>\n",
       "      <td>NaN</td>\n",
       "    </tr>\n",
       "    <tr>\n",
       "      <th>17</th>\n",
       "      <td>150</td>\n",
       "      <td>8</td>\n",
       "      <td>0.150345</td>\n",
       "      <td>[0.1159235401711209, 0.1313578978672453, 0.134...</td>\n",
       "      <td>NaN</td>\n",
       "      <td>[-10.732083493253837, -10.682083492508779, -10...</td>\n",
       "      <td>[0.0, 0.0, 0.0, 0.0, 0.0, 0.0, 0.0, 0.0, 0.0, ...</td>\n",
       "      <td>NaN</td>\n",
       "    </tr>\n",
       "    <tr>\n",
       "      <th>18</th>\n",
       "      <td>150</td>\n",
       "      <td>8</td>\n",
       "      <td>0.075515</td>\n",
       "      <td>[0.06125878766537881, 0.061976098463828184, 0....</td>\n",
       "      <td>NaN</td>\n",
       "      <td>[-10.732083493253837, -10.682083492508779, -10...</td>\n",
       "      <td>[0.0, 0.0, 0.0, 0.0, 0.0, 0.0, 0.0, 0.0, 0.0, ...</td>\n",
       "      <td>NaN</td>\n",
       "    </tr>\n",
       "    <tr>\n",
       "      <th>19</th>\n",
       "      <td>150</td>\n",
       "      <td>9</td>\n",
       "      <td>0.132557</td>\n",
       "      <td>[0.20378151569656747, 0.19503297029376984, 0.1...</td>\n",
       "      <td>NaN</td>\n",
       "      <td>[-10.750529260724468, -10.70052925997941, -10....</td>\n",
       "      <td>[0.0, 0.0, 0.0, 0.0, 0.0, 0.0, 0.0, 0.0, 0.0, ...</td>\n",
       "      <td>NaN</td>\n",
       "    </tr>\n",
       "    <tr>\n",
       "      <th>20</th>\n",
       "      <td>150</td>\n",
       "      <td>9</td>\n",
       "      <td>0.075702</td>\n",
       "      <td>[0.09690011996773011, 0.0855341906779702, 0.08...</td>\n",
       "      <td>NaN</td>\n",
       "      <td>[-10.750529260724468, -10.70052925997941, -10....</td>\n",
       "      <td>[0.0, 0.0, 0.0, 0.0, 0.0, 0.0, 0.0, 0.0, 0.0, ...</td>\n",
       "      <td>NaN</td>\n",
       "    </tr>\n",
       "    <tr>\n",
       "      <th>21</th>\n",
       "      <td>150</td>\n",
       "      <td>9</td>\n",
       "      <td>0.282093</td>\n",
       "      <td>[0.3648006746931767, 0.33001411027259925, 0.30...</td>\n",
       "      <td>NaN</td>\n",
       "      <td>[-10.750529260724468, -10.70052925997941, -10....</td>\n",
       "      <td>[0.0, 0.0, 0.0, 0.0, 0.0, 0.0, 0.0, 0.0, 0.0, ...</td>\n",
       "      <td>NaN</td>\n",
       "    </tr>\n",
       "    <tr>\n",
       "      <th>22</th>\n",
       "      <td>150</td>\n",
       "      <td>10</td>\n",
       "      <td>0.059908</td>\n",
       "      <td>[0.04896291689489782, 0.05630235078722392, 0.0...</td>\n",
       "      <td>NaN</td>\n",
       "      <td>[-10.639791825211917, -10.58979182446686, -10....</td>\n",
       "      <td>[0.0, 0.0, 0.0, 0.0, 0.0, 0.0, 0.0, 0.0, 0.0, ...</td>\n",
       "      <td>NaN</td>\n",
       "    </tr>\n",
       "    <tr>\n",
       "      <th>23</th>\n",
       "      <td>150</td>\n",
       "      <td>11</td>\n",
       "      <td>0.047189</td>\n",
       "      <td>[0.05616652311901246, 0.053191361442421335, 0....</td>\n",
       "      <td>NaN</td>\n",
       "      <td>[-10.900619997142638, -10.85061999639758, -10....</td>\n",
       "      <td>[0.0, 0.0, 0.0, 0.0, 0.0, 0.0, 0.0, 0.0, 0.0, ...</td>\n",
       "      <td>NaN</td>\n",
       "    </tr>\n",
       "    <tr>\n",
       "      <th>24</th>\n",
       "      <td>250</td>\n",
       "      <td>1</td>\n",
       "      <td>0.046076</td>\n",
       "      <td>[0.03823848930472759, 0.04036575383059291, 0.0...</td>\n",
       "      <td>NaN</td>\n",
       "      <td>[-10.423140651184665, -10.373140650439607, -10...</td>\n",
       "      <td>[0.0, 0.0, 0.0, 0.0, 0.0, 0.0, 0.0, 0.0, 0.0, ...</td>\n",
       "      <td>NaN</td>\n",
       "    </tr>\n",
       "    <tr>\n",
       "      <th>25</th>\n",
       "      <td>250</td>\n",
       "      <td>2</td>\n",
       "      <td>0.040599</td>\n",
       "      <td>[0.02924062506228201, 0.03137073187170781, 0.0...</td>\n",
       "      <td>NaN</td>\n",
       "      <td>[-10.539979495900907, -10.489979495155849, -10...</td>\n",
       "      <td>[0.0, 0.0, 0.0, 0.0, 0.0, 0.0, 0.0, 0.0, 0.0, ...</td>\n",
       "      <td>NaN</td>\n",
       "    </tr>\n",
       "    <tr>\n",
       "      <th>26</th>\n",
       "      <td>250</td>\n",
       "      <td>3</td>\n",
       "      <td>0.043080</td>\n",
       "      <td>[0.028958346005192957, 0.02867692964922076, 0....</td>\n",
       "      <td>NaN</td>\n",
       "      <td>[-10.517458834408297, -10.467458833663239, -10...</td>\n",
       "      <td>[0.0, 0.0, 0.0, 0.0, 0.0, 0.0, 0.0, 0.0, 0.0, ...</td>\n",
       "      <td>NaN</td>\n",
       "    </tr>\n",
       "    <tr>\n",
       "      <th>27</th>\n",
       "      <td>250</td>\n",
       "      <td>3.5</td>\n",
       "      <td>0.052375</td>\n",
       "      <td>[0.03699898302549691, 0.03432674767258898, 0.0...</td>\n",
       "      <td>NaN</td>\n",
       "      <td>[-10.831921649011514, -10.781921648266456, -10...</td>\n",
       "      <td>[0.0, 0.0, 0.0, 0.0, 0.0, 0.0, 0.0, 0.0, 0.0, ...</td>\n",
       "      <td>NaN</td>\n",
       "    </tr>\n",
       "    <tr>\n",
       "      <th>28</th>\n",
       "      <td>250</td>\n",
       "      <td>4</td>\n",
       "      <td>0.046810</td>\n",
       "      <td>[0.03331707202115937, 0.037639671184944865, 0....</td>\n",
       "      <td>NaN</td>\n",
       "      <td>[-10.296487756735406, -10.246487755990348, -10...</td>\n",
       "      <td>[0.0, 0.0, 0.0, 0.0, 0.0, 0.0, 0.0, 0.0, 0.0, ...</td>\n",
       "      <td>NaN</td>\n",
       "    </tr>\n",
       "    <tr>\n",
       "      <th>29</th>\n",
       "      <td>250</td>\n",
       "      <td>5</td>\n",
       "      <td>0.144395</td>\n",
       "      <td>[0.12550184859082267, 0.13368437690003493, 0.1...</td>\n",
       "      <td>NaN</td>\n",
       "      <td>[-9.819474784002734, -9.769474783257676, -9.71...</td>\n",
       "      <td>[0.0, 0.0, 0.0, 0.0, 0.0, 0.0, 0.0, 0.0, 0.0, ...</td>\n",
       "      <td>NaN</td>\n",
       "    </tr>\n",
       "    <tr>\n",
       "      <th>...</th>\n",
       "      <td>...</td>\n",
       "      <td>...</td>\n",
       "      <td>...</td>\n",
       "      <td>...</td>\n",
       "      <td>...</td>\n",
       "      <td>...</td>\n",
       "      <td>...</td>\n",
       "      <td>...</td>\n",
       "    </tr>\n",
       "    <tr>\n",
       "      <th>41</th>\n",
       "      <td>250</td>\n",
       "      <td>8</td>\n",
       "      <td>0.071030</td>\n",
       "      <td>[0.05983102815436843, 0.06555670080210907, 0.0...</td>\n",
       "      <td>NaN</td>\n",
       "      <td>[-10.022449128937964, -9.972449128192906, -9.9...</td>\n",
       "      <td>[0.0, 0.0, 0.0, 0.0, 0.0, 0.0, 0.0, 0.0, 0.0, ...</td>\n",
       "      <td>NaN</td>\n",
       "    </tr>\n",
       "    <tr>\n",
       "      <th>42</th>\n",
       "      <td>250</td>\n",
       "      <td>8</td>\n",
       "      <td>0.039222</td>\n",
       "      <td>[0.04678394370452075, 0.0443562024202056, 0.04...</td>\n",
       "      <td>NaN</td>\n",
       "      <td>[-10.022449128937964, -9.972449128192906, -9.9...</td>\n",
       "      <td>[0.0, 0.0, 0.0, 0.0, 0.0, 0.0, 0.0, 0.0, 0.0, ...</td>\n",
       "      <td>NaN</td>\n",
       "    </tr>\n",
       "    <tr>\n",
       "      <th>43</th>\n",
       "      <td>250</td>\n",
       "      <td>9</td>\n",
       "      <td>0.074700</td>\n",
       "      <td>[0.09702776215444152, 0.07968005925582318, 0.0...</td>\n",
       "      <td>NaN</td>\n",
       "      <td>[-9.801136509684676, -9.751136508939618, -9.70...</td>\n",
       "      <td>[0.0, 0.0, 0.0, 0.0, 0.0, 0.0, 0.0, 0.0, 0.0, ...</td>\n",
       "      <td>NaN</td>\n",
       "    </tr>\n",
       "    <tr>\n",
       "      <th>44</th>\n",
       "      <td>250</td>\n",
       "      <td>9</td>\n",
       "      <td>0.132221</td>\n",
       "      <td>[0.17279476543124703, 0.15686400567295278, 0.1...</td>\n",
       "      <td>NaN</td>\n",
       "      <td>[-9.801136509684676, -9.751136508939618, -9.70...</td>\n",
       "      <td>[0.0, 0.0, 0.0, 0.0, 0.0, 0.0, 0.0, 0.0, 0.0, ...</td>\n",
       "      <td>NaN</td>\n",
       "    </tr>\n",
       "    <tr>\n",
       "      <th>45</th>\n",
       "      <td>250</td>\n",
       "      <td>9</td>\n",
       "      <td>0.246592</td>\n",
       "      <td>[0.3049676622824629, 0.22278105282161703, 0.21...</td>\n",
       "      <td>NaN</td>\n",
       "      <td>[-9.801136509684676, -9.751136508939618, -9.70...</td>\n",
       "      <td>[0.0, 0.0, 0.0, 0.0, 0.0, 0.0, 0.0, 0.0, 0.0, ...</td>\n",
       "      <td>NaN</td>\n",
       "    </tr>\n",
       "    <tr>\n",
       "      <th>46</th>\n",
       "      <td>250</td>\n",
       "      <td>10</td>\n",
       "      <td>0.066649</td>\n",
       "      <td>[0.06514836999609229, 0.06529112110841695, 0.0...</td>\n",
       "      <td>NaN</td>\n",
       "      <td>[-10.57342121018783, -10.523421209442771, -10....</td>\n",
       "      <td>[0.0, 0.0, 0.0, 0.0, 0.0, 0.0, 0.0, 0.0, 0.0, ...</td>\n",
       "      <td>NaN</td>\n",
       "    </tr>\n",
       "    <tr>\n",
       "      <th>47</th>\n",
       "      <td>250</td>\n",
       "      <td>11</td>\n",
       "      <td>0.050962</td>\n",
       "      <td>[0.05362042771073763, 0.052216448148048614, 0....</td>\n",
       "      <td>NaN</td>\n",
       "      <td>[-10.524736998936064, -10.474736998191005, -10...</td>\n",
       "      <td>[0.0, 0.0, 0.0, 0.0, 0.0, 0.0, 0.0, 0.0, 0.0, ...</td>\n",
       "      <td>NaN</td>\n",
       "    </tr>\n",
       "    <tr>\n",
       "      <th>48</th>\n",
       "      <td>350</td>\n",
       "      <td>1</td>\n",
       "      <td>0.055125</td>\n",
       "      <td>[0.05250048358583511, 0.053500541448039694, 0....</td>\n",
       "      <td>NaN</td>\n",
       "      <td>[-10.078202629515763, -10.028202628770705, -9....</td>\n",
       "      <td>[0.0, 0.0, 0.0, 0.0, 0.0, 0.0, 0.0, 0.0, 0.0, ...</td>\n",
       "      <td>NaN</td>\n",
       "    </tr>\n",
       "    <tr>\n",
       "      <th>49</th>\n",
       "      <td>350</td>\n",
       "      <td>2</td>\n",
       "      <td>0.034542</td>\n",
       "      <td>[0.02903772918341221, 0.03266601761681158, 0.0...</td>\n",
       "      <td>NaN</td>\n",
       "      <td>[-9.664876177075726, -9.614876176330668, -9.56...</td>\n",
       "      <td>[0.0, 0.0, 0.0, 0.0, 0.0, 0.0, 0.0, 0.0, 0.0, ...</td>\n",
       "      <td>NaN</td>\n",
       "    </tr>\n",
       "    <tr>\n",
       "      <th>50</th>\n",
       "      <td>350</td>\n",
       "      <td>3</td>\n",
       "      <td>0.044177</td>\n",
       "      <td>[0.03338067668102486, 0.034461786773377426, 0....</td>\n",
       "      <td>NaN</td>\n",
       "      <td>[-10.203615854525061, -10.153615853780003, -10...</td>\n",
       "      <td>[0.0, 0.0, 0.0, 0.0, 0.0, 0.0, 0.0, 0.0, 0.0, ...</td>\n",
       "      <td>NaN</td>\n",
       "    </tr>\n",
       "    <tr>\n",
       "      <th>51</th>\n",
       "      <td>350</td>\n",
       "      <td>3.5</td>\n",
       "      <td>0.046373</td>\n",
       "      <td>[0.0363252311433362, 0.03538186571469515, 0.04...</td>\n",
       "      <td>NaN</td>\n",
       "      <td>[-10.19710758996527, -10.147107589220212, -10....</td>\n",
       "      <td>[0.0, 0.0, 0.0, 0.0, 0.0, 0.0, 0.0, 0.0, 0.0, ...</td>\n",
       "      <td>NaN</td>\n",
       "    </tr>\n",
       "    <tr>\n",
       "      <th>52</th>\n",
       "      <td>350</td>\n",
       "      <td>4</td>\n",
       "      <td>0.037641</td>\n",
       "      <td>[0.027817644312505857, 0.030599097678379997, 0...</td>\n",
       "      <td>NaN</td>\n",
       "      <td>[-10.317045608281411, -10.267045607536353, -10...</td>\n",
       "      <td>[0.0, 0.0, 0.0, 0.0, 0.0, 0.0, 0.0, 0.0, 0.0, ...</td>\n",
       "      <td>NaN</td>\n",
       "    </tr>\n",
       "    <tr>\n",
       "      <th>53</th>\n",
       "      <td>350</td>\n",
       "      <td>5</td>\n",
       "      <td>0.045428</td>\n",
       "      <td>[0.052923443225843164, 0.0481171101037723, 0.0...</td>\n",
       "      <td>NaN</td>\n",
       "      <td>[-9.504264847506933, -9.454264846761875, -9.40...</td>\n",
       "      <td>[0.0, 0.0, 0.0, 0.0, 0.0, 0.0, 0.0, 0.0, 0.0, ...</td>\n",
       "      <td>NaN</td>\n",
       "    </tr>\n",
       "    <tr>\n",
       "      <th>54</th>\n",
       "      <td>350</td>\n",
       "      <td>5</td>\n",
       "      <td>0.118687</td>\n",
       "      <td>[0.1383204271095276, 0.12990420048555076, 0.11...</td>\n",
       "      <td>NaN</td>\n",
       "      <td>[-9.504264847506933, -9.454264846761875, -9.40...</td>\n",
       "      <td>[0.0, 0.0, 0.0, 0.0, 0.0, 0.0, 0.0, 0.0, 0.0, ...</td>\n",
       "      <td>NaN</td>\n",
       "    </tr>\n",
       "    <tr>\n",
       "      <th>55</th>\n",
       "      <td>350</td>\n",
       "      <td>5</td>\n",
       "      <td>0.083901</td>\n",
       "      <td>[0.09952881997164742, 0.09562007527228812, 0.0...</td>\n",
       "      <td>NaN</td>\n",
       "      <td>[-9.504264847506933, -9.454264846761875, -9.40...</td>\n",
       "      <td>[0.0, 0.0, 0.0, 0.0, 0.0, 0.0, 0.0, 0.0, 0.0, ...</td>\n",
       "      <td>NaN</td>\n",
       "    </tr>\n",
       "    <tr>\n",
       "      <th>56</th>\n",
       "      <td>350</td>\n",
       "      <td>5</td>\n",
       "      <td>0.079582</td>\n",
       "      <td>[0.07348193593982243, 0.07303070489165728, 0.0...</td>\n",
       "      <td>NaN</td>\n",
       "      <td>[-9.504264847506933, -9.454264846761875, -9.40...</td>\n",
       "      <td>[0.0, 0.0, 0.0, 0.0, 0.0, 0.0, 0.0, 0.0, 0.0, ...</td>\n",
       "      <td>NaN</td>\n",
       "    </tr>\n",
       "    <tr>\n",
       "      <th>57</th>\n",
       "      <td>350</td>\n",
       "      <td>5</td>\n",
       "      <td>0.061615</td>\n",
       "      <td>[0.07019547998346375, 0.06292731656915845, 0.0...</td>\n",
       "      <td>NaN</td>\n",
       "      <td>[-9.504264847506933, -9.454264846761875, -9.40...</td>\n",
       "      <td>[0.0, 0.0, 0.0, 0.0, 0.0, 0.0, 0.0, 0.0, 0.0, ...</td>\n",
       "      <td>NaN</td>\n",
       "    </tr>\n",
       "    <tr>\n",
       "      <th>58</th>\n",
       "      <td>350</td>\n",
       "      <td>5</td>\n",
       "      <td>0.163370</td>\n",
       "      <td>[0.1573528692835371, 0.15247509364806885, 0.15...</td>\n",
       "      <td>NaN</td>\n",
       "      <td>[-9.504264847506933, -9.454264846761875, -9.40...</td>\n",
       "      <td>[0.0, 0.0, 0.0, 0.0, 0.0, 0.0, 0.0, 0.0, 0.0, ...</td>\n",
       "      <td>NaN</td>\n",
       "    </tr>\n",
       "    <tr>\n",
       "      <th>59</th>\n",
       "      <td>350</td>\n",
       "      <td>6</td>\n",
       "      <td>0.069530</td>\n",
       "      <td>[0.04899354142881104, 0.0613532879047974, 0.06...</td>\n",
       "      <td>NaN</td>\n",
       "      <td>[-9.986467090958714, -9.936467090213656, -9.88...</td>\n",
       "      <td>[0.0, 0.0, 0.0, 0.0, 0.0, 0.0, 0.0, 0.0, 0.0, ...</td>\n",
       "      <td>NaN</td>\n",
       "    </tr>\n",
       "    <tr>\n",
       "      <th>60</th>\n",
       "      <td>350</td>\n",
       "      <td>6</td>\n",
       "      <td>0.187744</td>\n",
       "      <td>[0.14738813590400376, 0.14700231515520892, 0.1...</td>\n",
       "      <td>NaN</td>\n",
       "      <td>[-9.986467090958714, -9.936467090213656, -9.88...</td>\n",
       "      <td>[0.0, 0.0, 0.0, 0.0, 0.0, 0.0, 0.0, 0.0, 0.0, ...</td>\n",
       "      <td>NaN</td>\n",
       "    </tr>\n",
       "    <tr>\n",
       "      <th>61</th>\n",
       "      <td>350</td>\n",
       "      <td>6</td>\n",
       "      <td>0.095374</td>\n",
       "      <td>[0.08695605997255734, 0.09102881648334726, 0.0...</td>\n",
       "      <td>NaN</td>\n",
       "      <td>[-9.986467090958714, -9.936467090213656, -9.88...</td>\n",
       "      <td>[0.0, 0.0, 0.0, 0.0, 0.0, 0.0, 0.0, 0.0, 0.0, ...</td>\n",
       "      <td>NaN</td>\n",
       "    </tr>\n",
       "    <tr>\n",
       "      <th>62</th>\n",
       "      <td>350</td>\n",
       "      <td>7</td>\n",
       "      <td>0.111217</td>\n",
       "      <td>[0.16313291554245193, 0.13080301000332994, 0.1...</td>\n",
       "      <td>NaN</td>\n",
       "      <td>[-10.04591681636249, -9.995916815617433, -9.94...</td>\n",
       "      <td>[0.0, 0.0, 0.0, 0.0, 0.0, 0.0, 0.0, 0.0, 0.0, ...</td>\n",
       "      <td>NaN</td>\n",
       "    </tr>\n",
       "    <tr>\n",
       "      <th>63</th>\n",
       "      <td>350</td>\n",
       "      <td>7</td>\n",
       "      <td>0.220433</td>\n",
       "      <td>[0.22095311335510595, 0.22277176188627776, 0.2...</td>\n",
       "      <td>NaN</td>\n",
       "      <td>[-10.04591681636249, -9.995916815617433, -9.94...</td>\n",
       "      <td>[0.0, 0.0, 0.0, 0.0, 0.0, 0.0, 0.0, 0.0, 0.0, ...</td>\n",
       "      <td>NaN</td>\n",
       "    </tr>\n",
       "    <tr>\n",
       "      <th>64</th>\n",
       "      <td>350</td>\n",
       "      <td>8</td>\n",
       "      <td>0.143349</td>\n",
       "      <td>[0.110881288759185, 0.11889795468982557, 0.111...</td>\n",
       "      <td>NaN</td>\n",
       "      <td>[-9.622934027690409, -9.572934026945351, -9.52...</td>\n",
       "      <td>[0.0, 0.0, 0.0, 0.0, 0.0, 0.0, 0.0, 0.0, 0.0, ...</td>\n",
       "      <td>NaN</td>\n",
       "    </tr>\n",
       "    <tr>\n",
       "      <th>65</th>\n",
       "      <td>350</td>\n",
       "      <td>8</td>\n",
       "      <td>0.074741</td>\n",
       "      <td>[0.061118246804216576, 0.06024460338206817, 0....</td>\n",
       "      <td>NaN</td>\n",
       "      <td>[-9.622934027690409, -9.572934026945351, -9.52...</td>\n",
       "      <td>[0.0, 0.0, 0.0, 0.0, 0.0, 0.0, 0.0, 0.0, 0.0, ...</td>\n",
       "      <td>NaN</td>\n",
       "    </tr>\n",
       "    <tr>\n",
       "      <th>66</th>\n",
       "      <td>350</td>\n",
       "      <td>8</td>\n",
       "      <td>0.047400</td>\n",
       "      <td>[0.0470197998536438, 0.04713801439482922, 0.04...</td>\n",
       "      <td>NaN</td>\n",
       "      <td>[-9.622934027690409, -9.572934026945351, -9.52...</td>\n",
       "      <td>[0.0, 0.0, 0.0, 0.0, 0.0, 0.0, 0.0, 0.0, 0.0, ...</td>\n",
       "      <td>NaN</td>\n",
       "    </tr>\n",
       "    <tr>\n",
       "      <th>67</th>\n",
       "      <td>350</td>\n",
       "      <td>9</td>\n",
       "      <td>0.097991</td>\n",
       "      <td>[0.12024232782838436, 0.12078746161425483, 0.1...</td>\n",
       "      <td>NaN</td>\n",
       "      <td>[-9.527786519684058, -9.477786518939, -9.42778...</td>\n",
       "      <td>[0.0, 0.0, 0.0, 0.0, 0.0, 0.0, 0.0, 0.0, 0.0, ...</td>\n",
       "      <td>NaN</td>\n",
       "    </tr>\n",
       "    <tr>\n",
       "      <th>68</th>\n",
       "      <td>350</td>\n",
       "      <td>9</td>\n",
       "      <td>0.149309</td>\n",
       "      <td>[0.22417168765951284, 0.19350191700810557, 0.1...</td>\n",
       "      <td>NaN</td>\n",
       "      <td>[-9.527786519684058, -9.477786518939, -9.42778...</td>\n",
       "      <td>[0.0, 0.0, 0.0, 0.0, 0.0, 0.0, 0.0, 0.0, 0.0, ...</td>\n",
       "      <td>NaN</td>\n",
       "    </tr>\n",
       "    <tr>\n",
       "      <th>69</th>\n",
       "      <td>350</td>\n",
       "      <td>9</td>\n",
       "      <td>0.329900</td>\n",
       "      <td>[0.3553741665786681, 0.35414970119837796, 0.35...</td>\n",
       "      <td>NaN</td>\n",
       "      <td>[-9.527786519684058, -9.477786518939, -9.42778...</td>\n",
       "      <td>[0.0, 0.0, 0.0, 0.0, 0.0, 0.0, 0.0, 0.0, 0.0, ...</td>\n",
       "      <td>NaN</td>\n",
       "    </tr>\n",
       "    <tr>\n",
       "      <th>70</th>\n",
       "      <td>350</td>\n",
       "      <td>10</td>\n",
       "      <td>0.067177</td>\n",
       "      <td>[0.06575426900657717, 0.06544444445402305, 0.0...</td>\n",
       "      <td>NaN</td>\n",
       "      <td>[-9.788947514287734, -9.738947513542676, -9.68...</td>\n",
       "      <td>[0.0, 0.0, 0.0, 0.0, 0.0, 0.0, 0.0, 0.0, 0.0, ...</td>\n",
       "      <td>NaN</td>\n",
       "    </tr>\n",
       "  </tbody>\n",
       "</table>\n",
       "<p>71 rows × 8 columns</p>\n",
       "</div>"
      ],
      "text/plain": [
       "   Temperature Nanoflake_Number  Thickness  \\\n",
       "0          150                1   0.051779   \n",
       "1          150                2   0.051953   \n",
       "2          150                3   0.051799   \n",
       "3          150              3.5   0.052271   \n",
       "4          150                4   0.049739   \n",
       "5          150                5   0.157282   \n",
       "6          150                5   0.055273   \n",
       "7          150                5   0.034734   \n",
       "8          150                5   0.120578   \n",
       "9          150                5   0.079299   \n",
       "10         150                5   0.202029   \n",
       "11         150                6   0.076064   \n",
       "12         150                6   0.043823   \n",
       "13         150                6   0.123022   \n",
       "14         150                7   0.096543   \n",
       "15         150                7   0.198882   \n",
       "16         150                8   0.042892   \n",
       "17         150                8   0.150345   \n",
       "18         150                8   0.075515   \n",
       "19         150                9   0.132557   \n",
       "20         150                9   0.075702   \n",
       "21         150                9   0.282093   \n",
       "22         150               10   0.059908   \n",
       "23         150               11   0.047189   \n",
       "24         250                1   0.046076   \n",
       "25         250                2   0.040599   \n",
       "26         250                3   0.043080   \n",
       "27         250              3.5   0.052375   \n",
       "28         250                4   0.046810   \n",
       "29         250                5   0.144395   \n",
       "..         ...              ...        ...   \n",
       "41         250                8   0.071030   \n",
       "42         250                8   0.039222   \n",
       "43         250                9   0.074700   \n",
       "44         250                9   0.132221   \n",
       "45         250                9   0.246592   \n",
       "46         250               10   0.066649   \n",
       "47         250               11   0.050962   \n",
       "48         350                1   0.055125   \n",
       "49         350                2   0.034542   \n",
       "50         350                3   0.044177   \n",
       "51         350              3.5   0.046373   \n",
       "52         350                4   0.037641   \n",
       "53         350                5   0.045428   \n",
       "54         350                5   0.118687   \n",
       "55         350                5   0.083901   \n",
       "56         350                5   0.079582   \n",
       "57         350                5   0.061615   \n",
       "58         350                5   0.163370   \n",
       "59         350                6   0.069530   \n",
       "60         350                6   0.187744   \n",
       "61         350                6   0.095374   \n",
       "62         350                7   0.111217   \n",
       "63         350                7   0.220433   \n",
       "64         350                8   0.143349   \n",
       "65         350                8   0.074741   \n",
       "66         350                8   0.047400   \n",
       "67         350                9   0.097991   \n",
       "68         350                9   0.149309   \n",
       "69         350                9   0.329900   \n",
       "70         350               10   0.067177   \n",
       "\n",
       "                                       Thickness_List  Layer  \\\n",
       "0   [0.04964418256944714, 0.05025928332922756, 0.0...    NaN   \n",
       "1   [0.04008605391897694, 0.04153889935995845, 0.0...    NaN   \n",
       "2   [0.036499892053164236, 0.03700958004260841, 0....    NaN   \n",
       "3   [0.037202066101265564, 0.03860911272269586, 0....    NaN   \n",
       "4   [0.04412852450012425, 0.04557972751704245, 0.0...    NaN   \n",
       "5   [0.14879464363892514, 0.15226728761238875, 0.1...    NaN   \n",
       "6   [0.06599271046914475, 0.05907118794274354, 0.0...    NaN   \n",
       "7   [0.03950695348725538, 0.036343847738604065, 0....    NaN   \n",
       "8   [0.13486726993454, 0.12202916798542426, 0.1201...    NaN   \n",
       "9   [0.09432813224530383, 0.08776116700366823, 0.0...    NaN   \n",
       "10  [0.18352363062715762, 0.1925449313093487, 0.18...    NaN   \n",
       "11  [0.06445018373872953, 0.061785374769888594, 0....    NaN   \n",
       "12  [0.03093123325900168, 0.032361796346999386, 0....    NaN   \n",
       "13  [0.10209316456066493, 0.13139892992330487, 0.1...    NaN   \n",
       "14  [0.1403360244771739, 0.11826446549460676, 0.11...    NaN   \n",
       "15  [0.21608601727580787, 0.18750495965651753, 0.1...    NaN   \n",
       "16  [0.03851380164251307, 0.04046399408615765, 0.0...    NaN   \n",
       "17  [0.1159235401711209, 0.1313578978672453, 0.134...    NaN   \n",
       "18  [0.06125878766537881, 0.061976098463828184, 0....    NaN   \n",
       "19  [0.20378151569656747, 0.19503297029376984, 0.1...    NaN   \n",
       "20  [0.09690011996773011, 0.0855341906779702, 0.08...    NaN   \n",
       "21  [0.3648006746931767, 0.33001411027259925, 0.30...    NaN   \n",
       "22  [0.04896291689489782, 0.05630235078722392, 0.0...    NaN   \n",
       "23  [0.05616652311901246, 0.053191361442421335, 0....    NaN   \n",
       "24  [0.03823848930472759, 0.04036575383059291, 0.0...    NaN   \n",
       "25  [0.02924062506228201, 0.03137073187170781, 0.0...    NaN   \n",
       "26  [0.028958346005192957, 0.02867692964922076, 0....    NaN   \n",
       "27  [0.03699898302549691, 0.03432674767258898, 0.0...    NaN   \n",
       "28  [0.03331707202115937, 0.037639671184944865, 0....    NaN   \n",
       "29  [0.12550184859082267, 0.13368437690003493, 0.1...    NaN   \n",
       "..                                                ...    ...   \n",
       "41  [0.05983102815436843, 0.06555670080210907, 0.0...    NaN   \n",
       "42  [0.04678394370452075, 0.0443562024202056, 0.04...    NaN   \n",
       "43  [0.09702776215444152, 0.07968005925582318, 0.0...    NaN   \n",
       "44  [0.17279476543124703, 0.15686400567295278, 0.1...    NaN   \n",
       "45  [0.3049676622824629, 0.22278105282161703, 0.21...    NaN   \n",
       "46  [0.06514836999609229, 0.06529112110841695, 0.0...    NaN   \n",
       "47  [0.05362042771073763, 0.052216448148048614, 0....    NaN   \n",
       "48  [0.05250048358583511, 0.053500541448039694, 0....    NaN   \n",
       "49  [0.02903772918341221, 0.03266601761681158, 0.0...    NaN   \n",
       "50  [0.03338067668102486, 0.034461786773377426, 0....    NaN   \n",
       "51  [0.0363252311433362, 0.03538186571469515, 0.04...    NaN   \n",
       "52  [0.027817644312505857, 0.030599097678379997, 0...    NaN   \n",
       "53  [0.052923443225843164, 0.0481171101037723, 0.0...    NaN   \n",
       "54  [0.1383204271095276, 0.12990420048555076, 0.11...    NaN   \n",
       "55  [0.09952881997164742, 0.09562007527228812, 0.0...    NaN   \n",
       "56  [0.07348193593982243, 0.07303070489165728, 0.0...    NaN   \n",
       "57  [0.07019547998346375, 0.06292731656915845, 0.0...    NaN   \n",
       "58  [0.1573528692835371, 0.15247509364806885, 0.15...    NaN   \n",
       "59  [0.04899354142881104, 0.0613532879047974, 0.06...    NaN   \n",
       "60  [0.14738813590400376, 0.14700231515520892, 0.1...    NaN   \n",
       "61  [0.08695605997255734, 0.09102881648334726, 0.0...    NaN   \n",
       "62  [0.16313291554245193, 0.13080301000332994, 0.1...    NaN   \n",
       "63  [0.22095311335510595, 0.22277176188627776, 0.2...    NaN   \n",
       "64  [0.110881288759185, 0.11889795468982557, 0.111...    NaN   \n",
       "65  [0.061118246804216576, 0.06024460338206817, 0....    NaN   \n",
       "66  [0.0470197998536438, 0.04713801439482922, 0.04...    NaN   \n",
       "67  [0.12024232782838436, 0.12078746161425483, 0.1...    NaN   \n",
       "68  [0.22417168765951284, 0.19350191700810557, 0.1...    NaN   \n",
       "69  [0.3553741665786681, 0.35414970119837796, 0.35...    NaN   \n",
       "70  [0.06575426900657717, 0.06544444445402305, 0.0...    NaN   \n",
       "\n",
       "                                        Spectrum_Axis  \\\n",
       "0   [-10.611673711845267, -10.561673711100209, -10...   \n",
       "1   [-10.564876190486771, -10.514876189741713, -10...   \n",
       "2   [-10.548553876193964, -10.498553875448906, -10...   \n",
       "3   [-10.613533216005207, -10.563533215260149, -10...   \n",
       "4   [-10.951852015047162, -10.901852014302104, -10...   \n",
       "5   [-10.182500151731073, -10.132500150986015, -10...   \n",
       "6   [-10.182500151731073, -10.132500150986015, -10...   \n",
       "7   [-10.182500151731073, -10.132500150986015, -10...   \n",
       "8   [-10.182500151731073, -10.132500150986015, -10...   \n",
       "9   [-10.182500151731073, -10.132500150986015, -10...   \n",
       "10  [-10.182500151731073, -10.132500150986015, -10...   \n",
       "11  [-10.816406411177013, -10.766406410431955, -10...   \n",
       "12  [-10.816406411177013, -10.766406410431955, -10...   \n",
       "13  [-10.816406411177013, -10.766406410431955, -10...   \n",
       "14  [-10.88775268749268, -10.837752686747622, -10....   \n",
       "15  [-10.88775268749268, -10.837752686747622, -10....   \n",
       "16  [-10.732083493253837, -10.682083492508779, -10...   \n",
       "17  [-10.732083493253837, -10.682083492508779, -10...   \n",
       "18  [-10.732083493253837, -10.682083492508779, -10...   \n",
       "19  [-10.750529260724468, -10.70052925997941, -10....   \n",
       "20  [-10.750529260724468, -10.70052925997941, -10....   \n",
       "21  [-10.750529260724468, -10.70052925997941, -10....   \n",
       "22  [-10.639791825211917, -10.58979182446686, -10....   \n",
       "23  [-10.900619997142638, -10.85061999639758, -10....   \n",
       "24  [-10.423140651184665, -10.373140650439607, -10...   \n",
       "25  [-10.539979495900907, -10.489979495155849, -10...   \n",
       "26  [-10.517458834408297, -10.467458833663239, -10...   \n",
       "27  [-10.831921649011514, -10.781921648266456, -10...   \n",
       "28  [-10.296487756735406, -10.246487755990348, -10...   \n",
       "29  [-9.819474784002734, -9.769474783257676, -9.71...   \n",
       "..                                                ...   \n",
       "41  [-10.022449128937964, -9.972449128192906, -9.9...   \n",
       "42  [-10.022449128937964, -9.972449128192906, -9.9...   \n",
       "43  [-9.801136509684676, -9.751136508939618, -9.70...   \n",
       "44  [-9.801136509684676, -9.751136508939618, -9.70...   \n",
       "45  [-9.801136509684676, -9.751136508939618, -9.70...   \n",
       "46  [-10.57342121018783, -10.523421209442771, -10....   \n",
       "47  [-10.524736998936064, -10.474736998191005, -10...   \n",
       "48  [-10.078202629515763, -10.028202628770705, -9....   \n",
       "49  [-9.664876177075726, -9.614876176330668, -9.56...   \n",
       "50  [-10.203615854525061, -10.153615853780003, -10...   \n",
       "51  [-10.19710758996527, -10.147107589220212, -10....   \n",
       "52  [-10.317045608281411, -10.267045607536353, -10...   \n",
       "53  [-9.504264847506933, -9.454264846761875, -9.40...   \n",
       "54  [-9.504264847506933, -9.454264846761875, -9.40...   \n",
       "55  [-9.504264847506933, -9.454264846761875, -9.40...   \n",
       "56  [-9.504264847506933, -9.454264846761875, -9.40...   \n",
       "57  [-9.504264847506933, -9.454264846761875, -9.40...   \n",
       "58  [-9.504264847506933, -9.454264846761875, -9.40...   \n",
       "59  [-9.986467090958714, -9.936467090213656, -9.88...   \n",
       "60  [-9.986467090958714, -9.936467090213656, -9.88...   \n",
       "61  [-9.986467090958714, -9.936467090213656, -9.88...   \n",
       "62  [-10.04591681636249, -9.995916815617433, -9.94...   \n",
       "63  [-10.04591681636249, -9.995916815617433, -9.94...   \n",
       "64  [-9.622934027690409, -9.572934026945351, -9.52...   \n",
       "65  [-9.622934027690409, -9.572934026945351, -9.52...   \n",
       "66  [-9.622934027690409, -9.572934026945351, -9.52...   \n",
       "67  [-9.527786519684058, -9.477786518939, -9.42778...   \n",
       "68  [-9.527786519684058, -9.477786518939, -9.42778...   \n",
       "69  [-9.527786519684058, -9.477786518939, -9.42778...   \n",
       "70  [-9.788947514287734, -9.738947513542676, -9.68...   \n",
       "\n",
       "                                        EELS_Spectrum  Peak_Position  \n",
       "0   [0.0, 0.0, 0.0, 0.0, 0.0, 0.0, 0.0, 0.0, 0.0, ...            NaN  \n",
       "1   [0.0, 0.0, 0.0, 0.0, 0.0, 0.0, 0.0, 0.0, 0.0, ...            NaN  \n",
       "2   [0.0, 0.0, 0.0, 0.0, 0.0, 0.0, 0.0, 0.0, 0.0, ...            NaN  \n",
       "3   [0.0, 0.0, 0.0, 0.0, 0.0, 0.0, 0.0, 0.0, 0.0, ...            NaN  \n",
       "4   [0.0, 0.0, 0.0, 0.0, 0.0, 0.0, 0.0, 0.0, 0.0, ...            NaN  \n",
       "5   [0.0, 0.0, 0.0, 0.0, 0.0, 0.0, 0.0, 0.0, 0.0, ...            NaN  \n",
       "6   [0.0, 0.0, 0.0, 0.0, 0.0, 0.0, 0.0, 0.0, 0.0, ...            NaN  \n",
       "7   [0.0, 0.0, 0.0, 0.0, 0.0, 0.0, 0.0, 0.0, 0.0, ...            NaN  \n",
       "8   [0.0, 0.0, 0.0, 0.0, 0.0, 0.0, 0.0, 0.0, 0.0, ...            NaN  \n",
       "9   [0.0, 0.0, 0.0, 0.0, 0.0, 0.0, 0.0, 0.0, 0.0, ...            NaN  \n",
       "10  [0.0, 0.0, 0.0, 0.0, 0.0, 0.0, 0.0, 0.0, 0.0, ...            NaN  \n",
       "11  [0.0, 0.0, 0.0, 0.0, 0.0, 0.0, 0.0, 0.0, 0.0, ...            NaN  \n",
       "12  [0.0, 0.0, 0.0, 0.0, 0.0, 0.0, 0.0, 0.0, 0.0, ...            NaN  \n",
       "13  [0.0, 0.0, 0.0, 0.0, 0.0, 0.0, 0.0, 0.0, 0.0, ...            NaN  \n",
       "14  [0.0, 0.0, 0.0, 0.0, 0.0, 0.0, 0.0, 0.0, 0.0, ...            NaN  \n",
       "15  [0.0, 0.0, 0.0, 0.0, 0.0, 0.0, 0.0, 0.0, 0.0, ...            NaN  \n",
       "16  [0.0, 0.0, 0.0, 0.0, 0.0, 0.0, 0.0, 0.0, 0.0, ...            NaN  \n",
       "17  [0.0, 0.0, 0.0, 0.0, 0.0, 0.0, 0.0, 0.0, 0.0, ...            NaN  \n",
       "18  [0.0, 0.0, 0.0, 0.0, 0.0, 0.0, 0.0, 0.0, 0.0, ...            NaN  \n",
       "19  [0.0, 0.0, 0.0, 0.0, 0.0, 0.0, 0.0, 0.0, 0.0, ...            NaN  \n",
       "20  [0.0, 0.0, 0.0, 0.0, 0.0, 0.0, 0.0, 0.0, 0.0, ...            NaN  \n",
       "21  [0.0, 0.0, 0.0, 0.0, 0.0, 0.0, 0.0, 0.0, 0.0, ...            NaN  \n",
       "22  [0.0, 0.0, 0.0, 0.0, 0.0, 0.0, 0.0, 0.0, 0.0, ...            NaN  \n",
       "23  [0.0, 0.0, 0.0, 0.0, 0.0, 0.0, 0.0, 0.0, 0.0, ...            NaN  \n",
       "24  [0.0, 0.0, 0.0, 0.0, 0.0, 0.0, 0.0, 0.0, 0.0, ...            NaN  \n",
       "25  [0.0, 0.0, 0.0, 0.0, 0.0, 0.0, 0.0, 0.0, 0.0, ...            NaN  \n",
       "26  [0.0, 0.0, 0.0, 0.0, 0.0, 0.0, 0.0, 0.0, 0.0, ...            NaN  \n",
       "27  [0.0, 0.0, 0.0, 0.0, 0.0, 0.0, 0.0, 0.0, 0.0, ...            NaN  \n",
       "28  [0.0, 0.0, 0.0, 0.0, 0.0, 0.0, 0.0, 0.0, 0.0, ...            NaN  \n",
       "29  [0.0, 0.0, 0.0, 0.0, 0.0, 0.0, 0.0, 0.0, 0.0, ...            NaN  \n",
       "..                                                ...            ...  \n",
       "41  [0.0, 0.0, 0.0, 0.0, 0.0, 0.0, 0.0, 0.0, 0.0, ...            NaN  \n",
       "42  [0.0, 0.0, 0.0, 0.0, 0.0, 0.0, 0.0, 0.0, 0.0, ...            NaN  \n",
       "43  [0.0, 0.0, 0.0, 0.0, 0.0, 0.0, 0.0, 0.0, 0.0, ...            NaN  \n",
       "44  [0.0, 0.0, 0.0, 0.0, 0.0, 0.0, 0.0, 0.0, 0.0, ...            NaN  \n",
       "45  [0.0, 0.0, 0.0, 0.0, 0.0, 0.0, 0.0, 0.0, 0.0, ...            NaN  \n",
       "46  [0.0, 0.0, 0.0, 0.0, 0.0, 0.0, 0.0, 0.0, 0.0, ...            NaN  \n",
       "47  [0.0, 0.0, 0.0, 0.0, 0.0, 0.0, 0.0, 0.0, 0.0, ...            NaN  \n",
       "48  [0.0, 0.0, 0.0, 0.0, 0.0, 0.0, 0.0, 0.0, 0.0, ...            NaN  \n",
       "49  [0.0, 0.0, 0.0, 0.0, 0.0, 0.0, 0.0, 0.0, 0.0, ...            NaN  \n",
       "50  [0.0, 0.0, 0.0, 0.0, 0.0, 0.0, 0.0, 0.0, 0.0, ...            NaN  \n",
       "51  [0.0, 0.0, 0.0, 0.0, 0.0, 0.0, 0.0, 0.0, 0.0, ...            NaN  \n",
       "52  [0.0, 0.0, 0.0, 0.0, 0.0, 0.0, 0.0, 0.0, 0.0, ...            NaN  \n",
       "53  [0.0, 0.0, 0.0, 0.0, 0.0, 0.0, 0.0, 0.0, 0.0, ...            NaN  \n",
       "54  [0.0, 0.0, 0.0, 0.0, 0.0, 0.0, 0.0, 0.0, 0.0, ...            NaN  \n",
       "55  [0.0, 0.0, 0.0, 0.0, 0.0, 0.0, 0.0, 0.0, 0.0, ...            NaN  \n",
       "56  [0.0, 0.0, 0.0, 0.0, 0.0, 0.0, 0.0, 0.0, 0.0, ...            NaN  \n",
       "57  [0.0, 0.0, 0.0, 0.0, 0.0, 0.0, 0.0, 0.0, 0.0, ...            NaN  \n",
       "58  [0.0, 0.0, 0.0, 0.0, 0.0, 0.0, 0.0, 0.0, 0.0, ...            NaN  \n",
       "59  [0.0, 0.0, 0.0, 0.0, 0.0, 0.0, 0.0, 0.0, 0.0, ...            NaN  \n",
       "60  [0.0, 0.0, 0.0, 0.0, 0.0, 0.0, 0.0, 0.0, 0.0, ...            NaN  \n",
       "61  [0.0, 0.0, 0.0, 0.0, 0.0, 0.0, 0.0, 0.0, 0.0, ...            NaN  \n",
       "62  [0.0, 0.0, 0.0, 0.0, 0.0, 0.0, 0.0, 0.0, 0.0, ...            NaN  \n",
       "63  [0.0, 0.0, 0.0, 0.0, 0.0, 0.0, 0.0, 0.0, 0.0, ...            NaN  \n",
       "64  [0.0, 0.0, 0.0, 0.0, 0.0, 0.0, 0.0, 0.0, 0.0, ...            NaN  \n",
       "65  [0.0, 0.0, 0.0, 0.0, 0.0, 0.0, 0.0, 0.0, 0.0, ...            NaN  \n",
       "66  [0.0, 0.0, 0.0, 0.0, 0.0, 0.0, 0.0, 0.0, 0.0, ...            NaN  \n",
       "67  [0.0, 0.0, 0.0, 0.0, 0.0, 0.0, 0.0, 0.0, 0.0, ...            NaN  \n",
       "68  [0.0, 0.0, 0.0, 0.0, 0.0, 0.0, 0.0, 0.0, 0.0, ...            NaN  \n",
       "69  [0.0, 0.0, 0.0, 0.0, 0.0, 0.0, 0.0, 0.0, 0.0, ...            NaN  \n",
       "70  [0.0, 0.0, 0.0, 0.0, 0.0, 0.0, 0.0, 0.0, 0.0, ...            NaN  \n",
       "\n",
       "[71 rows x 8 columns]"
      ]
     },
     "execution_count": 6,
     "metadata": {},
     "output_type": "execute_result"
    }
   ],
   "source": [
    "tmd"
   ]
  },
  {
   "cell_type": "code",
   "execution_count": 8,
   "metadata": {
    "collapsed": true
   },
   "outputs": [],
   "source": [
    "tmdlist = [isimn for isim in tmd['Thickness_List'] for isimn in isim]"
   ]
  },
  {
   "cell_type": "code",
   "execution_count": 9,
   "metadata": {},
   "outputs": [
    {
     "data": {
      "text/plain": [
       "(array([ 651.,  803., 1013., 1088.,  909.,  702.,  471.,  432.,  343.,\n",
       "         234.,  224.,  172.,  183.,  147.,  134.,  128.,  131.,  131.,\n",
       "         105.,   98.,   82.,   99.,  103.,   81.,   61.,   66.,   51.,\n",
       "          59.,   87.,   79.,   99.,   78.,   67.,   58.,   59.,   52.,\n",
       "          58.,   52.,   44.,   44.,   34.,   43.,   27.,   26.,   24.,\n",
       "          26.,   23.,   23.,   14.,   29.]),\n",
       " array([0.04  , 0.0432, 0.0464, 0.0496, 0.0528, 0.056 , 0.0592, 0.0624,\n",
       "        0.0656, 0.0688, 0.072 , 0.0752, 0.0784, 0.0816, 0.0848, 0.088 ,\n",
       "        0.0912, 0.0944, 0.0976, 0.1008, 0.104 , 0.1072, 0.1104, 0.1136,\n",
       "        0.1168, 0.12  , 0.1232, 0.1264, 0.1296, 0.1328, 0.136 , 0.1392,\n",
       "        0.1424, 0.1456, 0.1488, 0.152 , 0.1552, 0.1584, 0.1616, 0.1648,\n",
       "        0.168 , 0.1712, 0.1744, 0.1776, 0.1808, 0.184 , 0.1872, 0.1904,\n",
       "        0.1936, 0.1968, 0.2   ]),\n",
       " <a list of 50 Patch objects>)"
      ]
     },
     "execution_count": 9,
     "metadata": {},
     "output_type": "execute_result"
    },
    {
     "data": {
      "image/png": "[encoded data removed]",
      "text/plain": [
       "<matplotlib.figure.Figure at 0x1bed74a8>"
      ]
     },
     "metadata": {},
     "output_type": "display_data"
    }
   ],
   "source": [
    "plt.hist(tmdlist,50,(0.04,0.2))\n",
    "plt.yscale('log', nonposy='clip')"
   ]
  },
  {
   "cell_type": "code",
   "execution_count": 179,
   "metadata": {},
   "outputs": [
    {
     "data": {
      "text/plain": [
       "[<matplotlib.lines.Line2D at 0x27dbcda0>]"
      ]
     },
     "execution_count": 179,
     "metadata": {},
     "output_type": "execute_result"
    },
    {
     "data": {
      "text/plain": [
       "<matplotlib.collections.PathCollection at 0x27dbc0f0>"
      ]
     },
     "execution_count": 179,
     "metadata": {},
     "output_type": "execute_result"
    },
    {
     "data": {
      "image/png": "[encoded data removed]",
      "text/plain": [
       "<matplotlib.figure.Figure at 0x21282780>"
      ]
     },
     "metadata": {},
     "output_type": "display_data"
    }
   ],
   "source": [
    "a=[0.0496, 0.0944, 0.136]\n",
    "b=[1,2,3]\n",
    "thick_eff=np.polyfit(b,a,1)\n",
    "xa=np.linspace(0,6,100)\n",
    "plt.plot(xa,thick_eff[0]*xa+thick_eff[1])\n",
    "plt.scatter(b,a,color='r')"
   ]
  },
  {
   "cell_type": "code",
   "execution_count": 180,
   "metadata": {
    "collapsed": true
   },
   "outputs": [],
   "source": [
    "tmd['Layer']=(tmd['Thickness']-thick_eff[1])/thick_eff[0]"
   ]
  },
  {
   "cell_type": "code",
   "execution_count": 189,
   "metadata": {
    "collapsed": true
   },
   "outputs": [],
   "source": [
    "result=pd.DataFrame(index=tmd[tmd['Temperature'] == 150].index,columns=['Nanoflake_Number','Layer','Peak_Position','Temperature_List','Shift','Normalized_Shift'])"
   ]
  },
  {
   "cell_type": "code",
   "execution_count": null,
   "metadata": {
    "collapsed": true
   },
   "outputs": [],
   "source": [
    "for ifl in tmd[tmd['Temperature'] == 150].index:\n",
    "    resulttmd['Peak_Position'][tmd['Nanoflake_Number'] == ifl]"
   ]
  },
  {
   "cell_type": "code",
   "execution_count": 10,
   "metadata": {
    "collapsed": true
   },
   "outputs": [],
   "source": [
    "pp1 = tmd['Peak_Position'][tmd['Temperature'] == 150]\n",
    "pp2 = tmd['Peak_Position'][tmd['Temperature'] == 250]\n",
    "pp3 = tmd['Peak_Position'][tmd['Temperature'] == 350]"
   ]
  },
  {
   "cell_type": "code",
   "execution_count": 266,
   "metadata": {},
   "outputs": [
    {
     "data": {
      "text/plain": [
       "[<matplotlib.lines.Line2D at 0x271deb00>]"
      ]
     },
     "execution_count": 266,
     "metadata": {},
     "output_type": "execute_result"
    },
    {
     "data": {
      "text/plain": [
       "[<matplotlib.lines.Line2D at 0x271ad128>]"
      ]
     },
     "execution_count": 266,
     "metadata": {},
     "output_type": "execute_result"
    },
    {
     "data": {
      "text/plain": [
       "[<matplotlib.lines.Line2D at 0x271ad518>]"
      ]
     },
     "execution_count": 266,
     "metadata": {},
     "output_type": "execute_result"
    },
    {
     "data": {
      "text/plain": [
       "[<matplotlib.lines.Line2D at 0x271ada90>]"
      ]
     },
     "execution_count": 266,
     "metadata": {},
     "output_type": "execute_result"
    },
    {
     "data": {
      "text/plain": [
       "[<matplotlib.lines.Line2D at 0x271ade80>]"
      ]
     },
     "execution_count": 266,
     "metadata": {},
     "output_type": "execute_result"
    },
    {
     "data": {
      "text/plain": [
       "[<matplotlib.lines.Line2D at 0x271ab1d0>]"
      ]
     },
     "execution_count": 266,
     "metadata": {},
     "output_type": "execute_result"
    },
    {
     "data": {
      "text/plain": [
       "[<matplotlib.lines.Line2D at 0x271ab3c8>]"
      ]
     },
     "execution_count": 266,
     "metadata": {},
     "output_type": "execute_result"
    },
    {
     "data": {
      "text/plain": [
       "[<matplotlib.lines.Line2D at 0x271abba8>]"
      ]
     },
     "execution_count": 266,
     "metadata": {},
     "output_type": "execute_result"
    },
    {
     "data": {
      "text/plain": [
       "[<matplotlib.lines.Line2D at 0x271b60f0>]"
      ]
     },
     "execution_count": 266,
     "metadata": {},
     "output_type": "execute_result"
    },
    {
     "data": {
      "text/plain": [
       "[<matplotlib.lines.Line2D at 0x271b6048>]"
      ]
     },
     "execution_count": 266,
     "metadata": {},
     "output_type": "execute_result"
    },
    {
     "data": {
      "text/plain": [
       "[<matplotlib.lines.Line2D at 0x2132cc88>]"
      ]
     },
     "execution_count": 266,
     "metadata": {},
     "output_type": "execute_result"
    },
    {
     "data": {
      "text/plain": [
       "[<matplotlib.lines.Line2D at 0x271b6e10>]"
      ]
     },
     "execution_count": 266,
     "metadata": {},
     "output_type": "execute_result"
    },
    {
     "data": {
      "text/plain": [
       "[<matplotlib.lines.Line2D at 0x271b6f60>]"
      ]
     },
     "execution_count": 266,
     "metadata": {},
     "output_type": "execute_result"
    },
    {
     "data": {
      "text/plain": [
       "[<matplotlib.lines.Line2D at 0x271b8588>]"
      ]
     },
     "execution_count": 266,
     "metadata": {},
     "output_type": "execute_result"
    },
    {
     "data": {
      "text/plain": [
       "[<matplotlib.lines.Line2D at 0x271b8ba8>]"
      ]
     },
     "execution_count": 266,
     "metadata": {},
     "output_type": "execute_result"
    },
    {
     "data": {
      "text/plain": [
       "[<matplotlib.lines.Line2D at 0x271b8fd0>]"
      ]
     },
     "execution_count": 266,
     "metadata": {},
     "output_type": "execute_result"
    },
    {
     "data": {
      "text/plain": [
       "[<matplotlib.lines.Line2D at 0x22d9e470>]"
      ]
     },
     "execution_count": 266,
     "metadata": {},
     "output_type": "execute_result"
    },
    {
     "data": {
      "image/png": "[encoded data removed]",
      "text/plain": [
       "<matplotlib.figure.Figure at 0x256f6390>"
      ]
     },
     "metadata": {},
     "output_type": "display_data"
    }
   ],
   "source": [
    "for ip in range(np.shape(ppr2)[0]):\n",
    "    plt.plot(ppr2[ip,:])"
   ]
  },
  {
   "cell_type": "code",
   "execution_count": 217,
   "metadata": {
    "collapsed": true
   },
   "outputs": [],
   "source": [
    "ppr = np.vstack((pp1,pp2,pp3))\n",
    "ppr = np.transpose(ppr)"
   ]
  },
  {
   "cell_type": "code",
   "execution_count": 11,
   "metadata": {},
   "outputs": [
    {
     "name": "stderr",
     "output_type": "stream",
     "text": [
      "D:\\Anaconda3\\lib\\site-packages\\ipykernel_launcher.py:34: SettingWithCopyWarning: \n",
      "A value is trying to be set on a copy of a slice from a DataFrame\n",
      "\n",
      "See the caveats in the documentation: http://pandas.pydata.org/pandas-docs/stable/indexing.html#indexing-view-versus-copy\n",
      "D:\\Anaconda3\\lib\\site-packages\\scipy\\optimize\\minpack.py:785: OptimizeWarning: Covariance of the parameters could not be estimated\n",
      "  category=OptimizeWarning)\n",
      "D:\\Anaconda3\\lib\\site-packages\\ipykernel_launcher.py:36: SettingWithCopyWarning: \n",
      "A value is trying to be set on a copy of a slice from a DataFrame\n",
      "\n",
      "See the caveats in the documentation: http://pandas.pydata.org/pandas-docs/stable/indexing.html#indexing-view-versus-copy\n"
     ]
    }
   ],
   "source": [
    "from scipy.optimize import curve_fit\n",
    "def gauss(x, a, b, c, d): return a*np.exp(-((x-b)/c)**2) + d;\n",
    "\n",
    "def gauss_fit(x0,y0,rg):\n",
    "    offset = x0[0]\n",
    "    scale = (x0[-1]-x0[0])/(np.shape(x0)[0]-1)\n",
    "    a4 = min(y0);\n",
    "    def FWHM(X,Y):\n",
    "        half_max = max(Y) / 2.\n",
    "        d = Y - half_max\n",
    "        indx = np.where(d > 0)\n",
    "        return abs(X[indx][-1] - X[indx][0])\n",
    "    a3 = FWHM(x0,np.array(y0))/2.35;\n",
    "    #a3 = ((max(x0)-min(x0))/10)**2;\n",
    "    a1 = max(y0)-min(y0);\n",
    "    a2 = (rg[0]+rg[1])/2;\n",
    "    ind = np.round((rg-offset)/scale).astype('int')\n",
    "    x1 = x0[ind[0]:ind[1]]\n",
    "    y1 = y0[ind[0]:ind[1]]\n",
    "\n",
    "    pg, pgv = curve_fit(gauss, x1, y1, [a1, a2, a3, a4],maxfev=5000)\n",
    "    return pg[1]\n",
    "    \n",
    "rg=[20,30]\n",
    "#def find_rg(X,Y):\n",
    "#    d = Y - max(Y)/2\n",
    "#    indx = np.where(d > 0)\n",
    "#    return [X[indx][0],X[indx][-1]]\n",
    "\n",
    "for icase in tmd.index:\n",
    "    x0 = tmd['Spectrum_Axis'][icase]\n",
    "    y0 = tmd['EELS_Spectrum'][icase]\n",
    "    try:\n",
    "        tmd['Peak_Position'][icase] = gauss_fit(x0,y0,rg)\n",
    "    except RuntimeError:\n",
    "        tmd['Peak_Position'][icase] = 0\n",
    "    "
   ]
  },
  {
   "cell_type": "code",
   "execution_count": 105,
   "metadata": {
    "collapsed": true
   },
   "outputs": [],
   "source": [
    "half_max = max(np.array(y0)) / 2\n",
    "d = y0 - half_max\n",
    "ind = np.where(d > 0)"
   ]
  },
  {
   "cell_type": "code",
   "execution_count": 166,
   "metadata": {},
   "outputs": [
    {
     "data": {
      "text/html": [
       "<div>\n",
       "<style>\n",
       "    .dataframe thead tr:only-child th {\n",
       "        text-align: right;\n",
       "    }\n",
       "\n",
       "    .dataframe thead th {\n",
       "        text-align: left;\n",
       "    }\n",
       "\n",
       "    .dataframe tbody tr th {\n",
       "        vertical-align: top;\n",
       "    }\n",
       "</style>\n",
       "<table border=\"1\" class=\"dataframe\">\n",
       "  <thead>\n",
       "    <tr style=\"text-align: right;\">\n",
       "      <th></th>\n",
       "      <th>Temperature</th>\n",
       "      <th>Nanoflake_Number</th>\n",
       "      <th>Thickness</th>\n",
       "      <th>Thickness_List</th>\n",
       "      <th>Layer</th>\n",
       "      <th>Spectrum_Axis</th>\n",
       "      <th>EELS_Spectrum</th>\n",
       "      <th>Peak_Position</th>\n",
       "    </tr>\n",
       "  </thead>\n",
       "  <tbody>\n",
       "    <tr>\n",
       "      <th>0</th>\n",
       "      <td>150</td>\n",
       "      <td>1</td>\n",
       "      <td>0.051779</td>\n",
       "      <td>[0.04964418256944714, 0.05025928332922756, 0.0...</td>\n",
       "      <td>NaN</td>\n",
       "      <td>[-10.611673711845267, -10.561673711100209, -10...</td>\n",
       "      <td>[0.0, 0.0, 0.0, 0.0, 0.0, 0.0, 0.0, 0.0, 0.0, ...</td>\n",
       "      <td>25.194752</td>\n",
       "    </tr>\n",
       "    <tr>\n",
       "      <th>24</th>\n",
       "      <td>250</td>\n",
       "      <td>1</td>\n",
       "      <td>0.046052</td>\n",
       "      <td>[0.03823848930472759, 0.04036575383059291, 0.0...</td>\n",
       "      <td>NaN</td>\n",
       "      <td>[-10.423140651184665, -10.373140650439607, -10...</td>\n",
       "      <td>[0.0, 0.0, 0.0, 0.0, 0.0, 0.0, 0.0, 0.0, 0.0, ...</td>\n",
       "      <td>24.864017</td>\n",
       "    </tr>\n",
       "    <tr>\n",
       "      <th>48</th>\n",
       "      <td>350</td>\n",
       "      <td>1</td>\n",
       "      <td>0.055125</td>\n",
       "      <td>[0.05250048358583511, 0.053500541448039694, 0....</td>\n",
       "      <td>NaN</td>\n",
       "      <td>[-10.078202629515763, -10.028202628770705, -9....</td>\n",
       "      <td>[0.0, 0.0, 0.0, 0.0, 0.0, 0.0, 0.0, 0.0, 0.0, ...</td>\n",
       "      <td>0.000000</td>\n",
       "    </tr>\n",
       "  </tbody>\n",
       "</table>\n",
       "</div>"
      ],
      "text/plain": [
       "   Temperature Nanoflake_Number  Thickness  \\\n",
       "0          150                1   0.051779   \n",
       "24         250                1   0.046052   \n",
       "48         350                1   0.055125   \n",
       "\n",
       "                                       Thickness_List  Layer  \\\n",
       "0   [0.04964418256944714, 0.05025928332922756, 0.0...    NaN   \n",
       "24  [0.03823848930472759, 0.04036575383059291, 0.0...    NaN   \n",
       "48  [0.05250048358583511, 0.053500541448039694, 0....    NaN   \n",
       "\n",
       "                                        Spectrum_Axis  \\\n",
       "0   [-10.611673711845267, -10.561673711100209, -10...   \n",
       "24  [-10.423140651184665, -10.373140650439607, -10...   \n",
       "48  [-10.078202629515763, -10.028202628770705, -9....   \n",
       "\n",
       "                                        EELS_Spectrum  Peak_Position  \n",
       "0   [0.0, 0.0, 0.0, 0.0, 0.0, 0.0, 0.0, 0.0, 0.0, ...      25.194752  \n",
       "24  [0.0, 0.0, 0.0, 0.0, 0.0, 0.0, 0.0, 0.0, 0.0, ...      24.864017  \n",
       "48  [0.0, 0.0, 0.0, 0.0, 0.0, 0.0, 0.0, 0.0, 0.0, ...       0.000000  "
      ]
     },
     "execution_count": 166,
     "metadata": {},
     "output_type": "execute_result"
    }
   ],
   "source": [
    "for ifl in nflake_list:\n",
    "    tmd['Peak_Position'][tmd['Nanoflake_Number'] == ifl]"
   ]
  },
  {
   "cell_type": "code",
   "execution_count": null,
   "metadata": {
    "collapsed": true
   },
   "outputs": [],
   "source": [
    "tmd[]"
   ]
  },
  {
   "cell_type": "code",
   "execution_count": 170,
   "metadata": {},
   "outputs": [
    {
     "data": {
      "text/plain": [
       "0     25.194752\n",
       "24    24.864017\n",
       "48     0.000000\n",
       "Name: Peak_Position, dtype: float64"
      ]
     },
     "execution_count": 170,
     "metadata": {},
     "output_type": "execute_result"
    }
   ],
   "source": [
    "tmd['Peak_Position'][tmd['Nanoflake_Number'] == 1]"
   ]
  },
  {
   "cell_type": "code",
   "execution_count": 162,
   "metadata": {
    "collapsed": true
   },
   "outputs": [],
   "source": [
    "pg, pgv = curve_fit(gauss, x0, y0, [a1, a2, a3, a4],maxfev=5000)"
   ]
  },
  {
   "cell_type": "code",
   "execution_count": 163,
   "metadata": {},
   "outputs": [
    {
     "data": {
      "text/plain": [
       "<matplotlib.collections.PathCollection at 0x1f41f0f0>"
      ]
     },
     "execution_count": 163,
     "metadata": {},
     "output_type": "execute_result"
    },
    {
     "data": {
      "text/plain": [
       "[<matplotlib.lines.Line2D at 0x1b48a198>]"
      ]
     },
     "execution_count": 163,
     "metadata": {},
     "output_type": "execute_result"
    },
    {
     "data": {
      "image/png": "[encoded data removed]",
      "text/plain": [
       "<matplotlib.figure.Figure at 0x1f81d0f0>"
      ]
     },
     "metadata": {},
     "output_type": "display_data"
    }
   ],
   "source": [
    "plt.scatter(x0,y0,marker='.')\n",
    "xg = np.linspace(rg[0], rg[1], new_axes.size*10)\n",
    "plt.plot(xg,gauss(xg,pg[0],pg[1],pg[2],pg[3]),'r')\n",
    "    "
   ]
  },
  {
   "cell_type": "code",
   "execution_count": 7,
   "metadata": {},
   "outputs": [
    {
     "name": "stderr",
     "output_type": "stream",
     "text": [
      "D:\\Anaconda3\\lib\\site-packages\\IPython\\core\\interactiveshell.py:2862: PerformanceWarning: \n",
      "your performance may suffer as PyTables will pickle object types that it cannot\n",
      "map directly to c-types [inferred_type->mixed-integer,key->block1_values] [items->['Temperature', 'Nanoflake_Number', 'EELS_Spectrum']]\n",
      "\n",
      "  exec(code_obj, self.user_global_ns, self.user_ns)\n"
     ]
    }
   ],
   "source": [
    "## Save the DataFrame\n",
    "store = pd.HDFStore(folder_path +'/TMD_new.h5')\n",
    "\n",
    "store['TMD'] = tmd  # save it"
   ]
  },
  {
   "cell_type": "code",
   "execution_count": null,
   "metadata": {
    "collapsed": true
   },
   "outputs": [],
   "source": [
    "hdf = px.ioHDF5(folder_path + folder_name +'/TMD.h5')\n",
    "h5_file = hdf.file\n",
    "\n",
    "print('Contents of data file:')\n",
    "print('----------------------')\n",
    "px.hdf_utils.print_tree(h5_file)\n",
    "print('----------------------')"
   ]
  },
  {
   "cell_type": "code",
   "execution_count": 7,
   "metadata": {},
   "outputs": [
    {
     "name": "stderr",
     "output_type": "stream",
     "text": [
      "D:\\Anaconda3\\lib\\site-packages\\hyperspy\\io.py:341: FutureWarning: Conversion of the second argument of issubdtype from `complex` to `np.complexfloating` is deprecated. In future, it will be treated as `np.complex128 == np.dtype(complex).type`.\n",
      "  if np.issubdtype(dtype, complex):\n",
      "WARNING:hyperspy.signal:<EELSSpectrum, title: EELS Spectrum Image, dimensions: (44, 15|2048)> data is replaced by its optimized copy\n"
     ]
    }
   ],
   "source": [
    "t=150\n",
    "fl=5\n",
    "folder_path = 'D:/Books/research/IMAGE/20180110_TMD/'\n",
    "folder_name = str(t) + '_' + str(fl)\n",
    "file_name = folder_path + folder_name + '/EELS Spectrum Image.dm4'\n",
    "raw = hs.load(file_name,signal_type='EELS')"
   ]
  },
  {
   "cell_type": "code",
   "execution_count": 4,
   "metadata": {},
   "outputs": [
    {
     "name": "stdout",
     "output_type": "stream",
     "text": [
      "D:/Books/research/IMAGE/20180110_TMD/thickness_150_3.dm4\n"
     ]
    },
    {
     "name": "stderr",
     "output_type": "stream",
     "text": [
      "D:\\Anaconda3\\lib\\site-packages\\hyperspy\\io.py:341: FutureWarning: Conversion of the second argument of issubdtype from `complex` to `np.complexfloating` is deprecated. In future, it will be treated as `np.complex128 == np.dtype(complex).type`.\n",
      "  if np.issubdtype(dtype, complex):\n"
     ]
    }
   ],
   "source": [
    "folder_path = 'D:/Books/research/IMAGE/20180110_TMD/'\n",
    "file_name = folder_path + 'thickness_150_3.dm4'\n",
    "print(file_name)\n",
    "thickmat = hs.load(file_name)"
   ]
  },
  {
   "cell_type": "code",
   "execution_count": 8,
   "metadata": {},
   "outputs": [
    {
     "name": "stderr",
     "output_type": "stream",
     "text": [
      "D:\\Anaconda3\\lib\\site-packages\\hyperspy\\io.py:341: FutureWarning: Conversion of the second argument of issubdtype from `complex` to `np.complexfloating` is deprecated. In future, it will be treated as `np.complex128 == np.dtype(complex).type`.\n",
      "  if np.issubdtype(dtype, complex):\n"
     ]
    },
    {
     "data": {
      "application/vnd.jupyter.widget-view+json": {
       "model_id": "80a08fe6f4a04e328519835cc4248b16",
       "version_major": 2,
       "version_minor": 0
      },
      "text/plain": [
       "A Jupyter Widget"
      ]
     },
     "metadata": {},
     "output_type": "display_data"
    },
    {
     "name": "stdout",
     "output_type": "stream",
     "text": [
      "\n"
     ]
    },
    {
     "data": {
      "application/vnd.jupyter.widget-view+json": {
       "model_id": "d1d922dad4224f50a7846ee841a7c1c0",
       "version_major": 2,
       "version_minor": 0
      },
      "text/plain": [
       "A Jupyter Widget"
      ]
     },
     "metadata": {},
     "output_type": "display_data"
    },
    {
     "name": "stdout",
     "output_type": "stream",
     "text": [
      "\n"
     ]
    },
    {
     "data": {
      "application/vnd.jupyter.widget-view+json": {
       "model_id": "80fcfefcf1b84030b1afc0981990bf5b",
       "version_major": 2,
       "version_minor": 0
      },
      "text/plain": [
       "A Jupyter Widget"
      ]
     },
     "metadata": {},
     "output_type": "display_data"
    },
    {
     "name": "stdout",
     "output_type": "stream",
     "text": [
      "\n"
     ]
    },
    {
     "name": "stderr",
     "output_type": "stream",
     "text": [
      "D:\\Anaconda3\\lib\\site-packages\\hyperspy\\misc\\math_tools.py:61: FutureWarning: Conversion of the second argument of issubdtype from `float` to `np.floating` is deprecated. In future, it will be treated as `np.float64 == np.dtype(float).type`.\n",
      "  return np.issubdtype(number, np.float)\n"
     ]
    },
    {
     "data": {
      "application/vnd.jupyter.widget-view+json": {
       "model_id": "761ac2a86ae84235a154248674515bde",
       "version_major": 2,
       "version_minor": 0
      },
      "text/plain": [
       "A Jupyter Widget"
      ]
     },
     "metadata": {},
     "output_type": "display_data"
    },
    {
     "data": {
      "application/vnd.jupyter.widget-view+json": {
       "model_id": "28b01d82b78c46f98f29e48526f5bf63",
       "version_major": 2,
       "version_minor": 0
      },
      "text/plain": [
       "A Jupyter Widget"
      ]
     },
     "metadata": {},
     "output_type": "display_data"
    },
    {
     "data": {
      "application/vnd.jupyter.widget-view+json": {
       "model_id": "d025c83e8cd34e609c34f1528fde39df",
       "version_major": 2,
       "version_minor": 0
      },
      "text/plain": [
       "A Jupyter Widget"
      ]
     },
     "metadata": {},
     "output_type": "display_data"
    },
    {
     "data": {
      "application/vnd.jupyter.widget-view+json": {
       "model_id": "fb96b69ad7424ea7a136e71a441a10a6",
       "version_major": 2,
       "version_minor": 0
      },
      "text/plain": [
       "A Jupyter Widget"
      ]
     },
     "metadata": {},
     "output_type": "display_data"
    },
    {
     "data": {
      "text/plain": [
       "<matplotlib.axes._subplots.AxesSubplot at 0x19ce9ba8>"
      ]
     },
     "execution_count": 8,
     "metadata": {},
     "output_type": "execute_result"
    },
    {
     "data": {
      "text/plain": [
       "<matplotlib.image.AxesImage at 0x1a5da390>"
      ]
     },
     "execution_count": 8,
     "metadata": {},
     "output_type": "execute_result"
    },
    {
     "data": {
      "image/png": "[encoded data removed]",
      "text/plain": [
       "<matplotlib.figure.Figure at 0x19c84940>"
      ]
     },
     "metadata": {},
     "output_type": "display_data"
    }
   ],
   "source": [
    "raw.align_zero_loss_peak(subpixel=True,show_progressbar=None,print_stats=False)\n",
    "\n",
    "for isim in range(3):\n",
    "    try:\n",
    "        zlp, sig = extract_ZLP(raw,range_factor=(-10, 8),return_inelastic=True,print_output=False)\n",
    "    except OverflowError:\n",
    "        raw = raw/10\n",
    "        zlp, sig = extract_ZLP(raw,range_factor=(-10, 8),return_inelastic=True,print_output=False)\n",
    "    if sum(sum(np.sum(np.isnan(sig.data),axis=2))) < 8:\n",
    "        break\n",
    "\n",
    "thickmat = get_thickness(raw,zlp)\n",
    "\n",
    "sig_data = np.reshape(sig.data,(-1,sig.data.shape[2]))\n",
    "sig_data[np.isnan(sig_data)] = 0\n",
    "plt.subplot(1,2,1)\n",
    "plt.imshow(thickmat)\n"
   ]
  },
  {
   "cell_type": "code",
   "execution_count": 9,
   "metadata": {},
   "outputs": [
    {
     "data": {
      "text/plain": [
       "KMeans(algorithm='auto', copy_x=True, init='k-means++', max_iter=300,\n",
       "    n_clusters=6, n_init=10, n_jobs=1, precompute_distances='auto',\n",
       "    random_state=None, tol=0.0001, verbose=0)"
      ]
     },
     "execution_count": 9,
     "metadata": {},
     "output_type": "execute_result"
    },
    {
     "data": {
      "text/plain": [
       "(<matplotlib.figure.Figure at 0x19cb1fd0>,\n",
       " array([<matplotlib.axes._subplots.AxesSubplot object at 0x0000000019C5E8D0>,\n",
       "        <matplotlib.axes._subplots.AxesSubplot object at 0x0000000019DC7EB8>],\n",
       "       dtype=object))"
      ]
     },
     "execution_count": 9,
     "metadata": {},
     "output_type": "execute_result"
    },
    {
     "data": {
      "text/plain": [
       "<matplotlib.axes._subplots.AxesSubplot at 0x194a00f0>"
      ]
     },
     "execution_count": 9,
     "metadata": {},
     "output_type": "execute_result"
    },
    {
     "data": {
      "text/plain": [
       "<matplotlib.image.AxesImage at 0x19e05b00>"
      ]
     },
     "execution_count": 9,
     "metadata": {},
     "output_type": "execute_result"
    },
    {
     "data": {
      "text/plain": [
       "<matplotlib.axes._subplots.AxesSubplot at 0x19e456a0>"
      ]
     },
     "execution_count": 9,
     "metadata": {},
     "output_type": "execute_result"
    },
    {
     "data": {
      "text/plain": [
       "<matplotlib.image.AxesImage at 0x19ddbac8>"
      ]
     },
     "execution_count": 9,
     "metadata": {},
     "output_type": "execute_result"
    },
    {
     "data": {
      "image/png": "[encoded data removed]",
      "text/plain": [
       "<matplotlib.figure.Figure at 0x19cb1fd0>"
      ]
     },
     "metadata": {},
     "output_type": "display_data"
    }
   ],
   "source": [
    "#divide the data into clusters based on kmeans the thickness\n",
    "sp = np.shape(thickmat)\n",
    "task = []\n",
    "for i in range(sp[0]):\n",
    "    for j in range(sp[1]):\n",
    "        task.append([i,j,thickmat[i,j]])\n",
    "t=np.array(task)\n",
    "\n",
    "t[np.isnan(t)]=0\n",
    "t2=normalize(t,axis=0)\n",
    "t3=deepcopy(t2)\n",
    "t3[:,2]=t3[:,2]*4\n",
    "\n",
    "#num_clusters = get_k_number(task)\n",
    "num_clusters = 6\n",
    "estimator = KMeans(n_clusters=num_clusters)#构造聚类器\n",
    "estimator.fit(t3)#聚类\n",
    "label_pred = estimator.labels_ #获取聚类标签\n",
    "centroids = estimator.cluster_centers_ #获取聚类中心\n",
    "#print('KMeans error: ',estimator.inertia_) # 获取聚类准则的总和\n",
    "\n",
    "#test clustering\n",
    "plt.subplots(1,2,figsize=(15,15))\n",
    "plt.subplot(1,2,1)\n",
    "plt.imshow(thickmat)\n",
    "plt.subplot(1,2,2)\n",
    "lb=np.reshape(label_pred,np.shape(thickmat))\n",
    "plt.imshow(lb)"
   ]
  },
  {
   "cell_type": "code",
   "execution_count": 26,
   "metadata": {
    "collapsed": true
   },
   "outputs": [],
   "source": [
    "import scipy.integrate as si"
   ]
  },
  {
   "cell_type": "code",
   "execution_count": 135,
   "metadata": {},
   "outputs": [
    {
     "name": "stderr",
     "output_type": "stream",
     "text": [
      "D:\\Anaconda3\\lib\\site-packages\\hyperspy\\io.py:341: FutureWarning: Conversion of the second argument of issubdtype from `complex` to `np.complexfloating` is deprecated. In future, it will be treated as `np.complex128 == np.dtype(complex).type`.\n",
      "  if np.issubdtype(dtype, complex):\n",
      "D:\\Anaconda3\\lib\\site-packages\\hyperspy\\misc\\math_tools.py:61: FutureWarning: Conversion of the second argument of issubdtype from `float` to `np.floating` is deprecated. In future, it will be treated as `np.float64 == np.dtype(float).type`.\n",
      "  return np.issubdtype(number, np.float)\n"
     ]
    },
    {
     "data": {
      "application/vnd.jupyter.widget-view+json": {
       "model_id": "dd2f5255da904099aa22724d8432ee8d",
       "version_major": 2,
       "version_minor": 0
      },
      "text/plain": [
       "A Jupyter Widget"
      ]
     },
     "metadata": {},
     "output_type": "display_data"
    },
    {
     "data": {
      "application/vnd.jupyter.widget-view+json": {
       "model_id": "1947e65fe3e54dab808359df1082cf55",
       "version_major": 2,
       "version_minor": 0
      },
      "text/plain": [
       "A Jupyter Widget"
      ]
     },
     "metadata": {},
     "output_type": "display_data"
    },
    {
     "data": {
      "application/vnd.jupyter.widget-view+json": {
       "model_id": "eeab0fce17894e22b23049ee0cc6ef87",
       "version_major": 2,
       "version_minor": 0
      },
      "text/plain": [
       "A Jupyter Widget"
      ]
     },
     "metadata": {},
     "output_type": "display_data"
    },
    {
     "data": {
      "application/vnd.jupyter.widget-view+json": {
       "model_id": "0a61f7e25eb0479eab20920e86f24cca",
       "version_major": 2,
       "version_minor": 0
      },
      "text/plain": [
       "A Jupyter Widget"
      ]
     },
     "metadata": {},
     "output_type": "display_data"
    },
    {
     "name": "stderr",
     "output_type": "stream",
     "text": [
      "D:\\Anaconda3\\Lib\\Xuan\\eels.py:151: RuntimeWarning: invalid value encountered in less\n",
      "  inelastic.data[inelastic.data < 0] = 0\n"
     ]
    }
   ],
   "source": [
    "zlp, sig = extract_ZLP(raw,range_factor=(-10, 8),return_inelastic=True,print_output=False)"
   ]
  },
  {
   "cell_type": "code",
   "execution_count": 31,
   "metadata": {},
   "outputs": [
    {
     "name": "stdout",
     "output_type": "stream",
     "text": [
      "[ 214.58952491  234.05152262  275.89404409 ...  -42.17545529 -123.14618029\n",
      " -156.58046418]\n"
     ]
    }
   ],
   "source": [
    "z0 = zlp.data[0,0,:]\n",
    "r0 = raw.data[0,0,:]\n",
    "print(z0)"
   ]
  },
  {
   "cell_type": "code",
   "execution_count": 17,
   "metadata": {
    "collapsed": true
   },
   "outputs": [],
   "source": [
    "%matplotlib inline"
   ]
  },
  {
   "cell_type": "code",
   "execution_count": 37,
   "metadata": {
    "collapsed": true
   },
   "outputs": [],
   "source": [
    "def lograt(r0,z0,x0):\n",
    "    t0 = si.simps(z0,x0)\n",
    "    t1 = si.simps(r0,x0)\n",
    "    return math.log(t1/t0)"
   ]
  },
  {
   "cell_type": "code",
   "execution_count": 46,
   "metadata": {
    "collapsed": true
   },
   "outputs": [],
   "source": [
    "def lograt_mat(raw,zlp,x0):\n",
    "    thick = np.ones(np.shape(raw)[0:2])\n",
    "    for i in range(np.shape(raw)[0]):\n",
    "        for j in range(np.shape(raw)[1]):\n",
    "            r0 = raw.data[i,j,:]\n",
    "            z0 = zlp.data[i,j,:]\n",
    "            thick[i,j]=lograt(r0,z0,x0)\n",
    "    return thick"
   ]
  },
  {
   "cell_type": "code",
   "execution_count": 138,
   "metadata": {},
   "outputs": [
    {
     "data": {
      "text/plain": [
       "(2033,)"
      ]
     },
     "execution_count": 138,
     "metadata": {},
     "output_type": "execute_result"
    }
   ],
   "source": [
    "np.shape(x0)"
   ]
  },
  {
   "cell_type": "code",
   "execution_count": 139,
   "metadata": {
    "collapsed": true
   },
   "outputs": [],
   "source": [
    "new_axes = raw.axes_manager['Energy loss']\n",
    "x0 = np.linspace(new_axes.offset, new_axes.offset+new_axes.scale*(new_axes.size-1), new_axes.size)\n",
    "th=lograt_mat(raw,zlp,x0)"
   ]
  },
  {
   "cell_type": "code",
   "execution_count": 140,
   "metadata": {},
   "outputs": [
    {
     "data": {
      "text/plain": [
       "<matplotlib.image.AxesImage at 0x1c43ea58>"
      ]
     },
     "execution_count": 140,
     "metadata": {},
     "output_type": "execute_result"
    },
    {
     "data": {
      "image/png": "[encoded data removed]",
      "text/plain": [
       "<matplotlib.figure.Figure at 0x1c018208>"
      ]
     },
     "metadata": {},
     "output_type": "display_data"
    }
   ],
   "source": [
    "plt.imshow(th)"
   ]
  },
  {
   "cell_type": "code",
   "execution_count": 23,
   "metadata": {
    "collapsed": true
   },
   "outputs": [],
   "source": []
  },
  {
   "cell_type": "code",
   "execution_count": 53,
   "metadata": {
    "collapsed": true
   },
   "outputs": [],
   "source": [
    "def getindex(number,data_shape):\n",
    "    id1 = number//(data_shape[1])\n",
    "    id2 = number%(data_shape[1])\n",
    "    return (id1,id2)"
   ]
  },
  {
   "cell_type": "code",
   "execution_count": 210,
   "metadata": {
    "collapsed": true
   },
   "outputs": [],
   "source": [
    "sp = np.shape(th)\n",
    "task = []\n",
    "for i in range(sp[0]):\n",
    "    for j in range(sp[1]):\n",
    "        task.append([i,j,th[i,j]])\n",
    "t=np.array(task)"
   ]
  },
  {
   "cell_type": "code",
   "execution_count": 211,
   "metadata": {
    "collapsed": true
   },
   "outputs": [],
   "source": [
    "t[np.isnan(t)]=0\n",
    "t2=normalize(t,axis=0)"
   ]
  },
  {
   "cell_type": "code",
   "execution_count": 188,
   "metadata": {
    "collapsed": true
   },
   "outputs": [],
   "source": [
    "from sklearn import preprocessing\n",
    "ts = preprocessing.scale(t)"
   ]
  },
  {
   "cell_type": "code",
   "execution_count": 194,
   "metadata": {
    "collapsed": true
   },
   "outputs": [],
   "source": [
    "from skimage.filters import sobel\n",
    "from skimage.morphology import watershed\n",
    "elevation_map = sobel(th)"
   ]
  },
  {
   "cell_type": "code",
   "execution_count": 269,
   "metadata": {},
   "outputs": [
    {
     "data": {
      "text/plain": [
       "array([0.        , 0.00628661, 0.01000932, 0.00878695, 0.00621744,\n",
       "       0.00842881, 0.00623491, 0.00414671, 0.00526201, 0.00556569,\n",
       "       0.00763648, 0.01134952, 0.01377074, 0.01531775, 0.01791521,\n",
       "       0.02250773, 0.02767116, 0.03095942, 0.03452303, 0.04033501,\n",
       "       0.04556038, 0.05474318, 0.06241111, 0.06661327, 0.06921901,\n",
       "       0.06604867, 0.06097254, 0.05795283, 0.05170378, 0.04270499,\n",
       "       0.03848158, 0.03349239, 0.02606167, 0.01852373, 0.01200386,\n",
       "       0.01189599, 0.0128543 , 0.00806757, 0.00917298, 0.00315636,\n",
       "       0.00905738, 0.02088011, 0.05286701, 0.        ])"
      ]
     },
     "execution_count": 269,
     "metadata": {},
     "output_type": "execute_result"
    }
   ],
   "source": [
    "elevation_map[1]"
   ]
  },
  {
   "cell_type": "code",
   "execution_count": 264,
   "metadata": {
    "collapsed": true
   },
   "outputs": [],
   "source": [
    "t2[:,2]=t2[:,2]/6"
   ]
  },
  {
   "cell_type": "code",
   "execution_count": 266,
   "metadata": {},
   "outputs": [
    {
     "data": {
      "text/plain": [
       "KMeans(algorithm='full', copy_x=True, init='k-means++', max_iter=3000,\n",
       "    n_clusters=7, n_init=50, n_jobs=1, precompute_distances=True,\n",
       "    random_state=None, tol=0.0001, verbose=0)"
      ]
     },
     "execution_count": 266,
     "metadata": {},
     "output_type": "execute_result"
    },
    {
     "data": {
      "text/plain": [
       "KMeans(algorithm='full', copy_x=True, init='k-means++', max_iter=3000,\n",
       "    n_clusters=7, n_init=50, n_jobs=1, precompute_distances=True,\n",
       "    random_state=None, tol=0.0001, verbose=0)"
      ]
     },
     "execution_count": 266,
     "metadata": {},
     "output_type": "execute_result"
    },
    {
     "data": {
      "text/plain": [
       "KMeans(algorithm='full', copy_x=True, init='k-means++', max_iter=3000,\n",
       "    n_clusters=7, n_init=50, n_jobs=1, precompute_distances=True,\n",
       "    random_state=None, tol=0.0001, verbose=0)"
      ]
     },
     "execution_count": 266,
     "metadata": {},
     "output_type": "execute_result"
    },
    {
     "data": {
      "text/plain": [
       "KMeans(algorithm='full', copy_x=True, init='k-means++', max_iter=3000,\n",
       "    n_clusters=7, n_init=50, n_jobs=1, precompute_distances=True,\n",
       "    random_state=None, tol=0.0001, verbose=0)"
      ]
     },
     "execution_count": 266,
     "metadata": {},
     "output_type": "execute_result"
    },
    {
     "data": {
      "text/plain": [
       "KMeans(algorithm='full', copy_x=True, init='k-means++', max_iter=3000,\n",
       "    n_clusters=7, n_init=50, n_jobs=1, precompute_distances=True,\n",
       "    random_state=None, tol=0.0001, verbose=0)"
      ]
     },
     "execution_count": 266,
     "metadata": {},
     "output_type": "execute_result"
    },
    {
     "data": {
      "text/plain": [
       "KMeans(algorithm='full', copy_x=True, init='k-means++', max_iter=3000,\n",
       "    n_clusters=7, n_init=50, n_jobs=1, precompute_distances=True,\n",
       "    random_state=None, tol=0.0001, verbose=0)"
      ]
     },
     "execution_count": 266,
     "metadata": {},
     "output_type": "execute_result"
    },
    {
     "data": {
      "text/plain": [
       "KMeans(algorithm='full', copy_x=True, init='k-means++', max_iter=3000,\n",
       "    n_clusters=7, n_init=50, n_jobs=1, precompute_distances=True,\n",
       "    random_state=None, tol=0.0001, verbose=0)"
      ]
     },
     "execution_count": 266,
     "metadata": {},
     "output_type": "execute_result"
    },
    {
     "data": {
      "text/plain": [
       "KMeans(algorithm='full', copy_x=True, init='k-means++', max_iter=3000,\n",
       "    n_clusters=7, n_init=50, n_jobs=1, precompute_distances=True,\n",
       "    random_state=None, tol=0.0001, verbose=0)"
      ]
     },
     "execution_count": 266,
     "metadata": {},
     "output_type": "execute_result"
    },
    {
     "data": {
      "text/plain": [
       "KMeans(algorithm='full', copy_x=True, init='k-means++', max_iter=3000,\n",
       "    n_clusters=7, n_init=50, n_jobs=1, precompute_distances=True,\n",
       "    random_state=None, tol=0.0001, verbose=0)"
      ]
     },
     "execution_count": 266,
     "metadata": {},
     "output_type": "execute_result"
    },
    {
     "data": {
      "text/plain": [
       "KMeans(algorithm='full', copy_x=True, init='k-means++', max_iter=3000,\n",
       "    n_clusters=7, n_init=50, n_jobs=1, precompute_distances=True,\n",
       "    random_state=None, tol=0.0001, verbose=0)"
      ]
     },
     "execution_count": 266,
     "metadata": {},
     "output_type": "execute_result"
    }
   ],
   "source": [
    "err=[]\n",
    "for i in range(10):\n",
    "    t3=deepcopy(t2)\n",
    "    t3[:,2]=t3[:,2]*i\n",
    "    estimator.fit(t3)\n",
    "    err.append(estimator.inertia_)"
   ]
  },
  {
   "cell_type": "code",
   "execution_count": 268,
   "metadata": {},
   "outputs": [
    {
     "data": {
      "text/plain": [
       "[<matplotlib.lines.Line2D at 0x1d1a2f98>]"
      ]
     },
     "execution_count": 268,
     "metadata": {},
     "output_type": "execute_result"
    },
    {
     "data": {
      "image/png": "[encoded data removed]",
      "text/plain": [
       "<matplotlib.figure.Figure at 0x1cfc53c8>"
      ]
     },
     "metadata": {},
     "output_type": "display_data"
    }
   ],
   "source": [
    "plt.plot(range(10),err)"
   ]
  },
  {
   "cell_type": "code",
   "execution_count": 283,
   "metadata": {
    "collapsed": true
   },
   "outputs": [],
   "source": [
    "estimator = KMeans(n_clusters=7, init='k-means++', n_init=50, max_iter=3000, \n",
    "                   tol=0.0001, precompute_distances=True, verbose=0, random_state=None, \n",
    "                   copy_x=True, n_jobs=1, algorithm='full')"
   ]
  },
  {
   "cell_type": "code",
   "execution_count": 291,
   "metadata": {},
   "outputs": [
    {
     "data": {
      "text/plain": [
       "'H:/20180110_TMD/150_5/EELS Spectrum Image.dm4'"
      ]
     },
     "execution_count": 291,
     "metadata": {},
     "output_type": "execute_result"
    }
   ],
   "source": [
    "file_name"
   ]
  },
  {
   "cell_type": "code",
   "execution_count": 289,
   "metadata": {},
   "outputs": [
    {
     "data": {
      "text/plain": [
       "KMeans(algorithm='full', copy_x=True, init='k-means++', max_iter=3000,\n",
       "    n_clusters=7, n_init=50, n_jobs=1, precompute_distances=True,\n",
       "    random_state=None, tol=0.0001, verbose=0)"
      ]
     },
     "execution_count": 289,
     "metadata": {},
     "output_type": "execute_result"
    }
   ],
   "source": [
    "t3=deepcopy(t2)\n",
    "t3[:,2]=t3[:,2]*4\n",
    "estimator.fit(t3)\n",
    "label_pred = estimator.labels_ #获取聚类标签\n",
    "centroids = estimator.cluster_centers_ #获取聚类中心"
   ]
  },
  {
   "cell_type": "code",
   "execution_count": 290,
   "metadata": {},
   "outputs": [
    {
     "data": {
      "text/plain": [
       "<matplotlib.image.AxesImage at 0x1d42b198>"
      ]
     },
     "execution_count": 290,
     "metadata": {},
     "output_type": "execute_result"
    },
    {
     "data": {
      "image/png": "[encoded data removed]",
      "text/plain": [
       "<matplotlib.figure.Figure at 0x1d3aa5c0>"
      ]
     },
     "metadata": {},
     "output_type": "display_data"
    }
   ],
   "source": [
    "lb=np.reshape(label_pred,np.shape(th))\n",
    "plt.imshow(lb)"
   ]
  },
  {
   "cell_type": "code",
   "execution_count": 102,
   "metadata": {},
   "outputs": [
    {
     "data": {
      "text/plain": [
       "array([[0.        , 0.        , 0.29012546],\n",
       "       [0.        , 0.00155887, 0.29711087],\n",
       "       [0.        , 0.00311774, 0.29990173],\n",
       "       ...,\n",
       "       [0.06624738, 0.06391366, 0.40960236],\n",
       "       [0.06624738, 0.06547253, 0.3616219 ],\n",
       "       [0.06624738, 0.0670314 , 0.28817023]])"
      ]
     },
     "execution_count": 102,
     "metadata": {},
     "output_type": "execute_result"
    }
   ],
   "source": [
    "t3"
   ]
  },
  {
   "cell_type": "code",
   "execution_count": 155,
   "metadata": {},
   "outputs": [
    {
     "data": {
      "text/plain": [
       "<matplotlib.image.AxesImage at 0x1c882780>"
      ]
     },
     "execution_count": 155,
     "metadata": {},
     "output_type": "execute_result"
    },
    {
     "data": {
      "image/png": "[encoded data removed]",
      "text/plain": [
       "<matplotlib.figure.Figure at 0x1c817518>"
      ]
     },
     "metadata": {},
     "output_type": "display_data"
    }
   ],
   "source": [
    "plt.imshow(th)"
   ]
  },
  {
   "cell_type": "code",
   "execution_count": 165,
   "metadata": {
    "collapsed": true
   },
   "outputs": [],
   "source": [
    "l = 100\n",
    "x, y = np.indices((l, l))\n",
    "\n",
    "center1 = (28, 24)\n",
    "center2 = (40, 50)\n",
    "center3 = (67, 58)\n",
    "center4 = (24, 70)\n",
    "\n",
    "radius1, radius2, radius3, radius4 = 16, 14, 15, 14\n",
    "\n",
    "circle1 = (x - center1[0]) ** 2 + (y - center1[1]) ** 2 < radius1 ** 2\n",
    "circle2 = (x - center2[0]) ** 2 + (y - center2[1]) ** 2 < radius2 ** 2\n",
    "circle3 = (x - center3[0]) ** 2 + (y - center3[1]) ** 2 < radius3 ** 2"
   ]
  },
  {
   "cell_type": "code",
   "execution_count": 170,
   "metadata": {
    "collapsed": true
   },
   "outputs": [],
   "source": [
    "circle4 = (x - center4[0]) ** 2 + (y - center4[1]) ** 2 < radius4 ** 2"
   ]
  },
  {
   "cell_type": "code",
   "execution_count": 176,
   "metadata": {
    "collapsed": true
   },
   "outputs": [],
   "source": [
    "from sklearn.feature_extraction import image\n",
    "# #############################################################################\n",
    "# 4 circles\n",
    "img = circle1 + circle2 + circle3 + circle4\n",
    "\n",
    "# We use a mask that limits to the foreground: the problem that we are\n",
    "# interested in here is not separating the objects from the background,\n",
    "# but separating them one from the other.\n",
    "mask = img.astype(bool)\n",
    "\n",
    "img = img.astype(float)\n",
    "img += 1 + 0.2 * np.random.randn(*img.shape)\n",
    "\n",
    "# Convert the image into a graph with the value of the gradient on the\n",
    "# edges.\n",
    "graph = image.img_to_graph(img, mask=mask)\n",
    "\n",
    "# Take a decreasing function of the gradient: we take it weakly\n",
    "# dependent from the gradient the segmentation is close to a voronoi\n",
    "graph.data = np.exp(-graph.data / graph.data.std())"
   ]
  },
  {
   "cell_type": "code",
   "execution_count": 179,
   "metadata": {},
   "outputs": [
    {
     "data": {
      "text/plain": [
       "numpy.ndarray"
      ]
     },
     "execution_count": 179,
     "metadata": {},
     "output_type": "execute_result"
    }
   ],
   "source": [
    "type(img)"
   ]
  },
  {
   "cell_type": "code",
   "execution_count": 318,
   "metadata": {
    "collapsed": true
   },
   "outputs": [],
   "source": [
    "sig_data = np.reshape(sig.data,(-1,sig.data.shape[2]))"
   ]
  },
  {
   "cell_type": "code",
   "execution_count": 327,
   "metadata": {},
   "outputs": [
    {
     "name": "stderr",
     "output_type": "stream",
     "text": [
      "D:\\Anaconda3\\lib\\site-packages\\hyperspy\\io.py:341: FutureWarning: Conversion of the second argument of issubdtype from `complex` to `np.complexfloating` is deprecated. In future, it will be treated as `np.complex128 == np.dtype(complex).type`.\n",
      "  if np.issubdtype(dtype, complex):\n",
      "D:\\Anaconda3\\lib\\site-packages\\hyperspy\\misc\\math_tools.py:61: FutureWarning: Conversion of the second argument of issubdtype from `float` to `np.floating` is deprecated. In future, it will be treated as `np.float64 == np.dtype(float).type`.\n",
      "  return np.issubdtype(number, np.float)\n"
     ]
    },
    {
     "data": {
      "application/vnd.jupyter.widget-view+json": {
       "model_id": "b334f18b6feb44139382bc20bd91ebc8",
       "version_major": 2,
       "version_minor": 0
      },
      "text/plain": [
       "A Jupyter Widget"
      ]
     },
     "metadata": {},
     "output_type": "display_data"
    },
    {
     "data": {
      "application/vnd.jupyter.widget-view+json": {
       "model_id": "a524cac6d3864a9991e71ad3455b0a2c",
       "version_major": 2,
       "version_minor": 0
      },
      "text/plain": [
       "A Jupyter Widget"
      ]
     },
     "metadata": {},
     "output_type": "display_data"
    },
    {
     "data": {
      "application/vnd.jupyter.widget-view+json": {
       "model_id": "222265b9b7a44f7aa5e35f1023602b81",
       "version_major": 2,
       "version_minor": 0
      },
      "text/plain": [
       "A Jupyter Widget"
      ]
     },
     "metadata": {},
     "output_type": "display_data"
    },
    {
     "data": {
      "application/vnd.jupyter.widget-view+json": {
       "model_id": "ee3fb4f670e64319bf557bdd98263464",
       "version_major": 2,
       "version_minor": 0
      },
      "text/plain": [
       "A Jupyter Widget"
      ]
     },
     "metadata": {},
     "output_type": "display_data"
    },
    {
     "name": "stderr",
     "output_type": "stream",
     "text": [
      "D:\\Anaconda3\\Lib\\Xuan\\eels.py:151: RuntimeWarning: invalid value encountered in less\n",
      "  inelastic.data[inelastic.data < 0] = 0\n"
     ]
    }
   ],
   "source": [
    "zlp, sig = extract_ZLP(raw,range_factor=(-10, 8),return_inelastic=True,print_output=False)"
   ]
  },
  {
   "cell_type": "code",
   "execution_count": 340,
   "metadata": {},
   "outputs": [
    {
     "data": {
      "text/plain": [
       "array([[   0,    0,    0,    0,    0,    0,    0,    0,    0,    0,    0,\n",
       "           0,    0,    0,    0,    0,    0,    0,    0,    0,    0,    0,\n",
       "           0,    0],\n",
       "       [   0,    0,    0,    0,    0,    0,    0,    0,    0,    0,    0,\n",
       "           0,    0,    0,    0,    0,    0,    0,    0,    0,    0,    0,\n",
       "           0,    0],\n",
       "       [   0,    0,    0,    0,    0,    0,    0,    0,    0,    0,    0,\n",
       "           0,    0,    0,    0,    0,    0,    0,    0,    0,    0,    0,\n",
       "           0,    0],\n",
       "       [   0,    0,    0,    0,    0,    0,    0,    0,    0,    0,    0,\n",
       "           0,    0,    0,    0,    0,    0,    0,    0,    0,    0,    0,\n",
       "           0,    0],\n",
       "       [   0,    0,    0,    0,    0,    0,    0,    0,    0,    0,    0,\n",
       "           0,    0,    0,    0,    0,    0,    0,    0,    0,    0,    0,\n",
       "           0,    0],\n",
       "       [   0,    0,    0,    0,    0,    0,    0,    0,    0,    0,    0,\n",
       "           0,    0,    0,    0,    0,    0,    0,    0,    0,    0,    0,\n",
       "           0,    0],\n",
       "       [   0,    0,    0,    0,    0,    0,    0,    0,    0,    0,    0,\n",
       "           0,    0,    0,    0,    0,    0,    0,    0,    0,    0,    0,\n",
       "           0,    0],\n",
       "       [   0,    0,    0,    0,    0,    0,    0,    0,    0,    0,    0,\n",
       "           0,    0,    0,    0,    0,    0,    0,    0,    0,    0,    0,\n",
       "           0,    0],\n",
       "       [   0,    0,    0,    0,    0,    0,    0,    0,    0,    0,    0,\n",
       "           0,    0,    0,    0,    0,    0,    0,    0,    0,    0,    0,\n",
       "           0,    0],\n",
       "       [   0,    0,    0,    0,    0,    0,    0,    0,    0,    0,    0,\n",
       "           0,    0,    0,    0,    0,    0,    0,    0,    0,    0,    0,\n",
       "           0,    0],\n",
       "       [   0,    0,    0,    0,    0,    0,    0,    0,    0,    0,    0,\n",
       "           0,    0,    0,    0,    0,    0,    0,    0,    0,    0,    0,\n",
       "           0,    0],\n",
       "       [   0,    0,    0,    0,    0,    0,    0,    0,    0,    0,    0,\n",
       "           0,    0,    0,    0,    0,    0,    0,    0,    0,    0,    0,\n",
       "           0,    0],\n",
       "       [   0,    0,    0,    0,    0,    0,    0,    0,    0,    0,    0,\n",
       "           0,    0,    0,    0,    0,    0,    0,    0,    0,    0,    0,\n",
       "           0,    0],\n",
       "       [   0,    0,    0,    0,    0,    0,    0,    0,    0,    0,    0,\n",
       "           0,    0,    0,    0,    0,    0,    0,    0,    0,    0,    0,\n",
       "           0,    0],\n",
       "       [   0,    0,    0,    0,    0,    0,    0,    0,    0,    0,    0,\n",
       "           0,    0,    0,    0,    0,    0,    0,    0,    0,    0,    0,\n",
       "           0,    0],\n",
       "       [   0,    0,    0,    0,    0,    0,    0,    0,    0,    0,    0,\n",
       "           0,    0,    0,    0,    0,    0,    0,    0,    0,    0,    0,\n",
       "           0,    0],\n",
       "       [   0,    0,    0,    0,    0,    0,    0,    0,    0,    0,    0,\n",
       "           0,    0,    0,    0,    0,    0, 1750,    0,    0,    0,    0,\n",
       "           0,    0],\n",
       "       [   0,    0,    0,    0,    0,    0,    0,    0,    0,    0,    0,\n",
       "           0, 1750, 1750, 1750, 1750, 1750, 1750,    0,    0,    0,    0,\n",
       "           0,    0],\n",
       "       [   0,    0,    0,    0,    0,    0,    0,    0,    0,    0,    0,\n",
       "           0, 1750, 1750, 1750, 1750, 1750, 1750,    0,    0,    0,    0,\n",
       "           0,    0],\n",
       "       [   0,    0,    0,    0,    0,    0,    0,    0,    0,    0,    0,\n",
       "           0, 1750, 1750, 1750, 1750, 1750, 1750,    0,    0,    0,    0,\n",
       "           0,    0]])"
      ]
     },
     "execution_count": 340,
     "metadata": {},
     "output_type": "execute_result"
    }
   ],
   "source": [
    "np.sum(np.isnan(sig.data),axis=2)"
   ]
  },
  {
   "cell_type": "code",
   "execution_count": null,
   "metadata": {
    "collapsed": true
   },
   "outputs": [],
   "source": []
  }
 ],
 "metadata": {
  "kernelspec": {
   "display_name": "Python 3",
   "language": "python",
   "name": "python3"
  },
  "language_info": {
   "codemirror_mode": {
    "name": "ipython",
    "version": 3
   },
   "file_extension": ".py",
   "mimetype": "text/x-python",
   "name": "python",
   "nbconvert_exporter": "python",
   "pygments_lexer": "ipython3",
   "version": "3.6.4"
  }
 },
 "nbformat": 4,
 "nbformat_minor": 2
}
