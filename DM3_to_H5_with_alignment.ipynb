{
 "cells": [
  {
   "cell_type": "code",
   "execution_count": 1,
   "metadata": {
    "collapsed": true
   },
   "outputs": [],
   "source": [
    "%matplotlib qt4\n",
    "%matplotlib inline"
   ]
  },
  {
   "cell_type": "markdown",
   "metadata": {},
   "source": [
    "# DM3 Translator\n",
    "* This file is used to translate the raw DM3 data file into standard H5 file. \n",
    "\n",
    "* The data will be initially processed and stored in the same file for future analysis. \n",
    " - The process includes: ZLP alignment, Thickness computing, ZLP substraction. \n",
    " - Please be aware that the data is limited to low-loss data so far. <br>\n",
    " - If the raw data is core-loss signal, please include additional low-loss data for the ZLP alignment."
   ]
  },
  {
   "cell_type": "markdown",
   "metadata": {},
   "source": [
    "# Import Software:\n",
    "* Standard distribution (include numpy, scipy, matplotlib, sci-kit learn).\n",
    "* **hyperspy** : can load and process DM3 data directly. (import hyperspy.api, not hyperspy)\n",
    "* **pycroscopy** : mainly used here for plotting purposes only. \n",
    "* **hyperspy_tools** : to extract EELS zlp."
   ]
  },
  {
   "cell_type": "code",
   "execution_count": 2,
   "metadata": {},
   "outputs": [
    {
     "name": "stderr",
     "output_type": "stream",
     "text": [
      "D:\\Anaconda3\\lib\\site-packages\\h5py\\__init__.py:36: FutureWarning: Conversion of the second argument of issubdtype from `float` to `np.floating` is deprecated. In future, it will be treated as `np.float64 == np.dtype(float).type`.\n",
      "  from ._conv import register_converters as _register_converters\n",
      "WARNING:hyperspy_gui_traitsui:The module://ipykernel.pylab.backend_inline matplotlib backend is not supported by the installed traitsui version and the ETS toolkit has been set to null. To set the ETS toolkit independently from the matplotlib backend, set it before importing matplotlib.\n",
      "WARNING:hyperspy_gui_traitsui:The traitsui GUI elements are not available.\n"
     ]
    }
   ],
   "source": [
    "#Import packages\n",
    "\n",
    "# Ensure that this code works on both python 2 and python 3\n",
    "from __future__ import division, print_function, absolute_import, unicode_literals\n",
    "\n",
    "# basic numeric computation:\n",
    "import numpy as np\n",
    "\n",
    "# basic system operation:\n",
    "import os\n",
    "\n",
    "# The package used for creating and manipulating HDF5 files:\n",
    "import h5py\n",
    "import hyperspy.api as hs\n",
    "\n",
    "# To extract EELS ZLP, put 'eels.py' from hyperspy_tools in the python path and then import here:\n",
    "from eels import extract_ZLP\n",
    "\n",
    "# Plotting and visualization:\n",
    "import matplotlib.pyplot as plt\n",
    "from mpl_toolkits.axes_grid1 import make_axes_locatable\n",
    "\n",
    "# multivariate analysis:\n",
    "from sklearn.cluster import KMeans\n",
    "from sklearn.decomposition import NMF\n",
    "\n",
    "# finally import pycroscopy:\n",
    "import pycroscopy as px"
   ]
  },
  {
   "cell_type": "markdown",
   "metadata": {},
   "source": [
    "# Load DM3 data:\n",
    "* Use **hyperspy** to read DM3 data.\n",
    "* Reshape the data as h5 file required.\n",
    "## Tips:\n",
    "* The 'np.reshape' will reshape the matrix acoording to the C memory order, i.e. the most rapidly changing index comes last: (k,j,i)\n",
    "* The h5 file for pycroscopy requires the 3D EELS data (i,j,k) to be flattened as 2D (i*j, k) in the C memory order as well, i.e. the order of row in the flattened data is [0,0],[0,1]...[0,N-1],[1,0],[1,1] ..."
   ]
  },
  {
   "cell_type": "code",
   "execution_count": 3,
   "metadata": {},
   "outputs": [
    {
     "name": "stderr",
     "output_type": "stream",
     "text": [
      "D:\\Anaconda3\\lib\\site-packages\\hyperspy\\io.py:341: FutureWarning: Conversion of the second argument of issubdtype from `complex` to `np.complexfloating` is deprecated. In future, it will be treated as `np.complex128 == np.dtype(complex).type`.\n",
      "  if np.issubdtype(dtype, complex):\n",
      "WARNING:hyperspy.signal:<EELSSpectrum, title: EELS Spectrum Image, dimensions: (22, 22|2048)> data is replaced by its optimized copy\n"
     ]
    },
    {
     "data": {
      "text/plain": [
       "(22, 22, 2048)"
      ]
     },
     "execution_count": 3,
     "metadata": {},
     "output_type": "execute_result"
    },
    {
     "data": {
      "text/plain": [
       "├── Acquisition_instrument\n",
       "│   └── TEM\n",
       "│       ├── Detector\n",
       "│       │   └── EELS\n",
       "│       │       ├── aperture_size = 5.0\n",
       "│       │       ├── collection_angle = 52.083333333333336\n",
       "│       │       ├── frame_number = 1\n",
       "│       │       └── spectrometer = GIF Abruzzi\n",
       "│       ├── Stage\n",
       "│       │   ├── tilt_alpha = 1.7100000381469727\n",
       "│       │   ├── x = -0.055094000000000004\n",
       "│       │   ├── y = 0.069595796875\n",
       "│       │   └── z = -0.051299\n",
       "│       ├── acquisition_mode = STEM\n",
       "│       ├── beam_current = 0.0\n",
       "│       ├── beam_energy = 200.0\n",
       "│       ├── camera_length = 20.0\n",
       "│       ├── convergence_angle = 4.5\n",
       "│       ├── magnification = 15000000.0\n",
       "│       └── microscope = []\n",
       "├── General\n",
       "│   ├── original_filename = EELS Spectrum Image.dm4\n",
       "│   └── title = EELS Spectrum Image\n",
       "└── Signal\n",
       "    ├── Noise_properties\n",
       "    │   └── Variance_linear_model\n",
       "    │       ├── gain_factor = 1.0\n",
       "    │       └── gain_offset = 0.0\n",
       "    ├── binned = True\n",
       "    ├── quantity = Intensity (Counts)\n",
       "    └── signal_type = EELS"
      ]
     },
     "execution_count": 3,
     "metadata": {},
     "output_type": "execute_result"
    }
   ],
   "source": [
    "folder_path=''\n",
    "file_name='EELS Spectrum Image.dm3'\n",
    "\n",
    "folder_path = 'D:/Books/research/IMAGE/20180110_TMD/'\n",
    "folder_name = '150_3'\n",
    "file_name = folder_path + folder_name + '/EELS Spectrum Image.dm4'\n",
    "raw = hs.load(file_name,signal_type='EELS')\n",
    "#raw = hs.load(folder_path+file_name,signal_type='EELS')\n",
    "data = raw.data\n",
    "np.shape(data)\n",
    "raw.metadata"
   ]
  },
  {
   "cell_type": "code",
   "execution_count": 4,
   "metadata": {
    "collapsed": true
   },
   "outputs": [],
   "source": [
    "count = 0\n",
    "data_shape = np.shape(data)\n",
    "ind_mat = np.zeros(data_shape)\n",
    "for (ind1,ind2,ind3), val in np.ndenumerate(data):\n",
    "    ind_mat[ind1,ind2,ind3] = count\n",
    "    count += 1\n",
    "#print(np.shape(data))\n",
    "\n",
    "h5_data = np.reshape(data,(-1,data_shape[2]))\n",
    "h5_ind = np.reshape(ind_mat,(-1,data_shape[2]))\n",
    "##present the ordering:\n",
    "#make a function to transfer count of the memory order to 3D position.\n",
    "#def getindex(number):\n",
    "#    id1 = number//(data_shape[2]*data_shape[1])\n",
    "#    res1 = number%(data_shape[2]*data_shape[1])\n",
    "#    id2 = res1//data_shape[2]\n",
    "#    id3 = res1 - id2*data_shape[2]\n",
    "#    return (id1,id2,id3)\n",
    "\n",
    "#for i in range(30):\n",
    "#    print(getindex(h5_ind[i,0]))\n"
   ]
  },
  {
   "cell_type": "markdown",
   "metadata": {},
   "source": [
    "# Prepare Ancillary Data and Translate into H5 file:\n",
    "* Create the new file path.\n",
    "* Specify the spectroscopic axis: minimum of the axis, and dispersion\n",
    "* Translate the data into h5 file using **NumpyTranslator**"
   ]
  },
  {
   "cell_type": "code",
   "execution_count": 5,
   "metadata": {},
   "outputs": [
    {
     "name": "stdout",
     "output_type": "stream",
     "text": [
      "The h5 file will be saved in the following path:\n",
      "D:/Books/research/IMAGE/20180110_TMD/150_3/EELS Spectrum Image.h5\n",
      "├── TagGroup0\n",
      "│   ├── Origin = 0.0\n",
      "│   ├── Scale = 0.6330757737159729\n",
      "│   └── Units = nm\n",
      "├── TagGroup1\n",
      "│   ├── Origin = 0.0\n",
      "│   ├── Scale = 0.6330757737159729\n",
      "│   └── Units = nm\n",
      "└── TagGroup2\n",
      "    ├── Origin = 200.0\n",
      "    ├── Scale = 0.05000000074505806\n",
      "    └── Units = eV\n",
      "\n",
      "beam_energy : 200.0\n",
      "convergence_angle : 4.5\n",
      "EELS_collection_angle : 52.083333333333336\n",
      "num_rows : 22\n",
      "num_cols : 22\n",
      "spec_length : 2048\n",
      "spec_axis : [-10.00000015  -9.95000015  -9.90000015 ...  92.25000137  92.30000138\n",
      "  92.35000138]\n",
      "spec_pixel_size : 0.05000000074505806\n",
      "spec_unit : eV\n",
      "spatial_pixel_size : 0.6330757737159729\n",
      "spatial_unit : nm\n"
     ]
    }
   ],
   "source": [
    "h5_path = os.path.join(folder_path, file_name[:-4] + '.h5')\n",
    "print('The h5 file will be saved in the following path:')\n",
    "print(h5_path)\n",
    "\n",
    "image_cal = raw.original_metadata.ImageList.TagGroup0.ImageData.Calibrations.Dimension\n",
    "pos_cal = image_cal.TagGroup0\n",
    "spec_cal = image_cal.TagGroup2\n",
    "print(image_cal)\n",
    "\n",
    "# Generate the x / spectroscopic axis:\n",
    "pos_pixel_size = pos_cal.Scale\n",
    "pos_units = pos_cal.Units\n",
    "\n",
    "\n",
    "spec_pixel_size = spec_cal.Scale\n",
    "spec_min = (0-spec_cal.Origin)*spec_cal.Scale\n",
    "spec_units = spec_cal.Units\n",
    "spec_vec = np.linspace(spec_min, spec_min+spec_pixel_size*(data_shape[2]-1), data_shape[2])\n",
    "\n",
    "\n",
    "# Generate attributes dictionary:\n",
    "parm_dict=dict()\n",
    "tem = raw.metadata.Acquisition_instrument.TEM\n",
    "parm_dict['beam_energy'] = tem.beam_energy\n",
    "parm_dict['convergence_angle'] = tem.convergence_angle\n",
    "parm_dict['EELS_collection_angle']=tem.Detector.EELS.collection_angle\n",
    "parm_dict['num_rows']=data_shape[0]\n",
    "parm_dict['num_cols']=data_shape[1]\n",
    "parm_dict['spec_length']=data_shape[2]\n",
    "parm_dict['spec_axis']=spec_vec\n",
    "parm_dict['spec_pixel_size']=spec_pixel_size\n",
    "parm_dict['spec_unit']=spec_units\n",
    "parm_dict['spatial_pixel_size']=pos_pixel_size\n",
    "parm_dict['spatial_unit']=pos_units\n",
    "for key in parm_dict:\n",
    "    print(key, ':', parm_dict[key])"
   ]
  },
  {
   "cell_type": "code",
   "execution_count": 6,
   "metadata": {
    "collapsed": true
   },
   "outputs": [],
   "source": [
    "tran = px.io.NumpyTranslator()\n",
    "h5_path = tran.translate(h5_path, h5_data, data_shape[0], data_shape[1], \n",
    "                         qty_name='Count', data_unit='', spec_name='Energy Loss',\n",
    "                         spec_unit='eV', spec_val=spec_vec, spatial_unit='um', \n",
    "                         data_type='STS',translator_name='ASC', parms_dict=parm_dict)"
   ]
  },
  {
   "cell_type": "markdown",
   "metadata": {},
   "source": [
    "## Process the raw data:\n",
    "We will initially process the raw data from DM3 file for future analysis. Please be aware that the data is limited to low-loss data so far. If the raw data is core-loss signal, please include additional low-loss data for the ZLP alignment.\n",
    " - The initial process includes:\n",
    "  - ZLP alignment (this file is limited to low-loss data)\n",
    "  - Thickness computing\n",
    "  - ZLP substraction\n",
    "\n",
    "**1. Align ZLP with subpixel accuracy on.**"
   ]
  },
  {
   "cell_type": "code",
   "execution_count": 8,
   "metadata": {},
   "outputs": [
    {
     "name": "stderr",
     "output_type": "stream",
     "text": [
      "D:\\Anaconda3\\lib\\site-packages\\hyperspy\\io.py:341: FutureWarning: Conversion of the second argument of issubdtype from `complex` to `np.complexfloating` is deprecated. In future, it will be treated as `np.complex128 == np.dtype(complex).type`.\n",
      "  if np.issubdtype(dtype, complex):\n"
     ]
    },
    {
     "name": "stdout",
     "output_type": "stream",
     "text": [
      "\n",
      "Initial ZLP position statistics\n",
      "-------------------------------\n",
      "Summary statistics\n",
      "------------------\n",
      "mean:\t0.000\n",
      "std:\t0.008\n",
      "\n",
      "min:\t-0.049\n",
      "Q1:\t0.001\n",
      "median:\t0.001\n",
      "Q3:\t0.001\n",
      "max:\t0.001\n"
     ]
    },
    {
     "data": {
      "application/vnd.jupyter.widget-view+json": {
       "model_id": "0a9f30d513ff417ea7be6ed3d87c4924",
       "version_major": 2,
       "version_minor": 0
      },
      "text/plain": [
       "A Jupyter Widget"
      ]
     },
     "metadata": {},
     "output_type": "display_data"
    },
    {
     "name": "stdout",
     "output_type": "stream",
     "text": [
      "\n"
     ]
    },
    {
     "data": {
      "application/vnd.jupyter.widget-view+json": {
       "model_id": "203fd41241f24659b218c9b8a28b5968",
       "version_major": 2,
       "version_minor": 0
      },
      "text/plain": [
       "A Jupyter Widget"
      ]
     },
     "metadata": {},
     "output_type": "display_data"
    },
    {
     "name": "stdout",
     "output_type": "stream",
     "text": [
      "\n"
     ]
    },
    {
     "data": {
      "application/vnd.jupyter.widget-view+json": {
       "model_id": "3fa366402c2145e39f161ab5fa60ae0c",
       "version_major": 2,
       "version_minor": 0
      },
      "text/plain": [
       "A Jupyter Widget"
      ]
     },
     "metadata": {},
     "output_type": "display_data"
    },
    {
     "name": "stdout",
     "output_type": "stream",
     "text": [
      "\n"
     ]
    },
    {
     "data": {
      "text/plain": [
       "[<matplotlib.lines.Line2D at 0x1b4d9208>]"
      ]
     },
     "execution_count": 8,
     "metadata": {},
     "output_type": "execute_result"
    },
    {
     "data": {
      "text/plain": [
       "Text(0,0.5,'ZLP Positions')"
      ]
     },
     "execution_count": 8,
     "metadata": {},
     "output_type": "execute_result"
    },
    {
     "data": {
      "text/plain": [
       "[]"
      ]
     },
     "execution_count": 8,
     "metadata": {},
     "output_type": "execute_result"
    },
    {
     "data": {
      "text/plain": [
       "(array([], dtype=float64), <a list of 0 Text yticklabel objects>)"
      ]
     },
     "execution_count": 8,
     "metadata": {},
     "output_type": "execute_result"
    },
    {
     "data": {
      "text/plain": [
       "[<matplotlib.lines.Line2D at 0x1b723ac8>]"
      ]
     },
     "execution_count": 8,
     "metadata": {},
     "output_type": "execute_result"
    },
    {
     "data": {
      "text/plain": [
       "<matplotlib.legend.Legend at 0x1b375ef0>"
      ]
     },
     "execution_count": 8,
     "metadata": {},
     "output_type": "execute_result"
    },
    {
     "data": {
      "image/png": "[encoded data removed]",
      "text/plain": [
       "<matplotlib.figure.Figure at 0x1b3775f8>"
      ]
     },
     "metadata": {},
     "output_type": "display_data"
    }
   ],
   "source": [
    "raw.align_zero_loss_peak(subpixel=True)\n",
    "new_axes = raw.axes_manager['Energy loss']\n",
    "new_spec_vec = np.linspace(new_axes.offset, new_axes.offset+new_axes.scale*(new_axes.size-1), new_axes.size)\n",
    "zlp_pos = raw.estimate_zero_loss_peak_centre()\n",
    "zlp_sort = np.sort(zlp_pos,axis=None)\n",
    "plt.plot(zlp_sort)\n",
    "plt.ylabel('ZLP Positions', fontsize=20)\n",
    "plt.gca().set_yticks([])\n",
    "plt.yticks()\n",
    "plt.plot(np.shape(zlp_sort)[0],0,'r+',label='Last point')\n",
    "plt.legend()"
   ]
  },
  {
   "cell_type": "code",
   "execution_count": 9,
   "metadata": {},
   "outputs": [
    {
     "name": "stderr",
     "output_type": "stream",
     "text": [
      "D:\\Anaconda3\\lib\\site-packages\\hyperspy\\io.py:341: FutureWarning: Conversion of the second argument of issubdtype from `complex` to `np.complexfloating` is deprecated. In future, it will be treated as `np.complex128 == np.dtype(complex).type`.\n",
      "  if np.issubdtype(dtype, complex):\n",
      "D:\\Anaconda3\\lib\\site-packages\\hyperspy\\signal.py:1990: FutureWarning: Conversion of the second argument of issubdtype from `complex` to `np.complexfloating` is deprecated. In future, it will be treated as `np.complex128 == np.dtype(complex).type`.\n",
      "  if np.issubdtype(navigator().dtype, complex):\n",
      "D:\\Anaconda3\\lib\\site-packages\\matplotlib\\cbook\\deprecation.py:106: MatplotlibDeprecationWarning: Adding an axes using the same arguments as a previous axes currently reuses the earlier instance.  In a future version, a new instance will always be created and returned.  Meanwhile, this warning can be suppressed, and the future behavior ensured, by passing a unique label to each axes instance.\n",
      "  warnings.warn(message, mplDeprecation, stacklevel=1)\n"
     ]
    },
    {
     "data": {
      "image/png": "[encoded data removed]",
      "text/plain": [
       "<matplotlib.figure.Figure at 0x1b3f0f98>"
      ]
     },
     "metadata": {},
     "output_type": "display_data"
    },
    {
     "data": {
      "image/png": "[encoded data removed]",
      "text/plain": [
       "<matplotlib.figure.Figure at 0x1b5c7b38>"
      ]
     },
     "metadata": {},
     "output_type": "display_data"
    }
   ],
   "source": [
    "raw.plot()"
   ]
  },
  {
   "cell_type": "markdown",
   "metadata": {},
   "source": [
    "**2. Compute the thickness.**"
   ]
  },
  {
   "cell_type": "code",
   "execution_count": 10,
   "metadata": {},
   "outputs": [
    {
     "name": "stderr",
     "output_type": "stream",
     "text": [
      "D:\\Anaconda3\\lib\\site-packages\\hyperspy\\io.py:341: FutureWarning: Conversion of the second argument of issubdtype from `complex` to `np.complexfloating` is deprecated. In future, it will be treated as `np.complex128 == np.dtype(complex).type`.\n",
      "  if np.issubdtype(dtype, complex):\n"
     ]
    },
    {
     "name": "stdout",
     "output_type": "stream",
     "text": [
      "(22, 22)\n"
     ]
    }
   ],
   "source": [
    "thickness = raw.estimate_thickness(0.01).data\n",
    "print(thickness.shape)"
   ]
  },
  {
   "cell_type": "markdown",
   "metadata": {},
   "source": [
    "**3. Extract ZLP signal and get the inelastic signal.**<br>\n",
    "\n",
    "* Remember to translate the data into the format pycroscopy required"
   ]
  },
  {
   "cell_type": "code",
   "execution_count": 11,
   "metadata": {},
   "outputs": [
    {
     "name": "stderr",
     "output_type": "stream",
     "text": [
      "D:\\Anaconda3\\lib\\site-packages\\hyperspy\\io.py:341: FutureWarning: Conversion of the second argument of issubdtype from `complex` to `np.complexfloating` is deprecated. In future, it will be treated as `np.complex128 == np.dtype(complex).type`.\n",
      "  if np.issubdtype(dtype, complex):\n"
     ]
    },
    {
     "name": "stdout",
     "output_type": "stream",
     "text": [
      "Fitting initial Gaussian to determine fitting range\n"
     ]
    },
    {
     "data": {
      "application/vnd.jupyter.widget-view+json": {
       "model_id": "331d1c3508ba426e88ed81ddb4520004",
       "version_major": 2,
       "version_minor": 0
      },
      "text/plain": [
       "A Jupyter Widget"
      ]
     },
     "metadata": {},
     "output_type": "display_data"
    },
    {
     "name": "stdout",
     "output_type": "stream",
     "text": [
      "\n",
      "Mean HWHM of ZLP is 0.42 eV\n",
      "Fitting Signal in range (-10, 6)*HWHM...\n"
     ]
    },
    {
     "data": {
      "application/vnd.jupyter.widget-view+json": {
       "model_id": "f3cd405cbd1641c1885730cf981e10be",
       "version_major": 2,
       "version_minor": 0
      },
      "text/plain": [
       "A Jupyter Widget"
      ]
     },
     "metadata": {},
     "output_type": "display_data"
    },
    {
     "name": "stdout",
     "output_type": "stream",
     "text": [
      "\n",
      "Fit results:\n",
      "Components\tParameter\tValue\n",
      "Gaussian\n",
      "\t\tA\t1.17848e+07\n",
      "\t\tcentre\t0.0424637\n",
      "\t\tsigma\t0.383751\n",
      "Lorentzian\n",
      "\t\tA\t4.15509e+06\n",
      "\t\tcentre\t-0.0679982\n",
      "\t\tgamma\t0.333129\n",
      "\n",
      "Calculating inelastic portion of spectrum:\n"
     ]
    },
    {
     "name": "stderr",
     "output_type": "stream",
     "text": [
      "D:\\Anaconda3\\lib\\site-packages\\hyperspy\\misc\\math_tools.py:61: FutureWarning: Conversion of the second argument of issubdtype from `float` to `np.floating` is deprecated. In future, it will be treated as `np.float64 == np.dtype(float).type`.\n",
      "  return np.issubdtype(number, np.float)\n"
     ]
    },
    {
     "data": {
      "application/vnd.jupyter.widget-view+json": {
       "model_id": "d78bf512ba9e471f8b43cbc6f965b052",
       "version_major": 2,
       "version_minor": 0
      },
      "text/plain": [
       "A Jupyter Widget"
      ]
     },
     "metadata": {},
     "output_type": "display_data"
    },
    {
     "data": {
      "application/vnd.jupyter.widget-view+json": {
       "model_id": "3e47ffa9f659480a86db6a2fe85282e4",
       "version_major": 2,
       "version_minor": 0
      },
      "text/plain": [
       "A Jupyter Widget"
      ]
     },
     "metadata": {},
     "output_type": "display_data"
    },
    {
     "data": {
      "application/vnd.jupyter.widget-view+json": {
       "model_id": "965ec26ca3ca401684cad3a847efd087",
       "version_major": 2,
       "version_minor": 0
      },
      "text/plain": [
       "A Jupyter Widget"
      ]
     },
     "metadata": {},
     "output_type": "display_data"
    },
    {
     "data": {
      "application/vnd.jupyter.widget-view+json": {
       "model_id": "eb919f933ded4203913857f645e605fb",
       "version_major": 2,
       "version_minor": 0
      },
      "text/plain": [
       "A Jupyter Widget"
      ]
     },
     "metadata": {},
     "output_type": "display_data"
    },
    {
     "name": "stdout",
     "output_type": "stream",
     "text": [
      "Calculating ZLP portion of spectrum:\n"
     ]
    },
    {
     "data": {
      "application/vnd.jupyter.widget-view+json": {
       "model_id": "4439390a217e4bd9a356d9fe63cf6f3e",
       "version_major": 2,
       "version_minor": 0
      },
      "text/plain": [
       "A Jupyter Widget"
      ]
     },
     "metadata": {},
     "output_type": "display_data"
    },
    {
     "data": {
      "application/vnd.jupyter.widget-view+json": {
       "model_id": "a99cd84bb1de425c9c73916370bc69f7",
       "version_major": 2,
       "version_minor": 0
      },
      "text/plain": [
       "A Jupyter Widget"
      ]
     },
     "metadata": {},
     "output_type": "display_data"
    },
    {
     "data": {
      "application/vnd.jupyter.widget-view+json": {
       "model_id": "ea812894ff7c4fcdbf35f4423546ae31",
       "version_major": 2,
       "version_minor": 0
      },
      "text/plain": [
       "A Jupyter Widget"
      ]
     },
     "metadata": {},
     "output_type": "display_data"
    },
    {
     "data": {
      "application/vnd.jupyter.widget-view+json": {
       "model_id": "707f51ec5a3d4001b8829937226d44a9",
       "version_major": 2,
       "version_minor": 0
      },
      "text/plain": [
       "A Jupyter Widget"
      ]
     },
     "metadata": {},
     "output_type": "display_data"
    },
    {
     "name": "stdout",
     "output_type": "stream",
     "text": [
      "\"Residual\" mean: nan\n",
      "\"Residual\" std dev: nan\n"
     ]
    }
   ],
   "source": [
    "zlp, sig = extract_ZLP(raw,range_factor=(-10, 6),return_inelastic=True,print_output=True)\n",
    "zlp_data = np.reshape(zlp.data,(-1,zlp.data.shape[2]))\n",
    "sig_data = np.reshape(sig.data,(-1,sig.data.shape[2]))"
   ]
  },
  {
   "cell_type": "code",
   "execution_count": 17,
   "metadata": {},
   "outputs": [
    {
     "data": {
      "text/plain": [
       "├── TagGroup0\n",
       "│   ├── Origin = 0.0\n",
       "│   ├── Scale = 0.6330757737159729\n",
       "│   └── Units = nm\n",
       "├── TagGroup1\n",
       "│   ├── Origin = 0.0\n",
       "│   ├── Scale = 0.6330757737159729\n",
       "│   └── Units = nm\n",
       "└── TagGroup2\n",
       "    ├── Origin = 200.0\n",
       "    ├── Scale = 0.05000000074505806\n",
       "    └── Units = eV"
      ]
     },
     "execution_count": 17,
     "metadata": {},
     "output_type": "execute_result"
    }
   ],
   "source": [
    "raw.original_metadata.ImageList.TagGroup0.ImageData.Calibrations.Dimension"
   ]
  },
  {
   "cell_type": "code",
   "execution_count": 73,
   "metadata": {},
   "outputs": [
    {
     "name": "stdout",
     "output_type": "stream",
     "text": [
      "Found it! (15,11,143)\n"
     ]
    },
    {
     "name": "stdout",
     "output_type": "stream",
     "text": [
      "Found it! (15,14,222)\n"
     ]
    }
   ],
   "source": [
    "# Next, impute the missing values\n",
    "test = deepcopy(sig)\n",
    "t = test.data\n",
    "sp = np.shape(test.data)\n",
    "for i in range(sp[0]):\n",
    "    for j in range(sp[1]):\n",
    "        for k in range(sp[2]):\n",
    "            if np.isnan(test.data[i,j,k]):\n",
    "                print('Found nan! ({},{},{})'.format(i,j,k))"
   ]
  },
  {
   "cell_type": "code",
   "execution_count": 95,
   "metadata": {
    "collapsed": true
   },
   "outputs": [],
   "source": [
    "t[np.isnan(t)]=0\n",
    "sig.plot()"
   ]
  },
  {
   "cell_type": "markdown",
   "metadata": {},
   "source": [
    "# Load and write H5 data:\n",
    "* Use **ioHDF5** to read/write H5 data.\n",
    "* Use **MicroDataset** and **MicroDatagroup** to manage the data and build the tree structure.\n",
    "    - Tips: Remember to assign the original `Attibute` data and `Ancillary` data."
   ]
  },
  {
   "cell_type": "code",
   "execution_count": 13,
   "metadata": {},
   "outputs": [
    {
     "name": "stdout",
     "output_type": "stream",
     "text": [
      "Tree structure within the file:\n",
      "/\n",
      "Measurement_000\n",
      "Measurement_000/Channel_000\n",
      "Measurement_000/Channel_000/Position_Indices\n",
      "Measurement_000/Channel_000/Position_Values\n",
      "Measurement_000/Channel_000/Raw_Data\n",
      "Measurement_000/Channel_000/Spectroscopic_Indices\n",
      "Measurement_000/Channel_000/Spectroscopic_Values\n",
      "The dataset will be appended to the H5 file under the group: Measurement_000/Channel_000/Processed\n"
     ]
    }
   ],
   "source": [
    "# Open the file\n",
    "hdf = px.ioHDF5(h5_path)\n",
    "h5_file = hdf.file\n",
    "h5_main = h5_file['Measurement_000/Channel_000/Raw_Data']\n",
    "h5_pos_ind = h5_file['Measurement_000/Channel_000/Position_Indices']\n",
    "h5_pos_val = h5_file['Measurement_000/Channel_000/Position_Values']\n",
    "h5_spec_ind = h5_file['Measurement_000/Channel_000/Spectroscopic_Indices']\n",
    "h5_spec_val = h5_file['Measurement_000/Channel_000/Spectroscopic_Values']\n",
    "\n",
    "# Visualize the tree structure in the file\n",
    "print('Tree structure within the file:')\n",
    "px.hdf_utils.print_tree(h5_file)\n",
    "\n",
    "#new_pos_ind, new_pos_val = px.io.translators.utils.build_ind_val_dsets([data_shape[0], data_shape[1]], is_spectral=False,labels=['Y', 'X'], \n",
    "#                                                                       units=[pos_units, pos_units],verbose=False)\n",
    "\n",
    "new_spec_inds, new_spec_vals = px.io.translators.utils.build_ind_val_dsets([new_axes.size], is_spectral=True,\n",
    "                                                                           labels=['Energy loss'], units=[new_axes.units], \n",
    "                                                                           verbose=False)\n",
    "\n",
    "# Create three main datasets with four ancillary datasets\n",
    "ds_proc = px.MicroDataset('Processed_Data', sig_data, dtype=h5_main.dtype)\n",
    "px.hdf_utils.copy_main_attributes(h5_main, ds_proc)\n",
    "ds_pos_ind = px.MicroDataset('Position_Indices', h5_pos_ind[()], dtype=h5_pos_ind.dtype)\n",
    "px.hdf_utils.copy_main_attributes(h5_pos_ind, ds_pos_ind)\n",
    "ds_pos_val = px.MicroDataset('Position_Values', h5_pos_val[()], dtype=h5_pos_val.dtype)\n",
    "px.hdf_utils.copy_main_attributes(h5_pos_val, ds_pos_val)\n",
    "ds_spec_ind = px.MicroDataset('Spectroscopic_Indices', new_spec_inds[()], dtype=h5_spec_ind.dtype)\n",
    "px.hdf_utils.copy_main_attributes(h5_spec_ind, ds_spec_ind)\n",
    "ds_spec_val = px.MicroDataset('Spectroscopic_Values', np.array([new_spec_vec]), dtype=h5_spec_val.dtype)\n",
    "px.hdf_utils.copy_main_attributes(h5_spec_val, ds_spec_val)\n",
    "\n",
    "ds_zlp = px.MicroDataset('Zero_Loss_Peak', zlp_data, dtype=h5_main.dtype)\n",
    "px.hdf_utils.copy_main_attributes(h5_main, ds_zlp)\n",
    "    \n",
    "ds_thickness = px.MicroDataset('Thickness', thickness, dtype=h5_main.dtype)\n",
    "\n",
    "\n",
    "\n",
    "# Add the datasets to the Group\n",
    "#source_dset_name = h5_main.parent.name.split('/')[-1]\n",
    "subtree_root_path = h5_main.parent.name[1:]\n",
    "\n",
    "h5_grp = px.MicroDataGroup('Processed', subtree_root_path)\n",
    "print('The dataset will be appended to the H5 file under the group:', subtree_root_path+'/Processed')\n",
    "\n",
    "h5_grp.addChildren([ds_proc, ds_zlp, ds_thickness, ds_pos_ind, ds_pos_val, ds_spec_ind, ds_spec_val])"
   ]
  },
  {
   "cell_type": "markdown",
   "metadata": {},
   "source": [
    "# Write to H5 file and get reference to access the written objects:"
   ]
  },
  {
   "cell_type": "code",
   "execution_count": 14,
   "metadata": {},
   "outputs": [
    {
     "name": "stdout",
     "output_type": "stream",
     "text": [
      "Created group /Measurement_000/Channel_000/Processed\n",
      "Writing attribute: machine_id with value: LakerHoo-PC\n",
      "Writing attribute: timestamp with value: 2018_01_30-15_02_33\n",
      "Wrote attributes to group: Processed \n",
      "\n",
      "Created Dataset /Measurement_000/Channel_000/Processed/Processed_Data\n",
      "Writing attribute: quantity with value: Count\n",
      "Wrote Attributes of Dataset Processed_Data \n",
      "\n",
      "Writing attribute: units with value: \n",
      "Wrote Attributes of Dataset Processed_Data \n",
      "\n",
      "Created Dataset /Measurement_000/Channel_000/Processed/Zero_Loss_Peak\n",
      "Writing attribute: quantity with value: Count\n",
      "Wrote Attributes of Dataset Zero_Loss_Peak \n",
      "\n",
      "Writing attribute: units with value: \n",
      "Wrote Attributes of Dataset Zero_Loss_Peak \n",
      "\n",
      "Created Dataset /Measurement_000/Channel_000/Processed/Thickness\n",
      "Created Dataset /Measurement_000/Channel_000/Processed/Position_Indices\n",
      "Writing attribute: quantity with value: Unknown\n",
      "Wrote Attributes of Dataset Position_Indices \n",
      "\n",
      "Writing attribute: units with value: [b'um' b'um']\n",
      "Wrote Attributes of Dataset Position_Indices \n",
      "\n",
      "Created Dataset /Measurement_000/Channel_000/Processed/Position_Values\n",
      "Writing attribute: quantity with value: Unknown\n",
      "Wrote Attributes of Dataset Position_Values \n",
      "\n",
      "Writing attribute: units with value: [b'um' b'um']\n",
      "Wrote Attributes of Dataset Position_Values \n",
      "\n",
      "Created Dataset /Measurement_000/Channel_000/Processed/Spectroscopic_Indices\n",
      "Writing attribute: quantity with value: Unknown\n",
      "Wrote Attributes of Dataset Spectroscopic_Indices \n",
      "\n",
      "Writing attribute: units with value: [b'eV']\n",
      "Wrote Attributes of Dataset Spectroscopic_Indices \n",
      "\n",
      "Created Dataset /Measurement_000/Channel_000/Processed/Spectroscopic_Values\n",
      "Writing attribute: quantity with value: Unknown\n",
      "Wrote Attributes of Dataset Spectroscopic_Values \n",
      "\n",
      "Writing attribute: units with value: [b'eV']\n",
      "Wrote Attributes of Dataset Spectroscopic_Values \n",
      "\n",
      "Finished writing to h5 file.\n",
      "Right now you got yourself a fancy folder structure. \n",
      "Make sure you do some reference linking to take advantage of the full power of HDF5.\n",
      "/\n",
      "Measurement_000\n",
      "Measurement_000/Channel_000\n",
      "Measurement_000/Channel_000/Position_Indices\n",
      "Measurement_000/Channel_000/Position_Values\n",
      "Measurement_000/Channel_000/Processed\n",
      "Measurement_000/Channel_000/Processed/Position_Indices\n",
      "Measurement_000/Channel_000/Processed/Position_Values\n",
      "Measurement_000/Channel_000/Processed/Processed_Data\n",
      "Measurement_000/Channel_000/Processed/Spectroscopic_Indices\n",
      "Measurement_000/Channel_000/Processed/Spectroscopic_Values\n",
      "Measurement_000/Channel_000/Processed/Thickness\n",
      "Measurement_000/Channel_000/Processed/Zero_Loss_Peak\n",
      "Measurement_000/Channel_000/Raw_Data\n",
      "Measurement_000/Channel_000/Spectroscopic_Indices\n",
      "Measurement_000/Channel_000/Spectroscopic_Values\n"
     ]
    }
   ],
   "source": [
    "h5_clust_refs = hdf.writeData(h5_grp, print_log=True)\n",
    "ref_sig = px.hdf_utils.getH5DsetRefs(['Processed_Data'], h5_clust_refs)[0]\n",
    "ref_zlp = px.hdf_utils.getH5DsetRefs(['Zero_Loss_Peak'], h5_clust_refs)[0]\n",
    "ref_pos_ind = px.hdf_utils.getH5DsetRefs(['Position_Indices'], h5_clust_refs)[0]\n",
    "ref_pos_val = px.hdf_utils.getH5DsetRefs(['Position_Values'], h5_clust_refs)[0]\n",
    "ref_spec_ind = px.hdf_utils.getH5DsetRefs(['Spectroscopic_Indices'], h5_clust_refs)[0]\n",
    "ref_spec_val = px.hdf_utils.getH5DsetRefs(['Spectroscopic_Values'], h5_clust_refs)[0]\n",
    "\n",
    "px.hdf_utils.print_tree(h5_file)"
   ]
  },
  {
   "cell_type": "markdown",
   "metadata": {},
   "source": [
    "# Link the two new datasets to the four `Ancillary` datasets dataset:\n",
    "* These two datasets will be the `main` dataset after linking."
   ]
  },
  {
   "cell_type": "code",
   "execution_count": 15,
   "metadata": {
    "collapsed": true
   },
   "outputs": [],
   "source": [
    "# we already got the reference to the spectroscopic values in the first few cells\n",
    "#h5_spec_inds = px.hdf_utils.getAuxData(h5_main, 'Spectroscopic_Indices')[0]\n",
    "\n",
    "px.hdf_utils.checkAndLinkAncillary(ref_sig,\n",
    "                      ['Position_Indices', 'Position_Values'],\n",
    "                      anc_refs=[ref_pos_ind,ref_pos_val])\n",
    "px.hdf_utils.checkAndLinkAncillary(ref_sig,\n",
    "                      ['Spectroscopic_Indices', 'Spectroscopic_Values'],\n",
    "                      anc_refs=[ref_spec_ind, ref_spec_val])\n",
    "\n",
    "px.hdf_utils.checkAndLinkAncillary(ref_zlp,\n",
    "                      ['Position_Indices', 'Position_Values'],\n",
    "                      anc_refs=[ref_pos_ind,ref_pos_val])\n",
    "px.hdf_utils.checkAndLinkAncillary(ref_zlp,\n",
    "                      ['Spectroscopic_Indices', 'Spectroscopic_Values'],\n",
    "                      anc_refs=[ref_spec_ind, ref_spec_val])"
   ]
  },
  {
   "cell_type": "markdown",
   "metadata": {},
   "source": [
    "# Verify the new H5 file:\n",
    "* We will perform a map of certain eV to check this file. (remember to set the check point in EELS)\n",
    "* Then we will plot a EELS signal at certain spatial point. (set the spatial point)"
   ]
  },
  {
   "cell_type": "code",
   "execution_count": 16,
   "metadata": {},
   "outputs": [
    {
     "name": "stdout",
     "output_type": "stream",
     "text": [
      "/\n",
      "Measurement_000\n",
      "Measurement_000/Channel_000\n",
      "Measurement_000/Channel_000/Position_Indices\n",
      "Measurement_000/Channel_000/Position_Values\n",
      "Measurement_000/Channel_000/Processed\n",
      "Measurement_000/Channel_000/Processed/Position_Indices\n",
      "Measurement_000/Channel_000/Processed/Position_Values\n",
      "Measurement_000/Channel_000/Processed/Processed_Data\n",
      "Measurement_000/Channel_000/Processed/Spectroscopic_Indices\n",
      "Measurement_000/Channel_000/Processed/Spectroscopic_Values\n",
      "Measurement_000/Channel_000/Processed/Thickness\n",
      "Measurement_000/Channel_000/Processed/Zero_Loss_Peak\n",
      "Measurement_000/Channel_000/Raw_Data\n",
      "Measurement_000/Channel_000/Spectroscopic_Indices\n",
      "Measurement_000/Channel_000/Spectroscopic_Values\n"
     ]
    },
    {
     "data": {
      "text/plain": [
       "(<matplotlib.image.AxesImage at 0x19e35080>,\n",
       " <matplotlib.colorbar.Colorbar at 0x19e35048>)"
      ]
     },
     "execution_count": 16,
     "metadata": {},
     "output_type": "execute_result"
    },
    {
     "data": {
      "text/plain": [
       "Text(0.5,1,'Raw signal map at 28.5 eV')"
      ]
     },
     "execution_count": 16,
     "metadata": {},
     "output_type": "execute_result"
    },
    {
     "data": {
      "text/plain": [
       "Text(0.5,0,'X')"
      ]
     },
     "execution_count": 16,
     "metadata": {},
     "output_type": "execute_result"
    },
    {
     "data": {
      "text/plain": [
       "Text(0,0.5,'Y')"
      ]
     },
     "execution_count": 16,
     "metadata": {},
     "output_type": "execute_result"
    },
    {
     "data": {
      "text/plain": [
       "[<matplotlib.lines.Line2D at 0x19e60710>]"
      ]
     },
     "execution_count": 16,
     "metadata": {},
     "output_type": "execute_result"
    },
    {
     "data": {
      "text/plain": [
       "Text(0.5,1,'Raw EELS at a single pixel: (11.0,11.0)')"
      ]
     },
     "execution_count": 16,
     "metadata": {},
     "output_type": "execute_result"
    },
    {
     "data": {
      "text/plain": [
       "Text(0.5,0,'Energy Loss (eV)')"
      ]
     },
     "execution_count": 16,
     "metadata": {},
     "output_type": "execute_result"
    },
    {
     "data": {
      "text/plain": [
       "Text(0,0.5,'Counts')"
      ]
     },
     "execution_count": 16,
     "metadata": {},
     "output_type": "execute_result"
    },
    {
     "data": {
      "text/plain": [
       "[]"
      ]
     },
     "execution_count": 16,
     "metadata": {},
     "output_type": "execute_result"
    },
    {
     "data": {
      "text/plain": [
       "(<matplotlib.image.AxesImage at 0x19e7b4a8>,\n",
       " <matplotlib.colorbar.Colorbar at 0x19ec05f8>)"
      ]
     },
     "execution_count": 16,
     "metadata": {},
     "output_type": "execute_result"
    },
    {
     "data": {
      "text/plain": [
       "Text(0.5,1,'Thickness map at 28.5 eV')"
      ]
     },
     "execution_count": 16,
     "metadata": {},
     "output_type": "execute_result"
    },
    {
     "data": {
      "text/plain": [
       "Text(0.5,0,'X')"
      ]
     },
     "execution_count": 16,
     "metadata": {},
     "output_type": "execute_result"
    },
    {
     "data": {
      "text/plain": [
       "Text(0,0.5,'Y')"
      ]
     },
     "execution_count": 16,
     "metadata": {},
     "output_type": "execute_result"
    },
    {
     "data": {
      "text/plain": [
       "[<matplotlib.lines.Line2D at 0x19e9c0f0>]"
      ]
     },
     "execution_count": 16,
     "metadata": {},
     "output_type": "execute_result"
    },
    {
     "data": {
      "text/plain": [
       "Text(0.5,1,'Inelastic EELS signal at : (11.0,11.0)')"
      ]
     },
     "execution_count": 16,
     "metadata": {},
     "output_type": "execute_result"
    },
    {
     "data": {
      "text/plain": [
       "Text(0.5,0,'Energy Loss (eV)')"
      ]
     },
     "execution_count": 16,
     "metadata": {},
     "output_type": "execute_result"
    },
    {
     "data": {
      "text/plain": [
       "Text(0,0.5,'Counts')"
      ]
     },
     "execution_count": 16,
     "metadata": {},
     "output_type": "execute_result"
    },
    {
     "data": {
      "text/plain": [
       "[]"
      ]
     },
     "execution_count": 16,
     "metadata": {},
     "output_type": "execute_result"
    },
    {
     "data": {
      "image/png": "[encoded data removed]",
      "text/plain": [
       "<matplotlib.figure.Figure at 0x1a500e10>"
      ]
     },
     "metadata": {},
     "output_type": "display_data"
    }
   ],
   "source": [
    "with h5py.File(h5_path, mode='r') as h5_file:\n",
    "    # See if a tree has been created within the hdf5 file:\n",
    "    px.hdf_utils.print_tree(h5_file)\n",
    "\n",
    "    h5_proc = h5_file['Measurement_000/Channel_000/Processed/Processed_Data']\n",
    "    h5_thick = h5_file['Measurement_000/Channel_000/Processed/Thickness'] \n",
    "    h5_main = h5_file['Measurement_000/Channel_000/Raw_Data']\n",
    "    fig, axes = plt.subplots(nrows=2, ncols=2, figsize=(18, 12))\n",
    "    \n",
    "    ## 1st row for Plot Raw_Data\n",
    "    # set check point in EELS to do the map:\n",
    "    spec_point = 28.5\n",
    "    data_point = (spec_point-spec_min)//spec_pixel_size + 1\n",
    "    #print(data_point)\n",
    "    #h5_main[()].shape\n",
    "    spat_map = np.reshape(h5_main[:, data_point], (data_shape[0], data_shape[1]))\n",
    "    px.plot_utils.plot_map(axes[0,0],spat_map, origin='lower')\n",
    "    axes[0,0].set_title('Raw signal map at ' + str(spec_point) + ' eV')\n",
    "    axes[0,0].set_xlabel('X')\n",
    "    axes[0,0].set_ylabel('Y')  \n",
    "    #set spatial point to check EELS:\n",
    "    spat_point = [np.floor(data_shape[0]/2),np.floor(data_shape[1]/2)]\n",
    "    axes[0,1].plot(np.linspace(spec_min, spec_min+spec_pixel_size*(h5_main.shape[1]-1), h5_main.shape[1]),\n",
    "                 h5_main[spat_point[0]*data_shape[1]+spat_point[1]])\n",
    "    axes[0,1].set_title('Raw EELS at a single pixel:'+' ('+str(spat_point[0])+','+str(spat_point[1])+')')\n",
    "    axes[0,1].set_xlabel('Energy Loss (eV)')\n",
    "    axes[0,1].set_ylabel('Counts');\n",
    "    axes[0,1].set_yticks([])\n",
    "    \n",
    "    ## 2st row for Plot Processed_Data\n",
    "    # set check point in EELS to do the map:\n",
    "    spec_point = 28.5\n",
    "    data_point = (spec_point-spec_min)//spec_pixel_size + 1\n",
    "    #print(data_point)\n",
    "    #h5_proc[()].shape\n",
    "    #spat_map = np.reshape(h5_proc[:, data_point], (data_shape[0], data_shape[1]))\n",
    "    px.plot_utils.plot_map(axes[1,0],h5_thick, origin='lower')\n",
    "    axes[1,0].set_title('Thickness map at ' + str(spec_point) + ' eV')\n",
    "    axes[1,0].set_xlabel('X')\n",
    "    axes[1,0].set_ylabel('Y')\n",
    "    #set spatial point to check EELS:\n",
    "    spat_point = [np.floor(data_shape[0]/2),np.floor(data_shape[1]/2)]\n",
    "    axes[1,1].plot(np.linspace(spec_min, spec_min+spec_pixel_size*(h5_proc.shape[1]-1), h5_proc.shape[1]),\n",
    "                 h5_proc[spat_point[0]*data_shape[1]+spat_point[1]],'r')\n",
    "    axes[1,1].set_title('Inelastic EELS signal at :'+' ('+str(spat_point[0])+','+str(spat_point[1])+')')\n",
    "    axes[1,1].set_xlabel('Energy Loss (eV)')\n",
    "    axes[1,1].set_ylabel('Counts');\n",
    "    axes[1,1].set_yticks([])"
   ]
  },
  {
   "cell_type": "code",
   "execution_count": null,
   "metadata": {
    "collapsed": true
   },
   "outputs": [],
   "source": []
  }
 ],
 "metadata": {
  "kernelspec": {
   "display_name": "Python 3",
   "language": "python",
   "name": "python3"
  },
  "language_info": {
   "codemirror_mode": {
    "name": "ipython",
    "version": 3
   },
   "file_extension": ".py",
   "mimetype": "text/x-python",
   "name": "python",
   "nbconvert_exporter": "python",
   "pygments_lexer": "ipython3",
   "version": "3.6.4"
  }
 },
 "nbformat": 4,
 "nbformat_minor": 2
}
